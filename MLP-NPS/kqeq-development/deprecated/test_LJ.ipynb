{
 "cells": [
  {
   "cell_type": "code",
   "execution_count": 32,
   "id": "velvet-blair",
   "metadata": {},
   "outputs": [],
   "source": [
    "from __future__ import print_function\n",
    "from ase.io import *\n",
    "import numpy as np\n",
    "from ase.units import Hartree,Bohr\n",
    "from ase.data import covalent_radii, chemical_symbols\n",
    "from kqeq.data import uff_xi_vdw, uff_Di_vdw, uff_Xi_qeq\n",
    "kcal2hartree = 0.0015936010974213599\n"
   ]
  },
  {
   "cell_type": "code",
   "execution_count": 33,
   "id": "further-infrastructure",
   "metadata": {},
   "outputs": [],
   "source": [
    "mols_train = read(\"data/LiH_dipoles.xyz@:200\",format='extxyz')\n",
    "mols_valid = read(\"data/LiH_dipoles.xyz@200:\",format='extxyz')"
   ]
  },
  {
   "cell_type": "code",
   "execution_count": 34,
   "id": "champion-jenny",
   "metadata": {},
   "outputs": [],
   "source": [
    "def num_grad(mol,h=0.001,direction=0,iatom=0):\n",
    "    tmpmol = mol.copy()\n",
    "    pos = tmpmol.get_positions()\n",
    "    pos[iatom][direction] += h\n",
    "    tmpmol.set_positions(pos)\n",
    "    Eplus,f = calc_LJ(tmpmol)\n",
    "    pos[iatom][direction] += -2.0*h\n",
    "    tmpmol.set_positions(pos)\n",
    "    Eminus,f = calc_LJ(tmpmol)\n",
    "    pos[iatom][direction] += h\n",
    "    tmpmol.set_positions(pos)\n",
    "    return (Eplus-Eminus)/(2.0*h)\n",
    "\n",
    "def num_grads(mol,h=0.001):\n",
    "    f = np.zeros((len(mol),3))\n",
    "    for i in range(len(mol)):\n",
    "        for direction in range(3):\n",
    "            f[i,direction] = num_grad(mol,h=h,direction=direction,iatom=i)\n",
    "    return f"
   ]
  },
  {
   "cell_type": "code",
   "execution_count": 41,
   "id": "vocal-founder",
   "metadata": {},
   "outputs": [],
   "source": [
    "def calc_LJ(mol):\n",
    "    xyz = mol.get_positions()/Bohr\n",
    "    atoms = mol.get_atomic_numbers()\n",
    "    nAt = len(atoms)\n",
    "\n",
    "    xi_LJ = [] \n",
    "    Di_LJ = []\n",
    "    for El in atoms:\n",
    "        xi_LJ.append(uff_xi_vdw[chemical_symbols[El]]/Bohr)\n",
    "        Di_LJ.append(uff_Di_vdw[chemical_symbols[El]]*kcal2hartree)\n",
    "    xi_LJ = np.array(xi_LJ)\n",
    "    Di_LJ = np.array(Di_LJ)\n",
    "    \n",
    "    E = 0.0\n",
    "    f = np.zeros((nAt,3))\n",
    "    for i in range(nAt):\n",
    "        for j in range(i):\n",
    "            rvec = xyz[i] - xyz[j]\n",
    "            rij = np.linalg.norm(rvec)\n",
    "\n",
    "            Dij = np.sqrt(Di_LJ[i]*Di_LJ[j])\n",
    "            xij = np.sqrt(xi_LJ[i]*xi_LJ[j])\n",
    "            xr6  = (xij/rij)**6\n",
    "            xr12 = xr6**2\n",
    "            E += Dij*(-2.*xr6+xr12)\n",
    "                \n",
    "            #Forces\n",
    "            dVdr = 12.*(Dij/rij)*(xr6-xr12)\n",
    "            f[i,:] +=  -dVdr/rij * rvec\n",
    "            f[j,:] +=   dVdr/rij * rvec\n",
    "            print(f)\n",
    "                \n",
    "    return E*Hartree,f*(Hartree/Bohr)"
   ]
  },
  {
   "cell_type": "code",
   "execution_count": 42,
   "id": "insured-shannon",
   "metadata": {},
   "outputs": [
    {
     "name": "stdout",
     "output_type": "stream",
     "text": [
      "[[ 0.00012898  0.00464912 -0.00475114]\n",
      " [-0.00012898 -0.00464912  0.00475114]]\n",
      "[[ 0.0066325   0.2390673  -0.24431321]\n",
      " [-0.0066325  -0.2390673   0.24431321]]\n"
     ]
    }
   ],
   "source": [
    "mol = mols_train[1]\n",
    "E,f = calc_LJ(mol)\n",
    "print(f)"
   ]
  },
  {
   "cell_type": "code",
   "execution_count": 39,
   "id": "exposed-wound",
   "metadata": {},
   "outputs": [
    {
     "name": "stdout",
     "output_type": "stream",
     "text": [
      "[[-0.0066325  -0.23906731  0.24431321]\n",
      " [ 0.0066325   0.23906731 -0.24431321]]\n"
     ]
    }
   ],
   "source": [
    "fnum = num_grads(mol,h=0.0001)\n",
    "print(fnum)"
   ]
  },
  {
   "cell_type": "code",
   "execution_count": 40,
   "id": "breathing-update",
   "metadata": {},
   "outputs": [
    {
     "data": {
      "text/plain": [
       "array([[-0.99999998, -1.00000003, -1.00000004],\n",
       "       [-0.99999998, -1.00000003, -1.00000004]])"
      ]
     },
     "execution_count": 40,
     "metadata": {},
     "output_type": "execute_result"
    }
   ],
   "source": [
    "fnum/f"
   ]
  },
  {
   "cell_type": "code",
   "execution_count": null,
   "id": "distinct-configuration",
   "metadata": {},
   "outputs": [],
   "source": []
  }
 ],
 "metadata": {
  "kernelspec": {
   "display_name": "Python 3 (ipykernel)",
   "language": "python",
   "name": "python3"
  },
  "language_info": {
   "codemirror_mode": {
    "name": "ipython",
    "version": 3
   },
   "file_extension": ".py",
   "mimetype": "text/x-python",
   "name": "python",
   "nbconvert_exporter": "python",
   "pygments_lexer": "ipython3",
   "version": "3.8.9"
  }
 },
 "nbformat": 4,
 "nbformat_minor": 5
}
