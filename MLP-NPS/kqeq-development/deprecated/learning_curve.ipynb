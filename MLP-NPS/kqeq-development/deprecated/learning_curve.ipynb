{
 "cells": [
  {
   "cell_type": "code",
   "execution_count": 1,
   "id": "electrical-spotlight",
   "metadata": {},
   "outputs": [],
   "source": [
    "from __future__ import print_function\n",
    "from ase.io import *\n",
    "import numpy as np\n",
    "from ase.units import Bohr\n",
    "from kqeq import kernel_qeq, get_dipoles\n",
    "from kqeq.kernel import kernel\n",
    "import time"
   ]
  },
  {
   "cell_type": "code",
   "execution_count": 2,
   "id": "friendly-perry",
   "metadata": {},
   "outputs": [],
   "source": [
    "# This uses a fixed seed to get the same 'random' set every time\n",
    "def randomize_dataset(dataset):\n",
    "    nmols = len(dataset)\n",
    "    indices = np.arange(nmols)\n",
    "    np.random.seed(42) \n",
    "    np.random.shuffle(indices)\n",
    "    newset = []\n",
    "    for i in indices:\n",
    "        newset.append(dataset[i])\n",
    "    return newset"
   ]
  },
  {
   "cell_type": "code",
   "execution_count": 3,
   "id": "worldwide-defeat",
   "metadata": {},
   "outputs": [],
   "source": [
    "# Get data (and randomize training)\n",
    "mols_train = read(\"data/carsten_data/QMtrain.xyz@:\",format='extxyz')\n",
    "mols_train = randomize_dataset(mols_train)\n",
    "mols_valid = read(\"data/carsten_data/ValQM9.xyz@:\",format='extxyz')\n",
    "mols_test  = read(\"data/carsten_data/TestQM9.xyz@:\",format='extxyz')\n"
   ]
  },
  {
   "cell_type": "markdown",
   "id": "destroyed-aspect",
   "metadata": {},
   "source": [
    "This notebook can be used to make learning curves. There are some differences to the API, which I added to accelerate training and validation and/or increase accuracy:\n",
    "\n",
    "1) Kernels are now redefined for every training set. This is because I implemented an option to pass training and validation sets to the Kernel object, so that these SOAP vectors don't have to be recomputed every time. This is probably not really necessary in the long run, since the Kernel generation is not rate limiting. The old syntax should still work (at least the tutorial still runs). I guess the old way may be preferable, since it avoids errors when hyperparameters are changed at one point of the kernel but not the other (e.g. between training and prediction). I try to avoid this by defining all hypers as variables in a single place in the notebook.\n",
    "\n",
    "2) There is now an radius_type option for the kqeq object, which can be 'rcov' (old default) or 'qeq'. Using scaled radii from the original qeq seems preferable and should become the default in the future. I use this here. Be careful not to mix radius_type or scale_atsize between training and prediction.\n",
    "\n",
    "3) The kqeq object now also accepts a validation set, which allows precomputing the corresponding hardness matrix. The predict method has a kerneltype option, which takes advantage of the precomputed descriptors in the kernel object.\n",
    "\n",
    "4) The linear algebra routines in the training method have been revamped and are much faster now (factor 4 in my experience). This is the most important change, since training time was actually rate determining (perhaps surprisingly).  "
   ]
  },
  {
   "cell_type": "code",
   "execution_count": 4,
   "id": "republican-instruction",
   "metadata": {},
   "outputs": [
    {
     "name": "stdout",
     "output_type": "stream",
     "text": [
      "5285\n",
      "1000\n",
      "1000\n"
     ]
    }
   ],
   "source": [
    "print(len(mols_train))\n",
    "print(len(mols_valid))\n",
    "print(len(mols_test))"
   ]
  },
  {
   "cell_type": "code",
   "execution_count": 5,
   "id": "opposite-speech",
   "metadata": {},
   "outputs": [],
   "source": [
    "# Functions for Error measures (note the Debye conversion factor in second function)\n",
    "def calc_MAE(dip1,dip2):\n",
    "    return np.mean(np.abs(dip1-dip2))\n",
    "\n",
    "def calc_MAE_abs_dipole_debye(dip1,dip2):\n",
    "    n_dipoles = int(len(dip1)/3)\n",
    "    dipoles1 = np.reshape(dip1,(n_dipoles,3))\n",
    "    dipoles2 = np.reshape(dip2,(n_dipoles,3))\n",
    "    return (np.mean(np.abs(np.linalg.norm(dipoles1,axis=1)-np.linalg.norm(dipoles2,axis=1))))*2.541746229\n",
    "\n",
    "    "
   ]
  },
  {
   "cell_type": "code",
   "execution_count": 6,
   "id": "classified-rider",
   "metadata": {},
   "outputs": [
    {
     "name": "stdout",
     "output_type": "stream",
     "text": [
      "# ntrain lambda  MAE_valid  MAE_train\n",
      "100 0.1 0.5012537618722863 0.23308817846251145 70.8843719959259\n",
      "200 0.001 0.2833512796929807 0.10620316399971601 180.66273760795593\n"
     ]
    }
   ],
   "source": [
    "# Learning curve loop\n",
    "min_mae_train = []\n",
    "min_mae_val   = []\n",
    "min_reg       = []\n",
    "\n",
    "# Global definition of hypers up here, to avoid errors:\n",
    "r_cut  = 1.75\n",
    "lmax = 2\n",
    "nmax = 6\n",
    "scale_atom = 0.75\n",
    "radius_type = 'qeq'\n",
    "\n",
    "print('# ntrain lambda  MAE_valid  MAE_train')\n",
    "for ntrain in [100,200]:\n",
    "    desdict = {\"nmax\" : nmax,\n",
    "           \"lmax\" : lmax,\n",
    "           \"rcut\" : r_cut,\n",
    "           \"sigma\": r_cut/8.,\n",
    "           \"periodic\": False}\n",
    "    \n",
    "    t0 = time.time()\n",
    "    SOAP_Kernel = kernel(Kernel='SOAP',Descriptor='SOAP',multi_SOAP=False,descriptor_dict=desdict,training_set=mols_train[:ntrain],validation_set=mols_valid)\n",
    "    #print('kernel setup in',time.time()-t0)\n",
    "    \n",
    "    # Get reference values from atoms objects\n",
    "    dipoles_v_ref = get_dipoles(mols_valid)\n",
    "    dipoles_t_ref = get_dipoles(mols_train[:ntrain])\n",
    "\n",
    "    #t0 = time.time()\n",
    "    my_kqeq = kernel_qeq(training_set=mols_train[:ntrain],validation_set=mols_valid,Kernel=SOAP_Kernel,scale_atsize=scale_atom,radius_type=radius_type)\n",
    "    #print('kqeq setup in',time.time()-t0)\n",
    "\n",
    "    minval   = 1e7\n",
    "    minreg   = 0.0\n",
    "    #t0 = time.time()\n",
    "    for lambda_reg in [1e-3,5e-3,1e-2,5e-2,1e-1]:\n",
    "        # Train a model with a given regularization parameter\n",
    "        my_kqeq.train(lambda_reg=lambda_reg)\n",
    "        #print('training done in',time.time()-t0)\n",
    "\n",
    "        # Predict dipole moments for training and validation set\n",
    "        #t0 = time.time()\n",
    "        dipoles_v, charges_v, enegs_v = my_kqeq.predict(mols_valid,kerneltype='validation')\n",
    "        #print('predict val done in ',time.time()-t0)\n",
    "        #t0 = time.time()\n",
    "        dipoles_t, charges_t, enegs_t = my_kqeq.predict(mols_train[:ntrain],kerneltype='training')\n",
    "        #print('predict train done in',time.time()-t0)\n",
    "        mae_val   = calc_MAE_abs_dipole_debye(dipoles_v,dipoles_v_ref)\n",
    "        mae_train = calc_MAE_abs_dipole_debye(dipoles_t,dipoles_t_ref)\n",
    "        if mae_val < minval:\n",
    "            minval   = mae_val\n",
    "            mintrain = mae_train\n",
    "            minreg   = lambda_reg\n",
    "        \n",
    "    print(ntrain,minreg,minval,mintrain,time.time()-t0)\n",
    "    min_mae_train.append(mintrain)\n",
    "    min_mae_val.append(minval)\n",
    "    min_reg.append(minreg)\n",
    "    "
   ]
  },
  {
   "cell_type": "code",
   "execution_count": null,
   "id": "subtle-trout",
   "metadata": {},
   "outputs": [
    {
     "name": "stdout",
     "output_type": "stream",
     "text": [
      "# ntrain lambda  MAE_valid  MAE_train\n",
      "100 0.1 0.4137359804951505 0.09351690589489214 141.49084091186523\n"
     ]
    }
   ],
   "source": [
    "# Learning curve loop\n",
    "min_mae_train = []\n",
    "min_mae_val   = []\n",
    "min_reg       = []\n",
    "\n",
    "# Global definition of hypers up here, to avoid errors:\n",
    "r_cut  = 1.75\n",
    "lmax = 2\n",
    "nmax = 6\n",
    "scale_atom = 0.75\n",
    "radius_type = 'qeq'\n",
    "\n",
    "print('# ntrain lambda  MAE_valid  MAE_train')\n",
    "for ntrain in [100,200]:\n",
    "    desdict = {\"nmax\" : [nmax,nmax],\n",
    "           \"lmax\" : [lmax,lmax],\n",
    "           \"rcut\" : [r_cut,r_cut*2],\n",
    "           \"sigma\": [r_cut/8.,r_cut/4],\n",
    "           \"deltas\":[0.75,0.25],\n",
    "           \"periodic\": [False,False]}\n",
    "    \n",
    "    t0 = time.time()\n",
    "    SOAP_Kernel = kernel(Kernel='SOAP',Descriptor='SOAP',multi_SOAP=True,descriptor_dict=desdict,training_set=mols_train[:ntrain],validation_set=mols_valid)\n",
    "    #print('kernel setup in',time.time()-t0)\n",
    "    \n",
    "    # Get reference values from atoms objects\n",
    "    dipoles_v_ref = get_dipoles(mols_valid)\n",
    "    dipoles_t_ref = get_dipoles(mols_train[:ntrain])\n",
    "\n",
    "    #t0 = time.time()\n",
    "    my_kqeq = kernel_qeq(training_set=mols_train[:ntrain],validation_set=mols_valid,Kernel=SOAP_Kernel,scale_atsize=scale_atom,radius_type=radius_type)\n",
    "    #print('kqeq setup in',time.time()-t0)\n",
    "\n",
    "    minval   = 1e7\n",
    "    minreg   = 0.0\n",
    "    #t0 = time.time()\n",
    "    for lambda_reg in [1e-3,5e-3,1e-2,5e-2,1e-1]:\n",
    "        # Train a model with a given regularization parameter\n",
    "        my_kqeq.train(lambda_reg=lambda_reg)\n",
    "        #print('training done in',time.time()-t0)\n",
    "\n",
    "        # Predict dipole moments for training and validation set\n",
    "        #t0 = time.time()\n",
    "        dipoles_v, charges_v, enegs_v = my_kqeq.predict(mols_valid,kerneltype='validation')\n",
    "        #print('predict val done in ',time.time()-t0)\n",
    "        #t0 = time.time()\n",
    "        dipoles_t, charges_t, enegs_t = my_kqeq.predict(mols_train[:ntrain],kerneltype='training')\n",
    "        #print('predict train done in',time.time()-t0)\n",
    "        mae_val   = calc_MAE_abs_dipole_debye(dipoles_v,dipoles_v_ref)\n",
    "        mae_train = calc_MAE_abs_dipole_debye(dipoles_t,dipoles_t_ref)\n",
    "        if mae_val < minval:\n",
    "            minval   = mae_val\n",
    "            mintrain = mae_train\n",
    "            minreg   = lambda_reg\n",
    "        \n",
    "    print(ntrain,minreg,minval,mintrain,time.time()-t0)\n",
    "    min_mae_train.append(mintrain)\n",
    "    min_mae_val.append(minval)\n",
    "    min_reg.append(minreg)"
   ]
  },
  {
   "cell_type": "code",
   "execution_count": 38,
   "id": "significant-burning",
   "metadata": {},
   "outputs": [
    {
     "name": "stdout",
     "output_type": "stream",
     "text": [
      "0.13638890221322045 0.21179667249100775\n"
     ]
    },
    {
     "data": {
      "image/png": "[encoded data removed]",
      "text/plain": [
       "<Figure size 432x288 with 1 Axes>"
      ]
     },
     "metadata": {
      "needs_background": "light"
     },
     "output_type": "display_data"
    }
   ],
   "source": [
    "# Train a model with a given regularization parameter for further analysis\n",
    "ntrain = 100\n",
    "\n",
    "desdict = {\"nmax\" : nmax,\n",
    "           \"lmax\" : lmax,\n",
    "           \"rcut\" : r_cut,\n",
    "           \"sigma\": r_cut/8.,\n",
    "           \"periodic\": False}\n",
    "    \n",
    "SOAP_Kernel = kernel(Kernel='SOAP',Descriptor='SOAP',descriptor_dict=desdict,training_set=mols_train[:ntrain],validation_set=mols_valid)\n",
    "\n",
    "my_kqeq = kernel_qeq(training_set=mols_train[:ntrain],validation_set=mols_valid,Kernel=SOAP_Kernel,scale_atsize=scale_atom,radius_type=radius_type)\n",
    "my_kqeq.train(lambda_reg=0.001)\n",
    "\n",
    "mols_test  = read(\"data/carsten_data/TestQM9.xyz@:\",format='extxyz')\n",
    "dipoles_v_ref = get_dipoles(mols_test)\n",
    "dipoles_t_ref = get_dipoles(mols_train[:ntrain])\n",
    "\n",
    "# Predict dipole moments for training and validation set\n",
    "dipoles_v, charges_v, enegs_v = my_kqeq.predict(mols_test)\n",
    "dipoles_t, charges_t, enegs_t = my_kqeq.predict(mols_train,kerneltype='training')\n",
    "print(calc_MAE_abs_dipole_debye(dipoles_t,dipoles_t_ref),calc_MAE_abs_dipole_debye(dipoles_v,dipoles_v_ref))\n",
    "\n",
    "# Plot the results\n",
    "import matplotlib.pyplot as plt\n",
    "plt.scatter(dipoles_t_ref,dipoles_t,alpha=0.5)\n",
    "plt.scatter(dipoles_v_ref,dipoles_v,alpha=0.5)\n",
    "plt.plot(dipoles_t_ref,dipoles_t_ref)\n",
    "plt.xlabel('Reference Dipole Vector Elements',fontsize=14)\n",
    "plt.ylabel('kQEq Dipole Vector Elements',fontsize=14)\n",
    "plt.show()"
   ]
  },
  {
   "cell_type": "code",
   "execution_count": 35,
   "id": "cleared-steering",
   "metadata": {},
   "outputs": [
    {
     "data": {
      "image/png": "[encoded data removed]",
      "text/plain": [
       "<Figure size 432x288 with 1 Axes>"
      ]
     },
     "metadata": {
      "needs_background": "light"
     },
     "output_type": "display_data"
    }
   ],
   "source": [
    "plt.scatter([100,200,400,800],min_mae_val,alpha=0.5)\n",
    "plt.scatter([100,200,400,800],min_mae_train,alpha=0.5)\n",
    "plt.yscale('log')\n",
    "plt.xscale('log')\n",
    "\n",
    "plt.xlabel('N_train',fontsize=14)\n",
    "plt.ylabel('MAE Dipole / Debye',fontsize=14)\n",
    "plt.show()"
   ]
  },
  {
   "cell_type": "code",
   "execution_count": 8,
   "id": "solar-appeal",
   "metadata": {},
   "outputs": [
    {
     "data": {
      "text/plain": [
       "0.21985951663809247"
      ]
     },
     "execution_count": 8,
     "metadata": {},
     "output_type": "execute_result"
    }
   ],
   "source": [
    "calc_MAE_abs_dipole_debye(dipoles_v_ref,dipoles_v)"
   ]
  },
  {
   "cell_type": "code",
   "execution_count": 9,
   "id": "smooth-replication",
   "metadata": {},
   "outputs": [
    {
     "name": "stdout",
     "output_type": "stream",
     "text": [
      "1000\n"
     ]
    }
   ],
   "source": [
    "n_dipoles = int(len(dipoles_v)/3)\n",
    "dipoles1 = np.reshape(dipoles_v,(n_dipoles,3))\n",
    "norms = np.linalg.norm(dipoles1,axis=1)\n",
    "print(len(norms))"
   ]
  },
  {
   "cell_type": "code",
   "execution_count": 33,
   "id": "alike-brand",
   "metadata": {},
   "outputs": [
    {
     "data": {
      "image/png": "[encoded data removed]",
      "text/plain": [
       "<Figure size 432x288 with 1 Axes>"
      ]
     },
     "metadata": {
      "needs_background": "light"
     },
     "output_type": "display_data"
    }
   ],
   "source": [
    "import matplotlib.pyplot as plt\n",
    "dipoles_t_ref = get_dipoles(mols_train[:800])\n",
    "\n",
    "plt.scatter(dipoles_t_ref,dipoles_t)\n",
    "plt.scatter(dipoles_v_ref,dipoles_v,alpha=0.3)\n",
    "plt.plot(dipoles_t_ref,dipoles_t_ref)\n",
    "plt.xlabel('Reference Dipole Vector Elements',fontsize=14)\n",
    "plt.ylabel('kQEq Dipole Vector Elements',fontsize=14)\n",
    "plt.show()"
   ]
  },
  {
   "cell_type": "markdown",
   "id": "manufactured-generator",
   "metadata": {},
   "source": []
  },
  {
   "cell_type": "code",
   "execution_count": 5,
   "id": "occupied-definition",
   "metadata": {},
   "outputs": [
    {
     "name": "stdout",
     "output_type": "stream",
     "text": [
      "kqeq setup in 60.48204779624939\n",
      "training done in 89.19047617912292\n"
     ]
    }
   ],
   "source": [
    "t0 = time.time()\n",
    "my_kqeq = kernel_qeq(training_set=mols_train,validation_set=mols_valid,Kernel=SOAP_Kernel,scale_atsize=1.0)\n",
    "print('kqeq setup in',time.time()-t0)\n",
    "\n",
    "t0 = time.time()\n",
    "my_kqeq.train(lambda_reg=0.01)\n",
    "print('training done in',time.time()-t0)"
   ]
  },
  {
   "cell_type": "code",
   "execution_count": 9,
   "id": "vanilla-gamma",
   "metadata": {},
   "outputs": [],
   "source": [
    "from scipy.linalg import cho_factor, cho_solve\n",
    "\n",
    "def train(mykqeq,lambda_reg=0.1):\n",
    "    t0 = time.time()\n",
    "    A_bar = mykqeq.A_bar\n",
    "    K = mykqeq.K_train\n",
    "    R = mykqeq.R\n",
    "    mu_ref = mykqeq.mu_ref\n",
    "    print('get arrays',time.time()-t0)\n",
    "    \n",
    "    t0 = time.time()\n",
    "    #tmp = np.matmul(A_bar.T,np.matmul(R.T,np.matmul(R,np.matmul(A_bar,K))))\n",
    "    tmp = np.linalg.multi_dot([A_bar.T,R.T,R,A_bar,K])\n",
    "\n",
    "    print('first mult',time.time()-t0)\n",
    "\n",
    "    t0 = time.time()\n",
    "    #tmp = np.linalg.inv(tmp+lambda_reg*np.eye(K.shape[0]))\n",
    "    tmp1 = tmp+lambda_reg*np.eye(K.shape[0])\n",
    "    tmp2 = -np.linalg.multi_dot([A_bar.T,R.T,mu_ref])\n",
    "    print('second mult',time.time()-t0)\n",
    "\n",
    "    t0 = time.time()\n",
    "    #weights = -np.matmul(np.matmul(tmp,np.matmul(A_bar.T,R.T)),mu_ref)\n",
    "    #weights = -np.linalg.multi_dot([tmp,A_bar.T,R.T,mu_ref])\n",
    "    weights  = np.linalg.solve(tmp1,tmp2)\n",
    "    print('third mult',time.time()-t0)   \n",
    "    return weights\n",
    "    "
   ]
  },
  {
   "cell_type": "code",
   "execution_count": 19,
   "id": "finished-chamber",
   "metadata": {},
   "outputs": [
    {
     "name": "stdout",
     "output_type": "stream",
     "text": [
      "get arrays 1.1920928955078125e-06\n",
      "first mult 96.4308009147644\n",
      "second mult 56.04825305938721\n",
      "third mult 18.054354906082153\n"
     ]
    }
   ],
   "source": [
    "weights_matmul = train(my_kqeq,lambda_reg=0.1)"
   ]
  },
  {
   "cell_type": "code",
   "execution_count": 24,
   "id": "useful-accreditation",
   "metadata": {},
   "outputs": [
    {
     "name": "stdout",
     "output_type": "stream",
     "text": [
      "get arrays 1.9073486328125e-06\n",
      "first mult 31.755419731140137\n",
      "second mult 55.940579652786255\n",
      "third mult 0.029092788696289062\n"
     ]
    }
   ],
   "source": [
    "weights_multidot = train(my_kqeq,lambda_reg=0.1)"
   ]
  },
  {
   "cell_type": "code",
   "execution_count": 25,
   "id": "capable-coordination",
   "metadata": {},
   "outputs": [
    {
     "name": "stdout",
     "output_type": "stream",
     "text": [
      "[ 0.11819279  1.36605752 -1.51143274 ... -0.79084512 -0.52313799\n",
      "  0.43004288]\n"
     ]
    }
   ],
   "source": [
    "print(weights_matmul)"
   ]
  },
  {
   "cell_type": "code",
   "execution_count": 26,
   "id": "promising-insurance",
   "metadata": {},
   "outputs": [
    {
     "name": "stdout",
     "output_type": "stream",
     "text": [
      "[ 0.11819279  1.36605752 -1.51143274 ... -0.79084512 -0.52313799\n",
      "  0.43004288]\n"
     ]
    }
   ],
   "source": [
    "print(weights_multidot)"
   ]
  },
  {
   "cell_type": "code",
   "execution_count": 7,
   "id": "textile-memory",
   "metadata": {},
   "outputs": [
    {
     "name": "stdout",
     "output_type": "stream",
     "text": [
      "get arrays 3.0994415283203125e-06\n",
      "first mult 30.557365655899048\n",
      "second mult 0.7335250377655029\n",
      "third mult 17.031880378723145\n"
     ]
    }
   ],
   "source": [
    "weights_solve = train(my_kqeq,lambda_reg=0.1)"
   ]
  },
  {
   "cell_type": "code",
   "execution_count": 8,
   "id": "critical-quick",
   "metadata": {},
   "outputs": [
    {
     "name": "stdout",
     "output_type": "stream",
     "text": [
      "[ 0.11819279  1.36605752 -1.51143274 ... -0.79084512 -0.52313799\n",
      "  0.43004288]\n"
     ]
    }
   ],
   "source": [
    "print(weights_solve)"
   ]
  },
  {
   "cell_type": "code",
   "execution_count": 10,
   "id": "weird-singing",
   "metadata": {},
   "outputs": [
    {
     "name": "stdout",
     "output_type": "stream",
     "text": [
      "get arrays 1.6689300537109375e-06\n",
      "first mult 29.315760374069214\n",
      "second mult 0.733057975769043\n"
     ]
    },
    {
     "ename": "LinAlgError",
     "evalue": "3-th leading minor of the array is not positive definite",
     "output_type": "error",
     "traceback": [
      "\u001b[0;31m---------------------------------------------------------------------------\u001b[0m",
      "\u001b[0;31mLinAlgError\u001b[0m                               Traceback (most recent call last)",
      "\u001b[0;32m<ipython-input-10-f327a22eaa3d>\u001b[0m in \u001b[0;36m<module>\u001b[0;34m\u001b[0m\n\u001b[0;32m----> 1\u001b[0;31m \u001b[0mweights_cho\u001b[0m \u001b[0;34m=\u001b[0m \u001b[0mtrain\u001b[0m\u001b[0;34m(\u001b[0m\u001b[0mmy_kqeq\u001b[0m\u001b[0;34m,\u001b[0m\u001b[0mlambda_reg\u001b[0m\u001b[0;34m=\u001b[0m\u001b[0;36m0.1\u001b[0m\u001b[0;34m)\u001b[0m\u001b[0;34m\u001b[0m\u001b[0;34m\u001b[0m\u001b[0m\n\u001b[0m",
      "\u001b[0;32m<ipython-input-9-592b86ad40a5>\u001b[0m in \u001b[0;36mtrain\u001b[0;34m(mykqeq, lambda_reg)\u001b[0m\n\u001b[1;32m     24\u001b[0m     \u001b[0;31m#weights = -np.matmul(np.matmul(tmp,np.matmul(A_bar.T,R.T)),mu_ref)\u001b[0m\u001b[0;34m\u001b[0m\u001b[0;34m\u001b[0m\u001b[0;34m\u001b[0m\u001b[0m\n\u001b[1;32m     25\u001b[0m     \u001b[0;31m#weights = -np.linalg.multi_dot([tmp,A_bar.T,R.T,mu_ref])\u001b[0m\u001b[0;34m\u001b[0m\u001b[0;34m\u001b[0m\u001b[0;34m\u001b[0m\u001b[0m\n\u001b[0;32m---> 26\u001b[0;31m     \u001b[0mc\u001b[0m\u001b[0;34m,\u001b[0m \u001b[0mlow\u001b[0m \u001b[0;34m=\u001b[0m \u001b[0mcho_factor\u001b[0m\u001b[0;34m(\u001b[0m\u001b[0mtmp1\u001b[0m\u001b[0;34m)\u001b[0m\u001b[0;34m\u001b[0m\u001b[0;34m\u001b[0m\u001b[0m\n\u001b[0m\u001b[1;32m     27\u001b[0m     \u001b[0mweights\u001b[0m \u001b[0;34m=\u001b[0m \u001b[0mcho_solve\u001b[0m\u001b[0;34m(\u001b[0m\u001b[0;34m(\u001b[0m\u001b[0mc\u001b[0m\u001b[0;34m,\u001b[0m\u001b[0mlow\u001b[0m\u001b[0;34m)\u001b[0m\u001b[0;34m,\u001b[0m\u001b[0mtmp2\u001b[0m\u001b[0;34m)\u001b[0m\u001b[0;34m\u001b[0m\u001b[0;34m\u001b[0m\u001b[0m\n\u001b[1;32m     28\u001b[0m     \u001b[0;31m#weights  = np.linalg.solve(tmp1,tmp2)\u001b[0m\u001b[0;34m\u001b[0m\u001b[0;34m\u001b[0m\u001b[0;34m\u001b[0m\u001b[0m\n",
      "\u001b[0;32m~/.local/lib/python3.8/site-packages/scipy/linalg/decomp_cholesky.py\u001b[0m in \u001b[0;36mcho_factor\u001b[0;34m(a, lower, overwrite_a, check_finite)\u001b[0m\n\u001b[1;32m    150\u001b[0m \u001b[0;34m\u001b[0m\u001b[0m\n\u001b[1;32m    151\u001b[0m     \"\"\"\n\u001b[0;32m--> 152\u001b[0;31m     c, lower = _cholesky(a, lower=lower, overwrite_a=overwrite_a, clean=False,\n\u001b[0m\u001b[1;32m    153\u001b[0m                          check_finite=check_finite)\n\u001b[1;32m    154\u001b[0m     \u001b[0;32mreturn\u001b[0m \u001b[0mc\u001b[0m\u001b[0;34m,\u001b[0m \u001b[0mlower\u001b[0m\u001b[0;34m\u001b[0m\u001b[0;34m\u001b[0m\u001b[0m\n",
      "\u001b[0;32m~/.local/lib/python3.8/site-packages/scipy/linalg/decomp_cholesky.py\u001b[0m in \u001b[0;36m_cholesky\u001b[0;34m(a, lower, overwrite_a, clean, check_finite)\u001b[0m\n\u001b[1;32m     35\u001b[0m     \u001b[0mc\u001b[0m\u001b[0;34m,\u001b[0m \u001b[0minfo\u001b[0m \u001b[0;34m=\u001b[0m \u001b[0mpotrf\u001b[0m\u001b[0;34m(\u001b[0m\u001b[0ma1\u001b[0m\u001b[0;34m,\u001b[0m \u001b[0mlower\u001b[0m\u001b[0;34m=\u001b[0m\u001b[0mlower\u001b[0m\u001b[0;34m,\u001b[0m \u001b[0moverwrite_a\u001b[0m\u001b[0;34m=\u001b[0m\u001b[0moverwrite_a\u001b[0m\u001b[0;34m,\u001b[0m \u001b[0mclean\u001b[0m\u001b[0;34m=\u001b[0m\u001b[0mclean\u001b[0m\u001b[0;34m)\u001b[0m\u001b[0;34m\u001b[0m\u001b[0;34m\u001b[0m\u001b[0m\n\u001b[1;32m     36\u001b[0m     \u001b[0;32mif\u001b[0m \u001b[0minfo\u001b[0m \u001b[0;34m>\u001b[0m \u001b[0;36m0\u001b[0m\u001b[0;34m:\u001b[0m\u001b[0;34m\u001b[0m\u001b[0;34m\u001b[0m\u001b[0m\n\u001b[0;32m---> 37\u001b[0;31m         raise LinAlgError(\"%d-th leading minor of the array is not positive \"\n\u001b[0m\u001b[1;32m     38\u001b[0m                           \"definite\" % info)\n\u001b[1;32m     39\u001b[0m     \u001b[0;32mif\u001b[0m \u001b[0minfo\u001b[0m \u001b[0;34m<\u001b[0m \u001b[0;36m0\u001b[0m\u001b[0;34m:\u001b[0m\u001b[0;34m\u001b[0m\u001b[0;34m\u001b[0m\u001b[0m\n",
      "\u001b[0;31mLinAlgError\u001b[0m: 3-th leading minor of the array is not positive definite"
     ]
    }
   ],
   "source": [
    "weights_cho = train(my_kqeq,lambda_reg=0.1)"
   ]
  },
  {
   "cell_type": "code",
   "execution_count": 30,
   "id": "worst-listening",
   "metadata": {},
   "outputs": [
    {
     "data": {
      "text/plain": [
       "14792"
      ]
     },
     "execution_count": 30,
     "metadata": {},
     "output_type": "execute_result"
    }
   ],
   "source": [
    "2*43*43*4"
   ]
  },
  {
   "cell_type": "code",
   "execution_count": 31,
   "id": "warming-career",
   "metadata": {},
   "outputs": [
    {
     "data": {
      "text/plain": [
       "20736"
      ]
     },
     "execution_count": 31,
     "metadata": {},
     "output_type": "execute_result"
    }
   ],
   "source": [
    "12**4"
   ]
  },
  {
   "cell_type": "code",
   "execution_count": null,
   "id": "smart-ready",
   "metadata": {},
   "outputs": [],
   "source": []
  }
 ],
 "metadata": {
  "kernelspec": {
   "display_name": "Python 3 (ipykernel)",
   "language": "python",
   "name": "python3"
  },
  "language_info": {
   "codemirror_mode": {
    "name": "ipython",
    "version": 3
   },
   "file_extension": ".py",
   "mimetype": "text/x-python",
   "name": "python",
   "nbconvert_exporter": "python",
   "pygments_lexer": "ipython3",
   "version": "3.8.9"
  }
 },
 "nbformat": 4,
 "nbformat_minor": 5
}
