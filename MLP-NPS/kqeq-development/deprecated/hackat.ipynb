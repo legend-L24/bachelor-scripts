{
 "cells": [
  {
   "cell_type": "code",
   "execution_count": 2,
   "id": "changing-rolling",
   "metadata": {},
   "outputs": [],
   "source": [
    "import numpy as np"
   ]
  },
  {
   "cell_type": "code",
   "execution_count": null,
   "id": "built-vegetable",
   "metadata": {},
   "outputs": [],
   "source": []
  },
  {
   "cell_type": "code",
   "execution_count": null,
   "id": "guided-caution",
   "metadata": {},
   "outputs": [],
   "source": []
  },
  {
   "cell_type": "code",
   "execution_count": null,
   "id": "associate-charlotte",
   "metadata": {},
   "outputs": [],
   "source": []
  },
  {
   "cell_type": "markdown",
   "id": "proof-coalition",
   "metadata": {},
   "source": [
    "# WELCOME"
   ]
  },
  {
   "cell_type": "markdown",
   "id": "descending-lincoln",
   "metadata": {},
   "source": [
    "![](hacKQeqathon.png)"
   ]
  },
  {
   "cell_type": "markdown",
   "id": "amateur-tragedy",
   "metadata": {},
   "source": [
    "# TODO\n",
    "\n",
    "1. Clean training workflow DONE\n",
    "2. Make Kernel choice modular DONE\n",
    "3. Make Documentation with Sphinx \n",
    "4. Make ASE calculator (wrap kernel_qeq + charge_eq) DONE"
   ]
  },
  {
   "cell_type": "code",
   "execution_count": 2,
   "id": "married-danish",
   "metadata": {},
   "outputs": [
    {
     "ename": "SyntaxError",
     "evalue": "positional argument follows keyword argument (<ipython-input-2-037a98f692ed>, line 1)",
     "output_type": "error",
     "traceback": [
      "\u001b[0;36m  File \u001b[0;32m\"<ipython-input-2-037a98f692ed>\"\u001b[0;36m, line \u001b[0;32m1\u001b[0m\n\u001b[0;31m    my_kernel = Kernel(Type='SOAP_dscribe','element_wise',Hyper_Dict=)\u001b[0m\n\u001b[0m                                                                     ^\u001b[0m\n\u001b[0;31mSyntaxError\u001b[0m\u001b[0;31m:\u001b[0m positional argument follows keyword argument\n"
     ]
    }
   ],
   "source": [
    "my_kernel = Kernel(Type='SOAP_dscribe','element_wise',Hyper_Dict=)\n",
    "K = my_kernel.kernel_matrix(training_set,predict_set=test_set)\n",
    "\n",
    "my_kqeq = kernel_qeq(training_set,Kernel=my_kernel.kernel_matix)\n",
    "my_kqeq.update_kernel(my_kernel2.kernel_matix)\n",
    "\n",
    "\n",
    "energy, charges, dipole_vector = my_kqeq.calculate(mol)"
   ]
  },
  {
   "cell_type": "code",
   "execution_count": null,
   "id": "identical-liberal",
   "metadata": {},
   "outputs": [],
   "source": []
  }
 ],
 "metadata": {
  "kernelspec": {
   "display_name": "Python 3 (ipykernel)",
   "language": "python",
   "name": "python3"
  },
  "language_info": {
   "codemirror_mode": {
    "name": "ipython",
    "version": 3
   },
   "file_extension": ".py",
   "mimetype": "text/x-python",
   "name": "python",
   "nbconvert_exporter": "python",
   "pygments_lexer": "ipython3",
   "version": "3.8.9"
  }
 },
 "nbformat": 4,
 "nbformat_minor": 5
}
