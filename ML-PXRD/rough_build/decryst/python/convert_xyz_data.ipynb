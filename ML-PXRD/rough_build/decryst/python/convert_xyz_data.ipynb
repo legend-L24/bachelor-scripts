{
 "cells": [
  {
   "cell_type": "code",
   "execution_count": 52,
   "metadata": {
    "ExecuteTime": {
     "end_time": "2022-06-11T03:11:02.049423Z",
     "start_time": "2022-06-11T03:11:02.020149Z"
    }
   },
   "outputs": [
    {
     "data": {
      "text/plain": [
       "[['O', -6.82957, 9.141020000000001, -1.8559099999999997],\n",
       " ['O', -5.654669999999999, 9.79419, 0.0],\n",
       " ['C', -5.955979999999999, 8.947370000000001, -0.9279500000000009],\n",
       " ['C', -5.41875, 6.736780000000001, -1.9570600000000002],\n",
       " ['C', -4.38218, 7.330870000000001, 0.13634000000000057],\n",
       " ['N', -3.70282, 6.114800000000001, 0.14953000000000038],\n",
       " ['N', -4.74034, 5.519080000000001, -1.9526699999999995],\n",
       " ['C', -5.24346, 7.657450000000001, -0.9191599999999998],\n",
       " ['C', -3.8572699999999998, 5.174440000000001, -0.9015699999999995],\n",
       " ['O', -1.1531, -0.6909199999999984, -1.8559099999999997],\n",
       " ['C', -0.8840100000000002, 0.16247000000000256, -0.9279500000000009],\n",
       " ['C', -2.52982, 1.7330199999999998, -1.9570600000000002],\n",
       " ['C', -1.49705, 2.333660000000002, 0.13634000000000057],\n",
       " ['N', -2.21051, 3.5300400000000014, 0.14953000000000038],\n",
       " ['N', -3.2451799999999995, 2.9293900000000015, -1.9526699999999995],\n",
       " ['C', -1.6448600000000002, 1.4244900000000023, -0.9191599999999998],\n",
       " ['C', -3.1021099999999997, 3.8664700000000014, -0.9015699999999995]]"
      ]
     },
     "execution_count": 52,
     "metadata": {},
     "output_type": "execute_result"
    }
   ],
   "source": [
    "def rm_ele(rm_ls,ls):\n",
    "    return [i for num, i in enumerate(ls) if num not in rm_ls]\n",
    "\n",
    "from ase.io import read\n",
    "\n",
    "filename = \"/home/jyb/lyt/bpdc_0.xyz\"\n",
    "center_atom = 'O' # the center atoms must be the only \n",
    "\n",
    "poly = read(filename)\n",
    "\n",
    "sym_ls, pos_arr = poly.get_chemical_symbols(), poly.get_positions()\n",
    "pos_ls = [list(i) for i in pos_arr]\n",
    "ind = -1\n",
    "for i in range(len(sym_ls)):\n",
    "    if sym_ls[i] == center_atom:\n",
    "        ind = i\n",
    "if ind < 0: raise ValueError(\"wrong centered atom\")\n",
    "sym_ls.pop(ind); ref_coor = pos_ls.pop(ind)\n",
    "\n",
    "# maybe you can remove H atom to reduce problems\n",
    "removed_atom = 'H'\n",
    "rm_ls = []\n",
    "for i in range(len(sym_ls)):\n",
    "    if sym_ls[i] == 'H':\n",
    "        rm_ls.append(i)\n",
    "\n",
    "sym_ls = rm_ele(rm_ls,sym_ls)\n",
    "pos_ls = rm_ele(rm_ls,pos_ls)\n",
    "\n",
    "elem_dic = dict(zip(sym_ls,pos_ls))\n",
    "elem_ls = elem_dic.keys()\n",
    "elem_dic = dict(zip(elem_ls,range(0,len(elem_ls))))\n",
    "symbol_ls = [elem_dic[i] for i in sym_ls]\n",
    "coor_ls = [[x-y for x,y in zip(ref_coor,ls)] for ls in pos_ls]\n",
    "\n",
    "[[i] + j for i, j in zip(sym_ls,coor_ls)]"
   ]
  },
  {
   "cell_type": "code",
   "execution_count": null,
   "metadata": {},
   "outputs": [],
   "source": []
  },
  {
   "cell_type": "code",
   "execution_count": 42,
   "metadata": {},
   "outputs": [],
   "source": [
    "'''\n",
    "this matrix satisfy the property that (x,y,z) = D*(x,y,z)' () stands for a colume vector\n",
    "'''\n",
    "import numpy as np\n",
    "def get_cartesian_to_fractional_matrix(a, b, c, alpha, beta, gamma,\n",
    "                                       angle_in_degrees=True):\n",
    "    \"\"\"\n",
    "    Return the transformation matrix that converts cartesian coordinates to\n",
    "    fractional coordinates.\n",
    "    Parameters\n",
    "    ----------\n",
    "    a, b, c : float\n",
    "        The lengths of the edges.\n",
    "    alpha, gamma, beta : float\n",
    "        The angles between the sides.\n",
    "    angle_in_degrees : bool\n",
    "        True if alpha, beta and gamma are expressed in degrees.\n",
    "    Returns\n",
    "    -------\n",
    "    r : array_like\n",
    "        The 3x3 rotation matrix. ``V_frac = np.dot(r, V_cart)``.\n",
    "    \"\"\"\n",
    "    if angle_in_degrees:\n",
    "        alpha = np.deg2rad(alpha)\n",
    "        beta = np.deg2rad(beta)\n",
    "        gamma = np.deg2rad(gamma)\n",
    "    cosa = np.cos(alpha)\n",
    "    sina = np.sin(alpha)\n",
    "    cosb = np.cos(beta)\n",
    "    sinb = np.sin(beta)\n",
    "    cosg = np.cos(gamma)\n",
    "    sing = np.sin(gamma)\n",
    "    volume = 1.0 - cosa**2.0 - cosb**2.0 - cosg**2.0 + 2.0 * cosa * cosb * cosg\n",
    "    volume = np.sqrt(volume)\n",
    "    r = np.zeros((3, 3))\n",
    "    r[0, 0] = 1.0 / a\n",
    "    r[0, 1] = -cosg / (a * sing)\n",
    "    r[0, 2] = (cosa * cosg - cosb) / (a * volume * sing)\n",
    "    r[1, 1] = 1.0 / (b * sing)\n",
    "    r[1, 2] = (cosb * cosg - cosa) / (b * volume * sing)\n",
    "    r[2, 2] = sing / (c * volume)\n",
    "    return r\n",
    "\n",
    "def get_fractional_to_cartesian_matrix(a, b, c, alpha, beta, gamma,\n",
    "                                       angle_in_degrees=True):\n",
    "    \"\"\"\n",
    "    Return the transformation matrix that converts fractional coordinates to\n",
    "    cartesian coordinates.\n",
    "    Parameters\n",
    "    ----------\n",
    "    a, b, c : float\n",
    "        The lengths of the edges.\n",
    "    alpha, gamma, beta : float\n",
    "        The angles between the sides.\n",
    "    angle_in_degrees : bool\n",
    "        True if alpha, beta and gamma are expressed in degrees.\n",
    "    Returns\n",
    "    -------\n",
    "    r : array_like\n",
    "        The 3x3 rotation matrix. ``V_cart = np.dot(r, V_frac)``.\n",
    "    \"\"\"\n",
    "    if angle_in_degrees:\n",
    "        alpha = np.deg2rad(alpha)\n",
    "        beta = np.deg2rad(beta)\n",
    "        gamma = np.deg2rad(gamma)\n",
    "    cosa = np.cos(alpha)\n",
    "    sina = np.sin(alpha)\n",
    "    cosb = np.cos(beta)\n",
    "    sinb = np.sin(beta)\n",
    "    cosg = np.cos(gamma)\n",
    "    sing = np.sin(gamma)\n",
    "    volume = 1.0 - cosa**2.0 - cosb**2.0 - cosg**2.0 + 2.0 * cosa * cosb * cosg\n",
    "    volume = np.sqrt(volume)\n",
    "    r = np.zeros((3, 3))\n",
    "    r[0, 0] = a\n",
    "    r[0, 1] = b * cosg\n",
    "    r[0, 2] = c * cosb\n",
    "    r[1, 1] = b * sing\n",
    "    r[1, 2] = c * (cosa - cosb * cosg) / sing\n",
    "    r[2, 2] = c * volume / sing\n",
    "    return r"
   ]
  },
  {
   "cell_type": "code",
   "execution_count": 57,
   "metadata": {},
   "outputs": [
    {
     "ename": "TypeError",
     "evalue": "tuple() takes at most 1 argument (3 given)",
     "output_type": "error",
     "traceback": [
      "\u001b[0;31m---------------------------------------------------------------------------\u001b[0m",
      "\u001b[0;31mTypeError\u001b[0m                                 Traceback (most recent call last)",
      "\u001b[0;32m<ipython-input-57-bf7267453601>\u001b[0m in \u001b[0;36m<module>\u001b[0;34m\u001b[0m\n\u001b[0;32m----> 1\u001b[0;31m \u001b[0mtuple\u001b[0m\u001b[0;34m(\u001b[0m\u001b[0;36m1\u001b[0m\u001b[0;34m,\u001b[0m\u001b[0;36m2\u001b[0m\u001b[0;34m,\u001b[0m\u001b[0;36m2\u001b[0m\u001b[0;34m)\u001b[0m\u001b[0;34m\u001b[0m\u001b[0;34m\u001b[0m\u001b[0m\n\u001b[0m",
      "\u001b[0;31mTypeError\u001b[0m: tuple() takes at most 1 argument (3 given)"
     ]
    }
   ],
   "source": [
    "tuple(1,2,2)"
   ]
  },
  {
   "cell_type": "code",
   "execution_count": 55,
   "metadata": {},
   "outputs": [],
   "source": [
    "a = get_cartesian_to_fractional_matrix(50,50,50,80,70,90)\n",
    "b = DCM_rotation(85,75,68)"
   ]
  },
  {
   "cell_type": "code",
   "execution_count": 50,
   "metadata": {},
   "outputs": [],
   "source": [
    "a = np.array([[3,4],[1,2]])\n",
    "b = np.array([[3.7,4.5],[1.3,2.6]])"
   ]
  },
  {
   "cell_type": "code",
   "execution_count": 56,
   "metadata": {},
   "outputs": [
    {
     "name": "stdout",
     "output_type": "stream",
     "text": [
      "[[ 0.00760574 -0.00767998  0.0183857 ]\n",
      " [ 0.00878916  0.01759419  0.00522851]\n",
      " [-0.02091861  0.00519698  0.00209972]]\n",
      "[[ 0.00045115 -0.0059025   0.02162892]\n",
      " [ 0.00515668  0.01849664  0.00066867]\n",
      " [-0.01931852  0.00479946  0.00835185]]\n"
     ]
    }
   ],
   "source": [
    "print(np.dot(a,b))\n",
    "print(np.dot(b,a))"
   ]
  },
  {
   "cell_type": "code",
   "execution_count": 43,
   "metadata": {
    "ExecuteTime": {
     "end_time": "2022-06-02T16:23:05.488146Z",
     "start_time": "2022-06-02T16:23:05.456342Z"
    }
   },
   "outputs": [],
   "source": [
    "def symmetry_op(h,k,l,number):\n",
    "    if number >= 207:\n",
    "        ls_hkl = [\n",
    "            [h,k,l],[-h,k,l],[h,-k,l],[h,k,-l],[-h,-k,l],[h,-k,-l],[-h,k,-l],[-h,-k,-l],\n",
    "            [k,h,l],[-k,h,l],[k,-h,l],[k,h,-l],[-k,-h,l],[k,-h,-l],[-k,h,-l],[-k,-h,-l],\n",
    "            [l,k,h],[-l,k,h],[l,-k,h],[l,k,-h],[-l,-k,h],[l,-k,-h],[-l,k,-h],[-l,-k,-h],\n",
    "            [k,l,h],[-k,l,h],[k,-l,h],[k,l,-h],[-k,-l,h],[k,-l,-h],[-k,l,-h],[-k,-l,-h],\n",
    "            [l,h,k],[-l,h,k],[l,-h,k],[l,h,-k],[-l,-h,k],[l,-h,-k],[-l,h,-k],[-l,-h,-k],\n",
    "            [h,l,k],[-h,l,k],[h,-l,k],[h,l,-k],[-h,-l,k],[h,-l,-k],[-h,l,-k],[-h,-l,-k]\n",
    "        ]\n",
    "        set_hkl = {tuple(x) for x in ls_hkl}\n",
    "        mutil = len(set_hkl)\n",
    "    elif 206 >=number >=195:\n",
    "        ls_hkl = [\n",
    "            [h,k,l],[-h,k,l],[h,-k,l],[h,k,-l],[-h,-k,l],[h,-k,-l],[-h,k,-l],[-h,-k,-l],\n",
    "\t    [l,h,k],[-l,h,k],[l,-h,k],[l,h,-k],[-l,-h,k],[l,-h,-k],[-l,h,-k],[-l,-h,-k],\n",
    "        [k,l,h],[-k,l,h],[k,-l,h],[k,l,-h],[-k,-l,h],[k,-l,-h],[-k,l,-h],[-k,-l,-h]\n",
    "        ]\n",
    "        set_hkl = {tuple(x) for x in ls_hkl}\n",
    "        mutil = len(set_hkl)\n",
    "    elif 142 >=number >=75:\n",
    "        ls_hkl = [\n",
    "            [h,k,l],[-h,k,l],[h,-k,l],[h,k,-l],[-h,-k,l],[h,-k,-l],[-h,k,-l],[-h,-k,-l],\n",
    "            [k,h,l],[-k,h,l],[k,-h,l],[k,h,-l],[-k,-h,l],[k,-h,-l],[-k,h,-l],[-k,-h,-l],\n",
    "        ]\n",
    "        set_hkl = {tuple(x) for x in ls_hkl}\n",
    "        mutil = len(set_hkl)\n",
    "    elif 74 >=number >= 16:\n",
    "        ls_hkl = [\n",
    "            [h,k,l],[-h,k,l],[h,-k,l],[h,k,-l],[-h,-k,l],[h,-k,-l],[-h,k,-l],[-h,-k,-l]\n",
    "        ]\n",
    "        set_hkl = {tuple(x) for x in ls_hkl}\n",
    "        mutil = len(set_hkl)\n",
    "    elif number <=2 or number:\n",
    "        ls_hkl = [[h,k,l]]\n",
    "        set_hkl = {tuple(x) for x in ls_hkl}\n",
    "        mutil = len(set_hkl)\n",
    "    else:\n",
    "        ls_hkl = [[h,k,l]]\n",
    "        set_hkl = {tuple(x) for x in ls_hkl}\n",
    "        mutil = len(set_hkl)\n",
    "    return [h,k,l,mutil], set_hkl"
   ]
  },
  {
   "cell_type": "code",
   "execution_count": 44,
   "metadata": {
    "ExecuteTime": {
     "end_time": "2022-06-02T16:23:08.159273Z",
     "start_time": "2022-06-02T16:23:08.156058Z"
    }
   },
   "outputs": [],
   "source": [
    "ls_valid,set_hkl = symmetry_op(0,1,3,197)"
   ]
  },
  {
   "cell_type": "code",
   "execution_count": 45,
   "metadata": {
    "ExecuteTime": {
     "end_time": "2022-06-02T16:23:10.040913Z",
     "start_time": "2022-06-02T16:23:10.035858Z"
    }
   },
   "outputs": [
    {
     "data": {
      "text/plain": [
       "{(-3, 0, -1),\n",
       " (-3, 0, 1),\n",
       " (-1, -3, 0),\n",
       " (-1, 3, 0),\n",
       " (0, -1, -3),\n",
       " (0, -1, 3),\n",
       " (0, 1, -3),\n",
       " (0, 1, 3),\n",
       " (1, -3, 0),\n",
       " (1, 3, 0),\n",
       " (3, 0, -1),\n",
       " (3, 0, 1)}"
      ]
     },
     "execution_count": 45,
     "metadata": {},
     "output_type": "execute_result"
    }
   ],
   "source": [
    "set_hkl"
   ]
  },
  {
   "cell_type": "code",
   "execution_count": 46,
   "metadata": {
    "ExecuteTime": {
     "end_time": "2022-06-02T16:23:22.593233Z",
     "start_time": "2022-06-02T16:23:22.579864Z"
    }
   },
   "outputs": [],
   "source": [
    "def hkl_compute(abc,wyck):\n",
    "    # this is the number of space group\n",
    "    try:\n",
    "        number = int(wyck)\n",
    "    except:\n",
    "        number = int(wyck[:-1])\n",
    "    \n",
    "    H=int(abc[0]*2/1.54*0.42)\n",
    "    K=int(abc[1]*2/1.54*0.42)\n",
    "    L=int(abc[2]*2/1.54*0.42)\n",
    "    cryst_face_0 = []\n",
    "    cryst_face = []\n",
    "    # ignore -h,-k,-l the mutil is doule\n",
    "    for h in range(0,H+1):\n",
    "        for k in range(0,K+1):\n",
    "            for l in range(0,L+1):\n",
    "                cryst_face_0.append((h,k,l))\n",
    "                cryst_face.append((h,k,l))\n",
    "    cryst_face.pop(0)# in order to remove (0,0,0)\n",
    "    cryst_face_0.pop(0)\n",
    "    # the line is to be removed\n",
    "    hkl_val = []\n",
    "    for h, k, l in cryst_face:\n",
    "        if (h,k,l) not in cryst_face: continue\n",
    "        #ls_valid,set_hkl = symmetry_op(h,k,l,number), I will change later\n",
    "        ls_valid,set_hkl = symmetry_op(h,k,l,number)\n",
    "        hkl_val.append(ls_valid)\n",
    "        for each in set_hkl:\n",
    "            try:\n",
    "                cryst_face.remove(each)\n",
    "            except:\n",
    "                continue\n",
    "    return hkl_val, [number]\n",
    "\n",
    "def theta_filt(hkl_val,P,angle_min,angle_max,w=1.5406):\n",
    "    a,b,c,aerfa,beta,gama = P[0], P[1], P[2], P[3]*np.pi/180, P[4]*np.pi/180, P[5]*np.pi/180\n",
    "    V=a*b*c*np.sqrt(1-np.cos(aerfa)**2-np.cos(beta)**2-np.cos(gama)**2+2*np.cos(aerfa)*np.cos(beta)*np.cos(gama))\n",
    "    hkl_val_new = []\n",
    "    for h,k,l,mutil in hkl_val:\n",
    "        t1=((h**2)*(b**2)*(c**2)*(np.sin(aerfa)**2)+(k**2)*(a**2)*(c**2)*(np.sin(beta)**2)+(l**2)*(a**2)*(b**2)*(np.sin(gama)**2)+2*h*k*a*b*(c**2)*(np.cos(aerfa)*np.cos(beta)-np.cos(gama))+2*k*l*(a**2)*b*c*(np.cos(beta)*np.cos(gama)-np.cos(aerfa))+2*h*l*a*(b**2)*c*(np.cos(aerfa)*np.cos(gama)-np.cos(beta)))\n",
    "        double_theta = np.arcsin(np.sqrt(t1/(V**2))*1.54/2)*360/np.pi\n",
    "        if angle_min < double_theta < angle_max: hkl_val_new.append([h,k,l,mutil,double_theta])\n",
    "    return hkl_val_new"
   ]
  },
  {
   "cell_type": "code",
   "execution_count": 47,
   "metadata": {
    "ExecuteTime": {
     "end_time": "2022-06-02T16:24:02.517198Z",
     "start_time": "2022-06-02T16:23:23.731037Z"
    }
   },
   "outputs": [],
   "source": [
    "a, b = hkl_compute([50.84,50.84,50.84],\"197\")"
   ]
  },
  {
   "cell_type": "code",
   "execution_count": 49,
   "metadata": {
    "ExecuteTime": {
     "end_time": "2022-06-02T16:24:40.017025Z",
     "start_time": "2022-06-02T16:24:39.874444Z"
    }
   },
   "outputs": [
    {
     "name": "stdout",
     "output_type": "stream",
     "text": [
      "732\n"
     ]
    }
   ],
   "source": [
    "P = [50.84,50.84,50.84]+[90,90,90]\n",
    "k = theta_filt(a,P,4.0,29.8)\n",
    "print(len(k))"
   ]
  },
  {
   "cell_type": "code",
   "execution_count": 39,
   "metadata": {
    "ExecuteTime": {
     "end_time": "2022-06-02T16:16:28.119741Z",
     "start_time": "2022-06-02T16:16:28.115347Z"
    }
   },
   "outputs": [
    {
     "name": "stdout",
     "output_type": "stream",
     "text": [
      "[0, 1, 3, 12, 5.490400022184282]\n"
     ]
    }
   ],
   "source": [
    "for i in k:\n",
    "    if i[0] == 0 and i[1]==1 and i[2]==3: print(i)"
   ]
  },
  {
   "cell_type": "code",
   "execution_count": 50,
   "metadata": {
    "ExecuteTime": {
     "end_time": "2022-06-02T16:24:46.279961Z",
     "start_time": "2022-06-02T16:24:46.275097Z"
    }
   },
   "outputs": [
    {
     "name": "stdout",
     "output_type": "stream",
     "text": [
      "[1, 3, 0, 12, 5.490400022184282]\n",
      "[3, 1, 0, 12, 5.490400022184282]\n"
     ]
    }
   ],
   "source": [
    "for i in k:\n",
    "    if abs(i[-1]-5.49)<0.005:\n",
    "        print(i)"
   ]
  },
  {
   "cell_type": "code",
   "execution_count": 35,
   "metadata": {
    "ExecuteTime": {
     "end_time": "2022-06-02T16:14:21.041583Z",
     "start_time": "2022-06-02T16:14:20.908178Z"
    }
   },
   "outputs": [
    {
     "name": "stdout",
     "output_type": "stream",
     "text": [
      "881\n"
     ]
    }
   ],
   "source": [
    "P = [50.84,50.84,50.84]+[90,90,90]\n",
    "k = theta_filt(a,P,3.0,30.0)\n",
    "print(len(k))"
   ]
  },
  {
   "cell_type": "code",
   "execution_count": 24,
   "metadata": {
    "ExecuteTime": {
     "end_time": "2022-06-02T12:48:05.005666Z",
     "start_time": "2022-06-02T12:48:05.001754Z"
    }
   },
   "outputs": [],
   "source": [
    "for i in a:\n",
    "    if i[0] == 1 and i[1]==2 and i[2] == 3:\n",
    "        print(i)"
   ]
  },
  {
   "cell_type": "code",
   "execution_count": 33,
   "metadata": {
    "ExecuteTime": {
     "end_time": "2022-06-02T16:14:03.170221Z",
     "start_time": "2022-06-02T16:14:03.167148Z"
    }
   },
   "outputs": [
    {
     "name": "stdout",
     "output_type": "stream",
     "text": [
      "3345 6578\n"
     ]
    }
   ],
   "source": [
    "print(len(a_1),len(a))"
   ]
  },
  {
   "cell_type": "code",
   "execution_count": 13,
   "metadata": {
    "ExecuteTime": {
     "end_time": "2022-06-02T12:33:51.694056Z",
     "start_time": "2022-06-02T12:33:12.938882Z"
    }
   },
   "outputs": [],
   "source": [
    "a_1, b_1 = hkl_compute([50.84,50.84,50.84],\"207\")"
   ]
  },
  {
   "cell_type": "code",
   "execution_count": 12,
   "metadata": {
    "ExecuteTime": {
     "end_time": "2022-06-02T11:54:14.024521Z",
     "start_time": "2022-06-02T11:54:14.020607Z"
    }
   },
   "outputs": [
    {
     "name": "stdout",
     "output_type": "stream",
     "text": [
      "[3, 5, 0, 12]\n",
      "[3, 6, 0, 12]\n",
      "[3, 7, 0, 12]\n",
      "[3, 9, 0, 12]\n",
      "[3, 11, 0, 12]\n",
      "[3, 12, 0, 12]\n",
      "[3, 13, 0, 12]\n",
      "[3, 15, 0, 12]\n",
      "[3, 17, 0, 12]\n",
      "[3, 19, 0, 12]\n",
      "[3, 20, 0, 12]\n",
      "[3, 21, 0, 12]\n",
      "[3, 23, 0, 12]\n",
      "[3, 25, 0, 12]\n",
      "[3, 27, 0, 12]\n"
     ]
    }
   ],
   "source": [
    "for i in a:\n",
    "    if i[0]==3 and i[-1]==12: print(i)"
   ]
  },
  {
   "cell_type": "code",
   "execution_count": 11,
   "metadata": {
    "ExecuteTime": {
     "end_time": "2022-06-02T11:52:28.379164Z",
     "start_time": "2022-06-02T11:52:28.376337Z"
    }
   },
   "outputs": [
    {
     "name": "stdout",
     "output_type": "stream",
     "text": [
      "6578\n"
     ]
    }
   ],
   "source": [
    "print(len(a))"
   ]
  },
  {
   "cell_type": "code",
   "execution_count": 45,
   "metadata": {},
   "outputs": [],
   "source": [
    "def DCM_rotation(alpha,beta,gamma,angle_in_degrees=True):\n",
    "    '''\n",
    "        input: alpha,beta,gama\n",
    "        output: R*(x,y,z),return R\n",
    "    '''\n",
    "    if angle_in_degrees:\n",
    "        alpha = np.deg2rad(alpha)\n",
    "        beta = np.deg2rad(beta)\n",
    "        gamma = np.deg2rad(gamma)\n",
    "    cosa = np.cos(alpha)\n",
    "    sina = np.sin(alpha)\n",
    "    cosb = np.cos(beta)\n",
    "    sinb = np.sin(beta)\n",
    "    cosg = np.cos(gamma)\n",
    "    sing = np.sin(gamma)\n",
    "    \n",
    "    return np.array([\n",
    "                [cosa*cosb, cosa*sinb*sing-sina*cosg, cosa*sinb*cosg+sina*sing],\n",
    "                [sina*cosb, sina*sinb*sing+cosa*cosg, sina*sinb*cosg-cosa*sing],\n",
    "                [-sinb, cosb*sing, cosb*cosg]\n",
    "            ])\n",
    "    "
   ]
  },
  {
   "cell_type": "code",
   "execution_count": 101,
   "metadata": {},
   "outputs": [],
   "source": [
    "def comb_scan(s):\n",
    "    my_match(r\"([^0-9]+[0-9]+)+$\", s, \"malformed Wyckoff combination\")\n",
    "    ret = [[x, int(n)] for x, n in re.findall(r\"([^0-9]+)([0-9]+)\", s)]\n",
    "    if len(set(x for x, n in ret)) != len(ret):\n",
    "        raise ValueError(\"duplicate position in Wyckoff combination\")\n",
    "    return ret\n",
    "\n",
    "def at_scan(s):\n",
    "    m = my_match(r\"([^@]+)@([^@]+)$\", s, \"malformed `@'-expression\").groups()\n",
    "    return [int(m[0]), comb_scan(m[1])]"
   ]
  },
  {
   "cell_type": "code",
   "execution_count": 30,
   "metadata": {},
   "outputs": [],
   "source": [
    "a = {\"C\":2,\"D\":4,\"E\":3}"
   ]
  },
  {
   "cell_type": "code",
   "execution_count": 37,
   "metadata": {},
   "outputs": [
    {
     "data": {
      "text/plain": [
       "[[2, 'C'], [3, 'E'], [4, 'D']]"
      ]
     },
     "execution_count": 37,
     "metadata": {},
     "output_type": "execute_result"
    }
   ],
   "source": [
    "sorted([[num,ele] for ele,num in a.items()])"
   ]
  },
  {
   "cell_type": "code",
   "execution_count": 35,
   "metadata": {},
   "outputs": [
    {
     "data": {
      "text/plain": [
       "[('C', 2), ('E', 3), ('D', 4)]"
      ]
     },
     "execution_count": 35,
     "metadata": {},
     "output_type": "execute_result"
    }
   ],
   "source": [
    "import operator\n",
    "sorted(a.items(),key=operator.itemgetter(1))"
   ]
  },
  {
   "cell_type": "code",
   "execution_count": 104,
   "metadata": {},
   "outputs": [],
   "source": [
    "def my_match(pat, s, err):\n",
    "    ret = re.match(pat, s)\n",
    "    if not ret:\n",
    "        raise SyntaxError(err)\n",
    "    return ret"
   ]
  },
  {
   "cell_type": "code",
   "execution_count": 127,
   "metadata": {},
   "outputs": [
    {
     "data": {
      "text/plain": [
       "['A', 'B']"
      ]
     },
     "execution_count": 127,
     "metadata": {},
     "output_type": "execute_result"
    }
   ],
   "source": [
    "\"A-B\".split(\"-\")"
   ]
  },
  {
   "cell_type": "code",
   "execution_count": 125,
   "metadata": {},
   "outputs": [
    {
     "data": {
      "text/plain": [
       "<_sre.SRE_Match object; span=(0, 4), match='Ru3L'>"
      ]
     },
     "execution_count": 125,
     "metadata": {},
     "output_type": "execute_result"
    }
   ],
   "source": [
    "my_match(\".*L\", \"Ru3L\", \"malformed centered atoms with a ligand\")"
   ]
  },
  {
   "cell_type": "code",
   "execution_count": 25,
   "metadata": {},
   "outputs": [],
   "source": [
    "import re\n",
    "def check_ligand(ls):\n",
    "    '''\n",
    "        input: cr[elems][0],cr[elems][1]\n",
    "        output: check whether Ru3+-L1 exists and add this extra_elems\n",
    "    '''\n",
    "    ret = []\n",
    "    for i in range(len(ls)):\n",
    "        for j in range(len(ls[i])):\n",
    "            if re.search(\"-\", ls[i][j][1]):\n",
    "                new_ele = ls[i][j][1].split(\"-\")\n",
    "                ret.append([j,new_ele[1]])\n",
    "                ls[i][j][1] = new_ele[0]\n",
    "    return ret"
   ]
  },
  {
   "cell_type": "code",
   "execution_count": 29,
   "metadata": {},
   "outputs": [
    {
     "name": "stdout",
     "output_type": "stream",
     "text": [
      "[[1, 'ret']]\n",
      "[[[1.0, 'Yb3+']], [[1.0, 'Yb3+'], [1.0, 'Ru3+']]]\n"
     ]
    }
   ],
   "source": [
    "a = [[[1.0, 'Yb3+']], [[1.0, 'Yb3+'],[1.0, 'Ru3+-ret']]]\n",
    "print(check_ligand(a))\n",
    "print(a)"
   ]
  },
  {
   "cell_type": "code",
   "execution_count": 103,
   "metadata": {},
   "outputs": [
    {
     "data": {
      "text/plain": [
       "[1, [['a', 5]]]"
      ]
     },
     "execution_count": 103,
     "metadata": {},
     "output_type": "execute_result"
    }
   ],
   "source": [
    "at_scan(\"1@a5\")"
   ]
  },
  {
   "cell_type": "raw",
   "metadata": {},
   "source": [
    "this is the function to change the xyz data to the dict used in poly.json"
   ]
  },
  {
   "cell_type": "code",
   "execution_count": 1,
   "metadata": {},
   "outputs": [],
   "source": [
    "import ase"
   ]
  },
  {
   "cell_type": "code",
   "execution_count": 85,
   "metadata": {},
   "outputs": [],
   "source": [
    "a = sorted([v, k] for k, v in d.items())"
   ]
  },
  {
   "cell_type": "code",
   "execution_count": 89,
   "metadata": {},
   "outputs": [],
   "source": [
    "a= [k for v, k in sorted([v, k] for k, v in d.items())]"
   ]
  },
  {
   "cell_type": "code",
   "execution_count": 82,
   "metadata": {},
   "outputs": [
    {
     "data": {
      "text/plain": [
       "[Fraction(0, 1), Fraction(0, 1), Fraction(0, 1), Fraction(0, 1)]"
      ]
     },
     "execution_count": 82,
     "metadata": {},
     "output_type": "execute_result"
    }
   ],
   "source": [
    "from fractions import Fraction\n",
    "[Fraction(0)] * 4"
   ]
  },
  {
   "cell_type": "code",
   "execution_count": 91,
   "metadata": {},
   "outputs": [],
   "source": [
    "import re\n",
    "def term_scan(s):\n",
    "    m, ret = re.match(r\"([+-]?[0-9/]*)([xyz]?)$\", s).groups(), [Fraction(0)] * 4\n",
    "    ret[{\"x\": 0, \"y\": 1, \"z\": 2, \"\": 3}.get(m[1])] = \\\n",
    "        Fraction(m[0] + \"1\" if m[0] in [\"\", \"+\", \"-\"] else m[0])\n",
    "    return ret\n",
    "\n",
    "def aff_add(a1, a2):\n",
    "    ret = [x + y for x, y in zip(a1, a2)]\n",
    "    return ret\n",
    "def aff_scan(s):\n",
    "    aff = [Fraction(0)] * 4\n",
    "    for t in re.findall(r\"[+-]?[^+-]+\", s):\n",
    "        aff = aff_add(aff, term_scan(t))\n",
    "    return aff"
   ]
  },
  {
   "cell_type": "code",
   "execution_count": 93,
   "metadata": {},
   "outputs": [],
   "source": [
    "def aff_comp(aff):\n",
    "    lin = [list(a) for a in enumerate(aff[:3]) if a[1]]\n",
    "    return [len(lin), aff[3], lin]"
   ]
  },
  {
   "cell_type": "code",
   "execution_count": 96,
   "metadata": {},
   "outputs": [
    {
     "name": "stdout",
     "output_type": "stream",
     "text": [
      "x [Fraction(1, 1), Fraction(0, 1), Fraction(0, 1), Fraction(0, 1)] [1, Fraction(0, 1), [[0, Fraction(1, 1)]]]\n",
      "y [Fraction(0, 1), Fraction(1, 1), Fraction(0, 1), Fraction(0, 1)] [1, Fraction(0, 1), [[1, Fraction(1, 1)]]]\n",
      "z [Fraction(0, 1), Fraction(0, 1), Fraction(1, 1), Fraction(0, 1)] [1, Fraction(0, 1), [[2, Fraction(1, 1)]]]\n",
      "1/2-x [Fraction(-1, 1), Fraction(0, 1), Fraction(0, 1), Fraction(1, 2)] [1, Fraction(1, 2), [[0, Fraction(-1, 1)]]]\n",
      "-y [Fraction(0, 1), Fraction(-1, 1), Fraction(0, 1), Fraction(0, 1)] [1, Fraction(0, 1), [[1, Fraction(-1, 1)]]]\n",
      "1/2+z [Fraction(0, 1), Fraction(0, 1), Fraction(1, 1), Fraction(1, 2)] [1, Fraction(1, 2), [[2, Fraction(1, 1)]]]\n",
      "-x [Fraction(-1, 1), Fraction(0, 1), Fraction(0, 1), Fraction(0, 1)] [1, Fraction(0, 1), [[0, Fraction(-1, 1)]]]\n",
      "1/2+y [Fraction(0, 1), Fraction(1, 1), Fraction(0, 1), Fraction(1, 2)] [1, Fraction(1, 2), [[1, Fraction(1, 1)]]]\n",
      "1/2-z [Fraction(0, 1), Fraction(0, 1), Fraction(-1, 1), Fraction(1, 2)] [1, Fraction(1, 2), [[2, Fraction(-1, 1)]]]\n",
      "1/2+x [Fraction(1, 1), Fraction(0, 1), Fraction(0, 1), Fraction(1, 2)] [1, Fraction(1, 2), [[0, Fraction(1, 1)]]]\n",
      "1/2-y [Fraction(0, 1), Fraction(-1, 1), Fraction(0, 1), Fraction(1, 2)] [1, Fraction(1, 2), [[1, Fraction(-1, 1)]]]\n",
      "-z [Fraction(0, 1), Fraction(0, 1), Fraction(-1, 1), Fraction(0, 1)] [1, Fraction(0, 1), [[2, Fraction(-1, 1)]]]\n"
     ]
    }
   ],
   "source": [
    "for i in a:\n",
    "    print(i,aff_scan(i),aff_comp(aff_scan(i)))"
   ]
  },
  {
   "cell_type": "code",
   "execution_count": 77,
   "metadata": {},
   "outputs": [
    {
     "data": {
      "text/plain": [
       "[[0, 'x'],\n",
       " [1, 'y'],\n",
       " [2, 'z'],\n",
       " [3, '1/2-x'],\n",
       " [4, '-y'],\n",
       " [5, '1/2+z'],\n",
       " [6, '-x'],\n",
       " [7, '1/2+y'],\n",
       " [8, '1/2-z'],\n",
       " [9, '1/2+x'],\n",
       " [10, '1/2-y'],\n",
       " [11, '-z']]"
      ]
     },
     "execution_count": 77,
     "metadata": {},
     "output_type": "execute_result"
    }
   ],
   "source": [
    "d = {'x': 0, 'y': 1, 'z': 2, '1/2-x': 3, '-y': 4, '1/2+z': 5, '-x': 6, '1/2+y': 7, '1/2-z': 8, '1/2+x': 9, '1/2-y': 10, '-z': 11}\n",
    "sorted([v, k] for k, v in d.items())"
   ]
  },
  {
   "cell_type": "code",
   "execution_count": 2,
   "metadata": {},
   "outputs": [],
   "source": [
    "import numpy as np"
   ]
  },
  {
   "cell_type": "code",
   "execution_count": 3,
   "metadata": {},
   "outputs": [],
   "source": [
    "from ase.io import read, write"
   ]
  },
  {
   "cell_type": "code",
   "execution_count": 64,
   "metadata": {},
   "outputs": [],
   "source": [
    "from ase import Atoms"
   ]
  },
  {
   "cell_type": "code",
   "execution_count": 66,
   "metadata": {},
   "outputs": [
    {
     "data": {
      "text/plain": [
       "Symbols('C5HCHC3H2CHCHC2H2N2C3O2C6NCHNCHCRuHCH2N4HC10HC2HC2HC2HC2HC2HC2HC2HNHNHNHNHC9HCHCHCHCH2CH2C7HCHCHCHCH2CH2C2O4')"
      ]
     },
     "execution_count": 66,
     "metadata": {},
     "output_type": "execute_result"
    }
   ],
   "source": [
    "poly.symbols"
   ]
  },
  {
   "cell_type": "code",
   "execution_count": 68,
   "metadata": {
    "collapsed": true
   },
   "outputs": [
    {
     "data": {
      "text/plain": [
       "array([[ 7.30983, 21.2823 , 30.32205],\n",
       "       [ 8.55066, 21.86115, 30.59235],\n",
       "       [ 7.09512, 19.91601, 30.55461],\n",
       "       [ 6.21639, 22.11921, 29.86407],\n",
       "       [ 9.54567, 21.10023, 31.17834],\n",
       "       [ 8.72763, 22.9143 , 30.40977],\n",
       "       [ 8.09217, 19.15203, 31.14315],\n",
       "       [ 6.1455 , 19.45293, 30.31338],\n",
       "       [ 6.40509, 22.99131, 28.78746],\n",
       "       [ 4.97046, 22.0269 , 30.49392],\n",
       "       [ 9.30291, 19.75587, 31.50015],\n",
       "       [10.48254, 21.58167, 31.42926],\n",
       "       [ 7.89786, 18.10908, 31.36194],\n",
       "       [ 5.3244 , 23.6895 , 28.27542],\n",
       "       [ 7.36848, 23.0724 , 28.29837],\n",
       "       [ 3.8913 , 22.72968, 29.988  ],\n",
       "       [ 4.82511, 21.37716, 31.34868],\n",
       "       [10.27854, 19.0332 , 32.29524],\n",
       "       [ 4.05093, 23.51916, 28.8405 ],\n",
       "       [ 5.46924, 24.27804, 27.37884],\n",
       "       [ 2.91975, 22.58994, 30.44598],\n",
       "       [10.1133 , 17.74443, 32.69304],\n",
       "       [11.40666, 19.63347, 32.73894],\n",
       "       [ 2.87844, 23.93787, 28.08927],\n",
       "       [11.21031, 17.53584, 33.42795],\n",
       "       [11.97837, 18.67161, 33.4509 ],\n",
       "       [ 1.74573, 23.43297, 28.43097],\n",
       "       [ 3.05745, 24.77223, 27.09324],\n",
       "       [11.63769, 16.34142, 34.01394],\n",
       "       [13.2243 , 18.72057, 34.05066],\n",
       "       [12.91269, 16.35468, 34.60605],\n",
       "       [10.92624, 15.13425, 33.966  ],\n",
       "       [13.69146, 17.54043, 34.61472],\n",
       "       [14.12037, 19.8951 , 34.02669],\n",
       "       [13.46145, 15.20718, 35.07168],\n",
       "       [11.51019, 13.96788, 34.48722],\n",
       "       [ 9.94602, 15.0858 , 33.50853],\n",
       "       [15.03174, 17.48025, 35.07423],\n",
       "       [15.42189, 19.77219, 34.52751],\n",
       "       [13.78683, 20.83605, 33.60798],\n",
       "       [12.80457, 14.01786, 35.02527],\n",
       "       [15.49482, 15.49482, 35.50518],\n",
       "       [10.97979, 13.02591, 34.43673],\n",
       "       [15.87426, 18.54564, 35.03343],\n",
       "       [16.09254, 20.62083, 34.49487],\n",
       "       [13.28652, 13.11312, 35.36799],\n",
       "       [15.92832, 13.46145, 35.79282],\n",
       "       [15.20718, 15.92832, 37.53855],\n",
       "       [15.92577, 15.03174, 33.51975],\n",
       "       [17.48025, 15.92577, 35.96826],\n",
       "       [16.89783, 18.44772, 35.3634 ],\n",
       "       [16.39395, 12.91269, 34.64532],\n",
       "       [15.97473, 12.80457, 36.98214],\n",
       "       [16.35468, 16.39395, 38.08731],\n",
       "       [14.01786, 15.97473, 38.19543],\n",
       "       [16.38528, 13.69146, 33.45957],\n",
       "       [15.96657, 15.87426, 32.45436],\n",
       "       [17.54043, 16.38528, 37.30854],\n",
       "       [18.54564, 15.96657, 35.12574],\n",
       "       [16.98606, 11.63769, 34.65858],\n",
       "       [16.51278, 11.51019, 37.03212],\n",
       "       [15.63201, 13.28652, 37.88688],\n",
       "       [16.34142, 16.98606, 39.36231],\n",
       "       [13.96788, 16.51278, 39.48981],\n",
       "       [13.11312, 15.63201, 37.71348],\n",
       "       [16.94934, 13.2243 , 32.27943],\n",
       "       [16.47249, 15.42189, 31.22781],\n",
       "       [15.6366 , 16.89783, 32.55228],\n",
       "       [18.72057, 16.94934, 37.7757 ],\n",
       "       [19.77219, 16.47249, 35.57811],\n",
       "       [18.44772, 15.6366 , 34.10217],\n",
       "       [17.57205, 11.21031, 33.46416],\n",
       "       [17.034  , 10.92624, 35.86575],\n",
       "       [16.56327, 10.97979, 37.97409],\n",
       "       [17.53584, 17.57205, 39.78969],\n",
       "       [15.13425, 17.034  , 40.07376],\n",
       "       [13.02591, 16.56327, 40.02021],\n",
       "       [17.5491 , 11.97837, 32.32839],\n",
       "       [16.97331, 14.12037, 31.1049 ],\n",
       "       [16.50513, 16.09254, 30.37917],\n",
       "       [18.67161, 17.5491 , 39.02163],\n",
       "       [19.8951 , 16.97331, 36.87963],\n",
       "       [20.62083, 16.50513, 34.90746],\n",
       "       [18.30696, 10.1133 , 33.25557],\n",
       "       [17.49147,  9.94602, 35.9142 ],\n",
       "       [17.74443, 18.30696, 40.8867 ],\n",
       "       [15.0858 , 17.49147, 41.05398],\n",
       "       [18.26106, 11.40666, 31.36653],\n",
       "       [17.39202, 13.78683, 30.16395],\n",
       "       [19.63347, 18.26106, 39.59334],\n",
       "       [20.83605, 17.39202, 37.21317],\n",
       "       [18.70476, 10.27854, 31.9668 ],\n",
       "       [19.0332 , 18.70476, 40.72146],\n",
       "       [19.49985,  9.30291, 31.24413],\n",
       "       [19.75587, 19.49985, 41.69709],\n",
       "       [19.82166,  9.54567, 29.89977],\n",
       "       [19.85685,  8.09217, 31.84797],\n",
       "       [21.10023, 19.82166, 41.45433],\n",
       "       [19.15203, 19.85685, 42.90783],\n",
       "       [20.40765,  8.55066, 29.13885],\n",
       "       [19.57074, 10.48254, 29.41833],\n",
       "       [20.44539,  7.09512, 31.08399],\n",
       "       [19.63806,  7.89786, 32.89092],\n",
       "       [21.86115, 20.40765, 42.44934],\n",
       "       [21.58167, 19.57074, 40.51746],\n",
       "       [19.91601, 20.44539, 43.90488],\n",
       "       [18.10908, 19.63806, 43.10214],\n",
       "       [20.67795,  7.30983, 29.7177 ],\n",
       "       [20.59023,  8.72763, 28.0857 ],\n",
       "       [20.68662,  6.1455 , 31.54707],\n",
       "       [21.2823 , 20.67795, 43.69017],\n",
       "       [22.9143 , 20.59023, 42.27237],\n",
       "       [19.45293, 20.68662, 44.8545 ],\n",
       "       [21.13593,  6.21639, 28.88079],\n",
       "       [22.11921, 21.13593, 44.78361],\n",
       "       [22.21254,  6.40509, 28.00869],\n",
       "       [20.50608,  4.97046, 28.9731 ],\n",
       "       [22.99131, 22.21254, 44.59491],\n",
       "       [22.0269 , 20.50608, 46.02954],\n",
       "       [22.72458,  5.3244 , 27.3105 ],\n",
       "       [22.70163,  7.36848, 27.9276 ],\n",
       "       [21.012  ,  3.8913 , 28.27032],\n",
       "       [19.65132,  4.82511, 29.62284],\n",
       "       [23.6895 , 22.72458, 45.6756 ],\n",
       "       [23.0724 , 22.70163, 43.63152],\n",
       "       [22.72968, 21.012  , 47.1087 ],\n",
       "       [21.37716, 19.65132, 46.17489],\n",
       "       [22.1595 ,  4.05093, 27.48084],\n",
       "       [23.62116,  5.46924, 26.72196],\n",
       "       [20.55402,  2.91975, 28.41006],\n",
       "       [23.51916, 22.1595 , 46.94907],\n",
       "       [24.27804, 23.62116, 45.53076],\n",
       "       [22.58994, 20.55402, 48.08025],\n",
       "       [22.91073,  2.87844, 27.06213],\n",
       "       [23.93787, 22.91073, 48.12156],\n",
       "       [22.56903,  1.74573, 27.56703],\n",
       "       [23.90676,  3.05745, 26.22777],\n",
       "       [23.43297, 22.56903, 49.25427],\n",
       "       [24.77223, 23.90676, 47.94255]])"
      ]
     },
     "execution_count": 68,
     "metadata": {},
     "output_type": "execute_result"
    }
   ],
   "source": [
    "poly.positions"
   ]
  },
  {
   "cell_type": "code",
   "execution_count": 69,
   "metadata": {},
   "outputs": [
    {
     "data": {
      "text/plain": [
       "array([ 6,  6,  6,  6,  6,  1,  6,  1,  6,  6,  6,  1,  1,  6,  1,  6,  1,\n",
       "        6,  6,  1,  1,  7,  7,  6,  6,  6,  8,  8,  6,  6,  6,  6,  6,  6,\n",
       "        7,  6,  1,  7,  6,  1,  6, 44,  1,  6,  1,  1,  7,  7,  7,  7,  1,\n",
       "        6,  6,  6,  6,  6,  6,  6,  6,  6,  6,  1,  6,  6,  1,  6,  6,  1,\n",
       "        6,  6,  1,  6,  6,  1,  6,  6,  1,  6,  6,  1,  6,  6,  1,  7,  1,\n",
       "        7,  1,  7,  1,  7,  1,  6,  6,  6,  6,  6,  6,  6,  6,  6,  1,  6,\n",
       "        1,  6,  1,  6,  1,  6,  1,  1,  6,  1,  1,  6,  6,  6,  6,  6,  6,\n",
       "        6,  1,  6,  1,  6,  1,  6,  1,  6,  1,  1,  6,  1,  1,  6,  6,  8,\n",
       "        8,  8,  8])"
      ]
     },
     "execution_count": 69,
     "metadata": {},
     "output_type": "execute_result"
    }
   ],
   "source": [
    "poly.numbers"
   ]
  },
  {
   "cell_type": "code",
   "execution_count": 73,
   "metadata": {},
   "outputs": [
    {
     "ename": "AttributeError",
     "evalue": "'Atoms' object has no attribute 'charges'",
     "output_type": "error",
     "traceback": [
      "\u001b[0;31m---------------------------------------------------------------------------\u001b[0m",
      "\u001b[0;31mAttributeError\u001b[0m                            Traceback (most recent call last)",
      "\u001b[0;32m<ipython-input-73-eb04f55e753a>\u001b[0m in \u001b[0;36m<module>\u001b[0;34m\u001b[0m\n\u001b[0;32m----> 1\u001b[0;31m \u001b[0mpoly\u001b[0m\u001b[0;34m.\u001b[0m\u001b[0mcharges\u001b[0m\u001b[0;34m\u001b[0m\u001b[0;34m\u001b[0m\u001b[0m\n\u001b[0m",
      "\u001b[0;31mAttributeError\u001b[0m: 'Atoms' object has no attribute 'charges'"
     ]
    }
   ],
   "source": [
    "poly.charges"
   ]
  },
  {
   "cell_type": "code",
   "execution_count": null,
   "metadata": {},
   "outputs": [],
   "source": []
  },
  {
   "cell_type": "code",
   "execution_count": 65,
   "metadata": {},
   "outputs": [],
   "source": [
    "Atoms??"
   ]
  },
  {
   "cell_type": "code",
   "execution_count": null,
   "metadata": {},
   "outputs": [],
   "source": []
  },
  {
   "cell_type": "code",
   "execution_count": 25,
   "metadata": {
    "collapsed": true
   },
   "outputs": [
    {
     "ename": "KeyError",
     "evalue": "'Ru3+'",
     "output_type": "error",
     "traceback": [
      "\u001b[0;31m---------------------------------------------------------------------------\u001b[0m",
      "\u001b[0;31mKeyError\u001b[0m                                  Traceback (most recent call last)",
      "\u001b[0;32m<ipython-input-25-dd6d7b17820f>\u001b[0m in \u001b[0;36m<module>\u001b[0;34m\u001b[0m\n\u001b[1;32m      1\u001b[0m \u001b[0mfilename\u001b[0m \u001b[0;34m=\u001b[0m \u001b[0;34m\"/home/jyb/decryst/cp_one/ligand_two_phen-1.xyz\"\u001b[0m\u001b[0;34m\u001b[0m\u001b[0;34m\u001b[0m\u001b[0m\n\u001b[0;32m----> 2\u001b[0;31m \u001b[0mpoly\u001b[0m \u001b[0;34m=\u001b[0m \u001b[0mread\u001b[0m\u001b[0;34m(\u001b[0m\u001b[0;34m\"/home/jyb/decryst/cp_one/ligand_two_phen-1.xyz\"\u001b[0m\u001b[0;34m)\u001b[0m\u001b[0;34m\u001b[0m\u001b[0;34m\u001b[0m\u001b[0m\n\u001b[0m",
      "\u001b[0;32m~/.conda/envs/tf2_GPU/lib/python3.6/site-packages/ase/io/formats.py\u001b[0m in \u001b[0;36mread\u001b[0;34m(filename, index, format, parallel, do_not_split_by_at_sign, **kwargs)\u001b[0m\n\u001b[1;32m    735\u001b[0m     \u001b[0;32melse\u001b[0m\u001b[0;34m:\u001b[0m\u001b[0;34m\u001b[0m\u001b[0;34m\u001b[0m\u001b[0m\n\u001b[1;32m    736\u001b[0m         return next(_iread(filename, slice(index, None), format, io,\n\u001b[0;32m--> 737\u001b[0;31m                            parallel=parallel, **kwargs))\n\u001b[0m\u001b[1;32m    738\u001b[0m \u001b[0;34m\u001b[0m\u001b[0m\n\u001b[1;32m    739\u001b[0m \u001b[0;34m\u001b[0m\u001b[0m\n",
      "\u001b[0;32m~/.conda/envs/tf2_GPU/lib/python3.6/site-packages/ase/parallel.py\u001b[0m in \u001b[0;36mnew_generator\u001b[0;34m(*args, **kwargs)\u001b[0m\n\u001b[1;32m    273\u001b[0m             not kwargs.pop('parallel', True)):\n\u001b[1;32m    274\u001b[0m             \u001b[0;31m# Disable:\u001b[0m\u001b[0;34m\u001b[0m\u001b[0;34m\u001b[0m\u001b[0;34m\u001b[0m\u001b[0m\n\u001b[0;32m--> 275\u001b[0;31m             \u001b[0;32mfor\u001b[0m \u001b[0mresult\u001b[0m \u001b[0;32min\u001b[0m \u001b[0mgenerator\u001b[0m\u001b[0;34m(\u001b[0m\u001b[0;34m*\u001b[0m\u001b[0margs\u001b[0m\u001b[0;34m,\u001b[0m \u001b[0;34m**\u001b[0m\u001b[0mkwargs\u001b[0m\u001b[0;34m)\u001b[0m\u001b[0;34m:\u001b[0m\u001b[0;34m\u001b[0m\u001b[0;34m\u001b[0m\u001b[0m\n\u001b[0m\u001b[1;32m    276\u001b[0m                 \u001b[0;32myield\u001b[0m \u001b[0mresult\u001b[0m\u001b[0;34m\u001b[0m\u001b[0;34m\u001b[0m\u001b[0m\n\u001b[1;32m    277\u001b[0m             \u001b[0;32mreturn\u001b[0m\u001b[0;34m\u001b[0m\u001b[0;34m\u001b[0m\u001b[0m\n",
      "\u001b[0;32m~/.conda/envs/tf2_GPU/lib/python3.6/site-packages/ase/io/formats.py\u001b[0m in \u001b[0;36m_iread\u001b[0;34m(filename, index, format, io, parallel, full_output, **kwargs)\u001b[0m\n\u001b[1;32m    801\u001b[0m     \u001b[0;31m# Make sure fd is closed in case loop doesn't finish:\u001b[0m\u001b[0;34m\u001b[0m\u001b[0;34m\u001b[0m\u001b[0;34m\u001b[0m\u001b[0m\n\u001b[1;32m    802\u001b[0m     \u001b[0;32mtry\u001b[0m\u001b[0;34m:\u001b[0m\u001b[0;34m\u001b[0m\u001b[0;34m\u001b[0m\u001b[0m\n\u001b[0;32m--> 803\u001b[0;31m         \u001b[0;32mfor\u001b[0m \u001b[0mdct\u001b[0m \u001b[0;32min\u001b[0m \u001b[0mio\u001b[0m\u001b[0;34m.\u001b[0m\u001b[0mread\u001b[0m\u001b[0;34m(\u001b[0m\u001b[0mfd\u001b[0m\u001b[0;34m,\u001b[0m \u001b[0;34m*\u001b[0m\u001b[0margs\u001b[0m\u001b[0;34m,\u001b[0m \u001b[0;34m**\u001b[0m\u001b[0mkwargs\u001b[0m\u001b[0;34m)\u001b[0m\u001b[0;34m:\u001b[0m\u001b[0;34m\u001b[0m\u001b[0;34m\u001b[0m\u001b[0m\n\u001b[0m\u001b[1;32m    804\u001b[0m             \u001b[0;32mif\u001b[0m \u001b[0;32mnot\u001b[0m \u001b[0misinstance\u001b[0m\u001b[0;34m(\u001b[0m\u001b[0mdct\u001b[0m\u001b[0;34m,\u001b[0m \u001b[0mdict\u001b[0m\u001b[0;34m)\u001b[0m\u001b[0;34m:\u001b[0m\u001b[0;34m\u001b[0m\u001b[0;34m\u001b[0m\u001b[0m\n\u001b[1;32m    805\u001b[0m                 \u001b[0mdct\u001b[0m \u001b[0;34m=\u001b[0m \u001b[0;34m{\u001b[0m\u001b[0;34m'atoms'\u001b[0m\u001b[0;34m:\u001b[0m \u001b[0mdct\u001b[0m\u001b[0;34m}\u001b[0m\u001b[0;34m\u001b[0m\u001b[0;34m\u001b[0m\u001b[0m\n",
      "\u001b[0;32m~/.conda/envs/tf2_GPU/lib/python3.6/site-packages/ase/io/formats.py\u001b[0m in \u001b[0;36mwrap_read_function\u001b[0;34m(read, filename, index, **kwargs)\u001b[0m\n\u001b[1;32m    557\u001b[0m         \u001b[0;32myield\u001b[0m \u001b[0mread\u001b[0m\u001b[0;34m(\u001b[0m\u001b[0mfilename\u001b[0m\u001b[0;34m,\u001b[0m \u001b[0;34m**\u001b[0m\u001b[0mkwargs\u001b[0m\u001b[0;34m)\u001b[0m\u001b[0;34m\u001b[0m\u001b[0;34m\u001b[0m\u001b[0m\n\u001b[1;32m    558\u001b[0m     \u001b[0;32melse\u001b[0m\u001b[0;34m:\u001b[0m\u001b[0;34m\u001b[0m\u001b[0;34m\u001b[0m\u001b[0m\n\u001b[0;32m--> 559\u001b[0;31m         \u001b[0;32mfor\u001b[0m \u001b[0matoms\u001b[0m \u001b[0;32min\u001b[0m \u001b[0mread\u001b[0m\u001b[0;34m(\u001b[0m\u001b[0mfilename\u001b[0m\u001b[0;34m,\u001b[0m \u001b[0mindex\u001b[0m\u001b[0;34m,\u001b[0m \u001b[0;34m**\u001b[0m\u001b[0mkwargs\u001b[0m\u001b[0;34m)\u001b[0m\u001b[0;34m:\u001b[0m\u001b[0;34m\u001b[0m\u001b[0;34m\u001b[0m\u001b[0m\n\u001b[0m\u001b[1;32m    560\u001b[0m             \u001b[0;32myield\u001b[0m \u001b[0matoms\u001b[0m\u001b[0;34m\u001b[0m\u001b[0;34m\u001b[0m\u001b[0m\n\u001b[1;32m    561\u001b[0m \u001b[0;34m\u001b[0m\u001b[0m\n",
      "\u001b[0;32m~/.conda/envs/tf2_GPU/lib/python3.6/site-packages/ase/io/extxyz.py\u001b[0m in \u001b[0;36mread_xyz\u001b[0;34m(fileobj, index, properties_parser)\u001b[0m\n\u001b[1;32m    771\u001b[0m         \u001b[0;31m# check for consistency with frame index table\u001b[0m\u001b[0;34m\u001b[0m\u001b[0;34m\u001b[0m\u001b[0;34m\u001b[0m\u001b[0m\n\u001b[1;32m    772\u001b[0m         \u001b[0;32massert\u001b[0m \u001b[0mint\u001b[0m\u001b[0;34m(\u001b[0m\u001b[0mfileobj\u001b[0m\u001b[0;34m.\u001b[0m\u001b[0mreadline\u001b[0m\u001b[0;34m(\u001b[0m\u001b[0;34m)\u001b[0m\u001b[0;34m)\u001b[0m \u001b[0;34m==\u001b[0m \u001b[0mnatoms\u001b[0m\u001b[0;34m\u001b[0m\u001b[0;34m\u001b[0m\u001b[0m\n\u001b[0;32m--> 773\u001b[0;31m         \u001b[0;32myield\u001b[0m \u001b[0m_read_xyz_frame\u001b[0m\u001b[0;34m(\u001b[0m\u001b[0mfileobj\u001b[0m\u001b[0;34m,\u001b[0m \u001b[0mnatoms\u001b[0m\u001b[0;34m,\u001b[0m \u001b[0mproperties_parser\u001b[0m\u001b[0;34m,\u001b[0m \u001b[0mnvec\u001b[0m\u001b[0;34m)\u001b[0m\u001b[0;34m\u001b[0m\u001b[0;34m\u001b[0m\u001b[0m\n\u001b[0m\u001b[1;32m    774\u001b[0m \u001b[0;34m\u001b[0m\u001b[0m\n\u001b[1;32m    775\u001b[0m \u001b[0;34m\u001b[0m\u001b[0m\n",
      "\u001b[0;32m~/.conda/envs/tf2_GPU/lib/python3.6/site-packages/ase/io/extxyz.py\u001b[0m in \u001b[0;36m_read_xyz_frame\u001b[0;34m(lines, natoms, properties_parser, nvec)\u001b[0m\n\u001b[1;32m    491\u001b[0m                   \u001b[0mcell\u001b[0m\u001b[0;34m=\u001b[0m\u001b[0mcell\u001b[0m\u001b[0;34m,\u001b[0m\u001b[0;34m\u001b[0m\u001b[0;34m\u001b[0m\u001b[0m\n\u001b[1;32m    492\u001b[0m                   \u001b[0mpbc\u001b[0m\u001b[0;34m=\u001b[0m\u001b[0mpbc\u001b[0m\u001b[0;34m,\u001b[0m\u001b[0;34m\u001b[0m\u001b[0;34m\u001b[0m\u001b[0m\n\u001b[0;32m--> 493\u001b[0;31m                   info=info)\n\u001b[0m\u001b[1;32m    494\u001b[0m \u001b[0;34m\u001b[0m\u001b[0m\n\u001b[1;32m    495\u001b[0m     \u001b[0;31m# Read and set constraints\u001b[0m\u001b[0;34m\u001b[0m\u001b[0;34m\u001b[0m\u001b[0;34m\u001b[0m\u001b[0m\n",
      "\u001b[0;32m~/.conda/envs/tf2_GPU/lib/python3.6/site-packages/ase/atoms.py\u001b[0m in \u001b[0;36m__init__\u001b[0;34m(self, symbols, positions, numbers, tags, momenta, masses, magmoms, charges, scaled_positions, cell, pbc, celldisp, constraint, calculator, info, velocities)\u001b[0m\n\u001b[1;32m    206\u001b[0m                     'Use only one of \"symbols\" and \"numbers\".')\n\u001b[1;32m    207\u001b[0m             \u001b[0;32melse\u001b[0m\u001b[0;34m:\u001b[0m\u001b[0;34m\u001b[0m\u001b[0;34m\u001b[0m\u001b[0m\n\u001b[0;32m--> 208\u001b[0;31m                 \u001b[0mself\u001b[0m\u001b[0;34m.\u001b[0m\u001b[0mnew_array\u001b[0m\u001b[0;34m(\u001b[0m\u001b[0;34m'numbers'\u001b[0m\u001b[0;34m,\u001b[0m \u001b[0msymbols2numbers\u001b[0m\u001b[0;34m(\u001b[0m\u001b[0msymbols\u001b[0m\u001b[0;34m)\u001b[0m\u001b[0;34m,\u001b[0m \u001b[0mint\u001b[0m\u001b[0;34m)\u001b[0m\u001b[0;34m\u001b[0m\u001b[0;34m\u001b[0m\u001b[0m\n\u001b[0m\u001b[1;32m    209\u001b[0m \u001b[0;34m\u001b[0m\u001b[0m\n\u001b[1;32m    210\u001b[0m         \u001b[0;32mif\u001b[0m \u001b[0mself\u001b[0m\u001b[0;34m.\u001b[0m\u001b[0mnumbers\u001b[0m\u001b[0;34m.\u001b[0m\u001b[0mndim\u001b[0m \u001b[0;34m!=\u001b[0m \u001b[0;36m1\u001b[0m\u001b[0;34m:\u001b[0m\u001b[0;34m\u001b[0m\u001b[0;34m\u001b[0m\u001b[0m\n",
      "\u001b[0;32m~/.conda/envs/tf2_GPU/lib/python3.6/site-packages/ase/symbols.py\u001b[0m in \u001b[0;36msymbols2numbers\u001b[0;34m(symbols)\u001b[0m\n\u001b[1;32m     20\u001b[0m     \u001b[0;32mfor\u001b[0m \u001b[0ms\u001b[0m \u001b[0;32min\u001b[0m \u001b[0msymbols\u001b[0m\u001b[0;34m:\u001b[0m\u001b[0;34m\u001b[0m\u001b[0;34m\u001b[0m\u001b[0m\n\u001b[1;32m     21\u001b[0m         \u001b[0;32mif\u001b[0m \u001b[0misinstance\u001b[0m\u001b[0;34m(\u001b[0m\u001b[0ms\u001b[0m\u001b[0;34m,\u001b[0m \u001b[0mstr\u001b[0m\u001b[0;34m)\u001b[0m\u001b[0;34m:\u001b[0m\u001b[0;34m\u001b[0m\u001b[0;34m\u001b[0m\u001b[0m\n\u001b[0;32m---> 22\u001b[0;31m             \u001b[0mnumbers\u001b[0m\u001b[0;34m.\u001b[0m\u001b[0mappend\u001b[0m\u001b[0;34m(\u001b[0m\u001b[0matomic_numbers\u001b[0m\u001b[0;34m[\u001b[0m\u001b[0ms\u001b[0m\u001b[0;34m]\u001b[0m\u001b[0;34m)\u001b[0m\u001b[0;34m\u001b[0m\u001b[0;34m\u001b[0m\u001b[0m\n\u001b[0m\u001b[1;32m     23\u001b[0m         \u001b[0;32melse\u001b[0m\u001b[0;34m:\u001b[0m\u001b[0;34m\u001b[0m\u001b[0;34m\u001b[0m\u001b[0m\n\u001b[1;32m     24\u001b[0m             \u001b[0mnumbers\u001b[0m\u001b[0;34m.\u001b[0m\u001b[0mappend\u001b[0m\u001b[0;34m(\u001b[0m\u001b[0mint\u001b[0m\u001b[0;34m(\u001b[0m\u001b[0ms\u001b[0m\u001b[0;34m)\u001b[0m\u001b[0;34m)\u001b[0m\u001b[0;34m\u001b[0m\u001b[0;34m\u001b[0m\u001b[0m\n",
      "\u001b[0;31mKeyError\u001b[0m: 'Ru3+'"
     ]
    }
   ],
   "source": [
    "filename = \"/home/jyb/decryst/cp_one/ligand_two_phen-1.xyz\"\n",
    "poly = read(\"/home/jyb/decryst/cp_one/ligand_two_phen-1.xyz\")"
   ]
  },
  {
   "cell_type": "code",
   "execution_count": 62,
   "metadata": {},
   "outputs": [
    {
     "data": {
      "text/plain": [
       "['__add__',\n",
       " '__class__',\n",
       " '__delattr__',\n",
       " '__delitem__',\n",
       " '__dict__',\n",
       " '__dir__',\n",
       " '__doc__',\n",
       " '__eq__',\n",
       " '__format__',\n",
       " '__ge__',\n",
       " '__getattribute__',\n",
       " '__getitem__',\n",
       " '__gt__',\n",
       " '__hash__',\n",
       " '__iadd__',\n",
       " '__imul__',\n",
       " '__init__',\n",
       " '__init_subclass__',\n",
       " '__iter__',\n",
       " '__le__',\n",
       " '__len__',\n",
       " '__lt__',\n",
       " '__module__',\n",
       " '__mul__',\n",
       " '__ne__',\n",
       " '__new__',\n",
       " '__reduce__',\n",
       " '__reduce_ex__',\n",
       " '__repr__',\n",
       " '__setattr__',\n",
       " '__sizeof__',\n",
       " '__str__',\n",
       " '__subclasshook__',\n",
       " '__weakref__',\n",
       " '_ase_handles_dynamic_stress',\n",
       " '_calc',\n",
       " '_celldisp',\n",
       " '_cellobj',\n",
       " '_centering_as_array',\n",
       " '_constraints',\n",
       " '_del_constraints',\n",
       " '_get_atomic_numbers',\n",
       " '_get_constraints',\n",
       " '_get_positions',\n",
       " '_masked_rotate',\n",
       " '_pbc',\n",
       " '_set_positions',\n",
       " 'append',\n",
       " 'arrays',\n",
       " 'ase_objtype',\n",
       " 'calc',\n",
       " 'cell',\n",
       " 'center',\n",
       " 'constraints',\n",
       " 'copy',\n",
       " 'edit',\n",
       " 'euler_rotate',\n",
       " 'extend',\n",
       " 'fromdict',\n",
       " 'get_all_distances',\n",
       " 'get_angle',\n",
       " 'get_angles',\n",
       " 'get_angular_momentum',\n",
       " 'get_array',\n",
       " 'get_atomic_numbers',\n",
       " 'get_calculator',\n",
       " 'get_cell',\n",
       " 'get_cell_lengths_and_angles',\n",
       " 'get_celldisp',\n",
       " 'get_center_of_mass',\n",
       " 'get_charges',\n",
       " 'get_chemical_formula',\n",
       " 'get_chemical_symbols',\n",
       " 'get_dihedral',\n",
       " 'get_dihedrals',\n",
       " 'get_dipole_moment',\n",
       " 'get_distance',\n",
       " 'get_distances',\n",
       " 'get_forces',\n",
       " 'get_global_number_of_atoms',\n",
       " 'get_initial_charges',\n",
       " 'get_initial_magnetic_moments',\n",
       " 'get_kinetic_energy',\n",
       " 'get_magnetic_moment',\n",
       " 'get_magnetic_moments',\n",
       " 'get_masses',\n",
       " 'get_momenta',\n",
       " 'get_moments_of_inertia',\n",
       " 'get_number_of_atoms',\n",
       " 'get_pbc',\n",
       " 'get_positions',\n",
       " 'get_potential_energies',\n",
       " 'get_potential_energy',\n",
       " 'get_properties',\n",
       " 'get_reciprocal_cell',\n",
       " 'get_scaled_positions',\n",
       " 'get_stress',\n",
       " 'get_stresses',\n",
       " 'get_tags',\n",
       " 'get_temperature',\n",
       " 'get_total_energy',\n",
       " 'get_velocities',\n",
       " 'get_volume',\n",
       " 'has',\n",
       " 'info',\n",
       " 'iterimages',\n",
       " 'new_array',\n",
       " 'number_of_lattice_vectors',\n",
       " 'numbers',\n",
       " 'pbc',\n",
       " 'pop',\n",
       " 'positions',\n",
       " 'rattle',\n",
       " 'repeat',\n",
       " 'rotate',\n",
       " 'rotate_dihedral',\n",
       " 'set_angle',\n",
       " 'set_array',\n",
       " 'set_atomic_numbers',\n",
       " 'set_calculator',\n",
       " 'set_cell',\n",
       " 'set_celldisp',\n",
       " 'set_center_of_mass',\n",
       " 'set_chemical_symbols',\n",
       " 'set_constraint',\n",
       " 'set_dihedral',\n",
       " 'set_distance',\n",
       " 'set_initial_charges',\n",
       " 'set_initial_magnetic_moments',\n",
       " 'set_masses',\n",
       " 'set_momenta',\n",
       " 'set_pbc',\n",
       " 'set_positions',\n",
       " 'set_scaled_positions',\n",
       " 'set_tags',\n",
       " 'set_velocities',\n",
       " 'symbols',\n",
       " 'todict',\n",
       " 'translate',\n",
       " 'wrap',\n",
       " 'write']"
      ]
     },
     "execution_count": 62,
     "metadata": {},
     "output_type": "execute_result"
    }
   ],
   "source": [
    "dir(poly)"
   ]
  },
  {
   "cell_type": "code",
   "execution_count": 63,
   "metadata": {},
   "outputs": [
    {
     "ename": "TypeError",
     "evalue": "getattr expected at least 2 arguments, got 1",
     "output_type": "error",
     "traceback": [
      "\u001b[0;31m---------------------------------------------------------------------------\u001b[0m",
      "\u001b[0;31mTypeError\u001b[0m                                 Traceback (most recent call last)",
      "\u001b[0;32m<ipython-input-63-5758c78ca2c0>\u001b[0m in \u001b[0;36m<module>\u001b[0;34m\u001b[0m\n\u001b[0;32m----> 1\u001b[0;31m \u001b[0mgetattr\u001b[0m\u001b[0;34m(\u001b[0m\u001b[0mpoly\u001b[0m\u001b[0;34m)\u001b[0m\u001b[0;34m\u001b[0m\u001b[0;34m\u001b[0m\u001b[0m\n\u001b[0m",
      "\u001b[0;31mTypeError\u001b[0m: getattr expected at least 2 arguments, got 1"
     ]
    }
   ],
   "source": [
    "getattr(poly)"
   ]
  },
  {
   "cell_type": "code",
   "execution_count": 11,
   "metadata": {
    "collapsed": true
   },
   "outputs": [
    {
     "data": {
      "text/plain": [
       "array([[ 7.30983, 21.2823 , 30.32205],\n",
       "       [ 8.55066, 21.86115, 30.59235],\n",
       "       [ 7.09512, 19.91601, 30.55461],\n",
       "       [ 6.21639, 22.11921, 29.86407],\n",
       "       [ 9.54567, 21.10023, 31.17834],\n",
       "       [ 8.72763, 22.9143 , 30.40977],\n",
       "       [ 8.09217, 19.15203, 31.14315],\n",
       "       [ 6.1455 , 19.45293, 30.31338],\n",
       "       [ 6.40509, 22.99131, 28.78746],\n",
       "       [ 4.97046, 22.0269 , 30.49392],\n",
       "       [ 9.30291, 19.75587, 31.50015],\n",
       "       [10.48254, 21.58167, 31.42926],\n",
       "       [ 7.89786, 18.10908, 31.36194],\n",
       "       [ 5.3244 , 23.6895 , 28.27542],\n",
       "       [ 7.36848, 23.0724 , 28.29837],\n",
       "       [ 3.8913 , 22.72968, 29.988  ],\n",
       "       [ 4.82511, 21.37716, 31.34868],\n",
       "       [10.27854, 19.0332 , 32.29524],\n",
       "       [ 4.05093, 23.51916, 28.8405 ],\n",
       "       [ 5.46924, 24.27804, 27.37884],\n",
       "       [ 2.91975, 22.58994, 30.44598],\n",
       "       [10.1133 , 17.74443, 32.69304],\n",
       "       [11.40666, 19.63347, 32.73894],\n",
       "       [ 2.87844, 23.93787, 28.08927],\n",
       "       [11.21031, 17.53584, 33.42795],\n",
       "       [11.97837, 18.67161, 33.4509 ],\n",
       "       [ 1.74573, 23.43297, 28.43097],\n",
       "       [ 3.05745, 24.77223, 27.09324],\n",
       "       [11.63769, 16.34142, 34.01394],\n",
       "       [13.2243 , 18.72057, 34.05066],\n",
       "       [12.91269, 16.35468, 34.60605],\n",
       "       [10.92624, 15.13425, 33.966  ],\n",
       "       [13.69146, 17.54043, 34.61472],\n",
       "       [14.12037, 19.8951 , 34.02669],\n",
       "       [13.46145, 15.20718, 35.07168],\n",
       "       [11.51019, 13.96788, 34.48722],\n",
       "       [ 9.94602, 15.0858 , 33.50853],\n",
       "       [15.03174, 17.48025, 35.07423],\n",
       "       [15.42189, 19.77219, 34.52751],\n",
       "       [13.78683, 20.83605, 33.60798],\n",
       "       [12.80457, 14.01786, 35.02527],\n",
       "       [15.49482, 15.49482, 35.50518],\n",
       "       [10.97979, 13.02591, 34.43673],\n",
       "       [15.87426, 18.54564, 35.03343],\n",
       "       [16.09254, 20.62083, 34.49487],\n",
       "       [13.28652, 13.11312, 35.36799],\n",
       "       [15.92832, 13.46145, 35.79282],\n",
       "       [15.20718, 15.92832, 37.53855],\n",
       "       [15.92577, 15.03174, 33.51975],\n",
       "       [17.48025, 15.92577, 35.96826],\n",
       "       [16.89783, 18.44772, 35.3634 ],\n",
       "       [16.39395, 12.91269, 34.64532],\n",
       "       [15.97473, 12.80457, 36.98214],\n",
       "       [16.35468, 16.39395, 38.08731],\n",
       "       [14.01786, 15.97473, 38.19543],\n",
       "       [16.38528, 13.69146, 33.45957],\n",
       "       [15.96657, 15.87426, 32.45436],\n",
       "       [17.54043, 16.38528, 37.30854],\n",
       "       [18.54564, 15.96657, 35.12574],\n",
       "       [16.98606, 11.63769, 34.65858],\n",
       "       [16.51278, 11.51019, 37.03212],\n",
       "       [15.63201, 13.28652, 37.88688],\n",
       "       [16.34142, 16.98606, 39.36231],\n",
       "       [13.96788, 16.51278, 39.48981],\n",
       "       [13.11312, 15.63201, 37.71348],\n",
       "       [16.94934, 13.2243 , 32.27943],\n",
       "       [16.47249, 15.42189, 31.22781],\n",
       "       [15.6366 , 16.89783, 32.55228],\n",
       "       [18.72057, 16.94934, 37.7757 ],\n",
       "       [19.77219, 16.47249, 35.57811],\n",
       "       [18.44772, 15.6366 , 34.10217],\n",
       "       [17.57205, 11.21031, 33.46416],\n",
       "       [17.034  , 10.92624, 35.86575],\n",
       "       [16.56327, 10.97979, 37.97409],\n",
       "       [17.53584, 17.57205, 39.78969],\n",
       "       [15.13425, 17.034  , 40.07376],\n",
       "       [13.02591, 16.56327, 40.02021],\n",
       "       [17.5491 , 11.97837, 32.32839],\n",
       "       [16.97331, 14.12037, 31.1049 ],\n",
       "       [16.50513, 16.09254, 30.37917],\n",
       "       [18.67161, 17.5491 , 39.02163],\n",
       "       [19.8951 , 16.97331, 36.87963],\n",
       "       [20.62083, 16.50513, 34.90746],\n",
       "       [18.30696, 10.1133 , 33.25557],\n",
       "       [17.49147,  9.94602, 35.9142 ],\n",
       "       [17.74443, 18.30696, 40.8867 ],\n",
       "       [15.0858 , 17.49147, 41.05398],\n",
       "       [18.26106, 11.40666, 31.36653],\n",
       "       [17.39202, 13.78683, 30.16395],\n",
       "       [19.63347, 18.26106, 39.59334],\n",
       "       [20.83605, 17.39202, 37.21317],\n",
       "       [18.70476, 10.27854, 31.9668 ],\n",
       "       [19.0332 , 18.70476, 40.72146],\n",
       "       [19.49985,  9.30291, 31.24413],\n",
       "       [19.75587, 19.49985, 41.69709],\n",
       "       [19.82166,  9.54567, 29.89977],\n",
       "       [19.85685,  8.09217, 31.84797],\n",
       "       [21.10023, 19.82166, 41.45433],\n",
       "       [19.15203, 19.85685, 42.90783],\n",
       "       [20.40765,  8.55066, 29.13885],\n",
       "       [19.57074, 10.48254, 29.41833],\n",
       "       [20.44539,  7.09512, 31.08399],\n",
       "       [19.63806,  7.89786, 32.89092],\n",
       "       [21.86115, 20.40765, 42.44934],\n",
       "       [21.58167, 19.57074, 40.51746],\n",
       "       [19.91601, 20.44539, 43.90488],\n",
       "       [18.10908, 19.63806, 43.10214],\n",
       "       [20.67795,  7.30983, 29.7177 ],\n",
       "       [20.59023,  8.72763, 28.0857 ],\n",
       "       [20.68662,  6.1455 , 31.54707],\n",
       "       [21.2823 , 20.67795, 43.69017],\n",
       "       [22.9143 , 20.59023, 42.27237],\n",
       "       [19.45293, 20.68662, 44.8545 ],\n",
       "       [21.13593,  6.21639, 28.88079],\n",
       "       [22.11921, 21.13593, 44.78361],\n",
       "       [22.21254,  6.40509, 28.00869],\n",
       "       [20.50608,  4.97046, 28.9731 ],\n",
       "       [22.99131, 22.21254, 44.59491],\n",
       "       [22.0269 , 20.50608, 46.02954],\n",
       "       [22.72458,  5.3244 , 27.3105 ],\n",
       "       [22.70163,  7.36848, 27.9276 ],\n",
       "       [21.012  ,  3.8913 , 28.27032],\n",
       "       [19.65132,  4.82511, 29.62284],\n",
       "       [23.6895 , 22.72458, 45.6756 ],\n",
       "       [23.0724 , 22.70163, 43.63152],\n",
       "       [22.72968, 21.012  , 47.1087 ],\n",
       "       [21.37716, 19.65132, 46.17489],\n",
       "       [22.1595 ,  4.05093, 27.48084],\n",
       "       [23.62116,  5.46924, 26.72196],\n",
       "       [20.55402,  2.91975, 28.41006],\n",
       "       [23.51916, 22.1595 , 46.94907],\n",
       "       [24.27804, 23.62116, 45.53076],\n",
       "       [22.58994, 20.55402, 48.08025],\n",
       "       [22.91073,  2.87844, 27.06213],\n",
       "       [23.93787, 22.91073, 48.12156],\n",
       "       [22.56903,  1.74573, 27.56703],\n",
       "       [23.90676,  3.05745, 26.22777],\n",
       "       [23.43297, 22.56903, 49.25427],\n",
       "       [24.77223, 23.90676, 47.94255]])"
      ]
     },
     "execution_count": 11,
     "metadata": {},
     "output_type": "execute_result"
    }
   ],
   "source": [
    "poly.get_positions()"
   ]
  },
  {
   "cell_type": "code",
   "execution_count": 59,
   "metadata": {},
   "outputs": [
    {
     "name": "stdout",
     "output_type": "stream",
     "text": [
      "Atom('S', [0.0, 0.0, 0.0], index=0)\n"
     ]
    }
   ],
   "source": [
    "for i in lattices: print(i)"
   ]
  },
  {
   "cell_type": "code",
   "execution_count": 56,
   "metadata": {},
   "outputs": [],
   "source": [
    "filename = \"/home/jyb/decryst/cp_one/train.xyz\"\n",
    "lattices = read(\"/home/jyb/decryst/cp_one/train.xyz\",format='extxyz')"
   ]
  },
  {
   "cell_type": "code",
   "execution_count": 58,
   "metadata": {},
   "outputs": [
    {
     "data": {
      "text/plain": [
       "Atoms(symbols='S', pbc=False, cell=[100.0, 100.0, 100.0], calculator=SinglePointCalculator(...))"
      ]
     },
     "execution_count": 58,
     "metadata": {},
     "output_type": "execute_result"
    }
   ],
   "source": [
    "lattices"
   ]
  },
  {
   "cell_type": "code",
   "execution_count": 17,
   "metadata": {
    "collapsed": true
   },
   "outputs": [
    {
     "data": {
      "text/plain": [
       "['C',\n",
       " 'C',\n",
       " 'C',\n",
       " 'C',\n",
       " 'C',\n",
       " 'H',\n",
       " 'C',\n",
       " 'H',\n",
       " 'C',\n",
       " 'C',\n",
       " 'C',\n",
       " 'H',\n",
       " 'H',\n",
       " 'C',\n",
       " 'H',\n",
       " 'C',\n",
       " 'H',\n",
       " 'C',\n",
       " 'C',\n",
       " 'H',\n",
       " 'H',\n",
       " 'N',\n",
       " 'N',\n",
       " 'C',\n",
       " 'C',\n",
       " 'C',\n",
       " 'O',\n",
       " 'O',\n",
       " 'C',\n",
       " 'C',\n",
       " 'C',\n",
       " 'C',\n",
       " 'C',\n",
       " 'C',\n",
       " 'N',\n",
       " 'C',\n",
       " 'H',\n",
       " 'N',\n",
       " 'C',\n",
       " 'H',\n",
       " 'C',\n",
       " 'Ru',\n",
       " 'H',\n",
       " 'C',\n",
       " 'H',\n",
       " 'H',\n",
       " 'N',\n",
       " 'N',\n",
       " 'N',\n",
       " 'N',\n",
       " 'H',\n",
       " 'C',\n",
       " 'C',\n",
       " 'C',\n",
       " 'C',\n",
       " 'C',\n",
       " 'C',\n",
       " 'C',\n",
       " 'C',\n",
       " 'C',\n",
       " 'C',\n",
       " 'H',\n",
       " 'C',\n",
       " 'C',\n",
       " 'H',\n",
       " 'C',\n",
       " 'C',\n",
       " 'H',\n",
       " 'C',\n",
       " 'C',\n",
       " 'H',\n",
       " 'C',\n",
       " 'C',\n",
       " 'H',\n",
       " 'C',\n",
       " 'C',\n",
       " 'H',\n",
       " 'C',\n",
       " 'C',\n",
       " 'H',\n",
       " 'C',\n",
       " 'C',\n",
       " 'H',\n",
       " 'N',\n",
       " 'H',\n",
       " 'N',\n",
       " 'H',\n",
       " 'N',\n",
       " 'H',\n",
       " 'N',\n",
       " 'H',\n",
       " 'C',\n",
       " 'C',\n",
       " 'C',\n",
       " 'C',\n",
       " 'C',\n",
       " 'C',\n",
       " 'C',\n",
       " 'C',\n",
       " 'C',\n",
       " 'H',\n",
       " 'C',\n",
       " 'H',\n",
       " 'C',\n",
       " 'H',\n",
       " 'C',\n",
       " 'H',\n",
       " 'C',\n",
       " 'H',\n",
       " 'H',\n",
       " 'C',\n",
       " 'H',\n",
       " 'H',\n",
       " 'C',\n",
       " 'C',\n",
       " 'C',\n",
       " 'C',\n",
       " 'C',\n",
       " 'C',\n",
       " 'C',\n",
       " 'H',\n",
       " 'C',\n",
       " 'H',\n",
       " 'C',\n",
       " 'H',\n",
       " 'C',\n",
       " 'H',\n",
       " 'C',\n",
       " 'H',\n",
       " 'H',\n",
       " 'C',\n",
       " 'H',\n",
       " 'H',\n",
       " 'C',\n",
       " 'C',\n",
       " 'O',\n",
       " 'O',\n",
       " 'O',\n",
       " 'O']"
      ]
     },
     "execution_count": 17,
     "metadata": {},
     "output_type": "execute_result"
    }
   ],
   "source": [
    "poly.get_chemical_symbols()"
   ]
  },
  {
   "cell_type": "code",
   "execution_count": 50,
   "metadata": {
    "collapsed": true
   },
   "outputs": [
    {
     "data": {
      "text/plain": [
       "[Atom('C', [7.30983, 21.2823, 30.32205], charge=3.0, index=0),\n",
       " Atom('C', [8.55066, 21.86115, 30.59235], charge=0.0, index=1),\n",
       " Atom('C', [7.09512, 19.91601, 30.55461], charge=0.0, index=2),\n",
       " Atom('C', [6.21639, 22.11921, 29.86407], charge=0.0, index=3),\n",
       " Atom('C', [9.54567, 21.10023, 31.17834], charge=0.0, index=4),\n",
       " Atom('H', [8.72763, 22.9143, 30.40977], charge=0.0, index=5),\n",
       " Atom('C', [8.09217, 19.15203, 31.14315], charge=0.0, index=6),\n",
       " Atom('H', [6.1455, 19.45293, 30.31338], charge=0.0, index=7),\n",
       " Atom('C', [6.40509, 22.99131, 28.78746], charge=0.0, index=8),\n",
       " Atom('C', [4.97046, 22.0269, 30.49392], charge=0.0, index=9),\n",
       " Atom('C', [9.30291, 19.75587, 31.50015], charge=0.0, index=10),\n",
       " Atom('H', [10.48254, 21.58167, 31.42926], charge=0.0, index=11),\n",
       " Atom('H', [7.89786, 18.10908, 31.36194], charge=0.0, index=12),\n",
       " Atom('C', [5.3244, 23.6895, 28.27542], charge=0.0, index=13),\n",
       " Atom('H', [7.36848, 23.0724, 28.29837], charge=0.0, index=14),\n",
       " Atom('C', [3.8913, 22.72968, 29.988], charge=0.0, index=15),\n",
       " Atom('H', [4.82511, 21.37716, 31.34868], charge=0.0, index=16),\n",
       " Atom('C', [10.27854, 19.0332, 32.29524], charge=0.0, index=17),\n",
       " Atom('C', [4.05093, 23.51916, 28.8405], charge=0.0, index=18),\n",
       " Atom('H', [5.46924, 24.27804, 27.37884], charge=0.0, index=19),\n",
       " Atom('H', [2.91975, 22.58994, 30.44598], charge=0.0, index=20),\n",
       " Atom('N', [10.1133, 17.74443, 32.69304], charge=0.0, index=21),\n",
       " Atom('N', [11.40666, 19.63347, 32.73894], charge=0.0, index=22),\n",
       " Atom('C', [2.87844, 23.93787, 28.08927], charge=0.0, index=23),\n",
       " Atom('C', [11.21031, 17.53584, 33.42795], charge=0.0, index=24),\n",
       " Atom('C', [11.97837, 18.67161, 33.4509], charge=0.0, index=25),\n",
       " Atom('O', [1.74573, 23.43297, 28.43097], charge=0.0, index=26),\n",
       " Atom('O', [3.05745, 24.77223, 27.09324], charge=0.0, index=27),\n",
       " Atom('C', [11.63769, 16.34142, 34.01394], charge=0.0, index=28),\n",
       " Atom('C', [13.2243, 18.72057, 34.05066], charge=0.0, index=29),\n",
       " Atom('C', [12.91269, 16.35468, 34.60605], charge=0.0, index=30),\n",
       " Atom('C', [10.92624, 15.13425, 33.966], charge=0.0, index=31),\n",
       " Atom('C', [13.69146, 17.54043, 34.61472], charge=0.0, index=32),\n",
       " Atom('C', [14.12037, 19.8951, 34.02669], charge=0.0, index=33),\n",
       " Atom('N', [13.46145, 15.20718, 35.07168], charge=0.0, index=34),\n",
       " Atom('C', [11.51019, 13.96788, 34.48722], charge=0.0, index=35),\n",
       " Atom('H', [9.94602, 15.0858, 33.50853], charge=0.0, index=36),\n",
       " Atom('N', [15.03174, 17.48025, 35.07423], charge=0.0, index=37),\n",
       " Atom('C', [15.42189, 19.77219, 34.52751], charge=0.0, index=38),\n",
       " Atom('H', [13.78683, 20.83605, 33.60798], charge=0.0, index=39),\n",
       " Atom('C', [12.80457, 14.01786, 35.02527], charge=0.0, index=40),\n",
       " Atom('Ru', [15.49482, 15.49482, 35.50518], charge=0.0, index=41),\n",
       " Atom('H', [10.97979, 13.02591, 34.43673], charge=0.0, index=42),\n",
       " Atom('C', [15.87426, 18.54564, 35.03343], charge=0.0, index=43),\n",
       " Atom('H', [16.09254, 20.62083, 34.49487], charge=0.0, index=44),\n",
       " Atom('H', [13.28652, 13.11312, 35.36799], charge=0.0, index=45),\n",
       " Atom('N', [15.92832, 13.46145, 35.79282], charge=0.0, index=46),\n",
       " Atom('N', [15.20718, 15.92832, 37.53855], charge=0.0, index=47),\n",
       " Atom('N', [15.92577, 15.03174, 33.51975], charge=0.0, index=48),\n",
       " Atom('N', [17.48025, 15.92577, 35.96826], charge=0.0, index=49),\n",
       " Atom('H', [16.89783, 18.44772, 35.3634], charge=0.0, index=50),\n",
       " Atom('C', [16.39395, 12.91269, 34.64532], charge=0.0, index=51),\n",
       " Atom('C', [15.97473, 12.80457, 36.98214], charge=0.0, index=52),\n",
       " Atom('C', [16.35468, 16.39395, 38.08731], charge=0.0, index=53),\n",
       " Atom('C', [14.01786, 15.97473, 38.19543], charge=0.0, index=54),\n",
       " Atom('C', [16.38528, 13.69146, 33.45957], charge=0.0, index=55),\n",
       " Atom('C', [15.96657, 15.87426, 32.45436], charge=0.0, index=56),\n",
       " Atom('C', [17.54043, 16.38528, 37.30854], charge=0.0, index=57),\n",
       " Atom('C', [18.54564, 15.96657, 35.12574], charge=0.0, index=58),\n",
       " Atom('C', [16.98606, 11.63769, 34.65858], charge=0.0, index=59),\n",
       " Atom('C', [16.51278, 11.51019, 37.03212], charge=0.0, index=60),\n",
       " Atom('H', [15.63201, 13.28652, 37.88688], charge=0.0, index=61),\n",
       " Atom('C', [16.34142, 16.98606, 39.36231], charge=0.0, index=62),\n",
       " Atom('C', [13.96788, 16.51278, 39.48981], charge=0.0, index=63),\n",
       " Atom('H', [13.11312, 15.63201, 37.71348], charge=0.0, index=64),\n",
       " Atom('C', [16.94934, 13.2243, 32.27943], charge=0.0, index=65),\n",
       " Atom('C', [16.47249, 15.42189, 31.22781], charge=0.0, index=66),\n",
       " Atom('H', [15.6366, 16.89783, 32.55228], charge=0.0, index=67),\n",
       " Atom('C', [18.72057, 16.94934, 37.7757], charge=0.0, index=68),\n",
       " Atom('C', [19.77219, 16.47249, 35.57811], charge=0.0, index=69),\n",
       " Atom('H', [18.44772, 15.6366, 34.10217], charge=0.0, index=70),\n",
       " Atom('C', [17.57205, 11.21031, 33.46416], charge=0.0, index=71),\n",
       " Atom('C', [17.034, 10.92624, 35.86575], charge=0.0, index=72),\n",
       " Atom('H', [16.56327, 10.97979, 37.97409], charge=0.0, index=73),\n",
       " Atom('C', [17.53584, 17.57205, 39.78969], charge=0.0, index=74),\n",
       " Atom('C', [15.13425, 17.034, 40.07376], charge=0.0, index=75),\n",
       " Atom('H', [13.02591, 16.56327, 40.02021], charge=0.0, index=76),\n",
       " Atom('C', [17.5491, 11.97837, 32.32839], charge=0.0, index=77),\n",
       " Atom('C', [16.97331, 14.12037, 31.1049], charge=0.0, index=78),\n",
       " Atom('H', [16.50513, 16.09254, 30.37917], charge=0.0, index=79),\n",
       " Atom('C', [18.67161, 17.5491, 39.02163], charge=0.0, index=80),\n",
       " Atom('C', [19.8951, 16.97331, 36.87963], charge=0.0, index=81),\n",
       " Atom('H', [20.62083, 16.50513, 34.90746], charge=0.0, index=82),\n",
       " Atom('N', [18.30696, 10.1133, 33.25557], charge=0.0, index=83),\n",
       " Atom('H', [17.49147, 9.94602, 35.9142], charge=0.0, index=84),\n",
       " Atom('N', [17.74443, 18.30696, 40.8867], charge=0.0, index=85),\n",
       " Atom('H', [15.0858, 17.49147, 41.05398], charge=0.0, index=86),\n",
       " Atom('N', [18.26106, 11.40666, 31.36653], charge=0.0, index=87),\n",
       " Atom('H', [17.39202, 13.78683, 30.16395], charge=0.0, index=88),\n",
       " Atom('N', [19.63347, 18.26106, 39.59334], charge=0.0, index=89),\n",
       " Atom('H', [20.83605, 17.39202, 37.21317], charge=0.0, index=90),\n",
       " Atom('C', [18.70476, 10.27854, 31.9668], charge=0.0, index=91),\n",
       " Atom('C', [19.0332, 18.70476, 40.72146], charge=0.0, index=92),\n",
       " Atom('C', [19.49985, 9.30291, 31.24413], charge=0.0, index=93),\n",
       " Atom('C', [19.75587, 19.49985, 41.69709], charge=0.0, index=94),\n",
       " Atom('C', [19.82166, 9.54567, 29.89977], charge=0.0, index=95),\n",
       " Atom('C', [19.85685, 8.09217, 31.84797], charge=0.0, index=96),\n",
       " Atom('C', [21.10023, 19.82166, 41.45433], charge=0.0, index=97),\n",
       " Atom('C', [19.15203, 19.85685, 42.90783], charge=0.0, index=98),\n",
       " Atom('C', [20.40765, 8.55066, 29.13885], charge=0.0, index=99),\n",
       " Atom('H', [19.57074, 10.48254, 29.41833], charge=0.0, index=100),\n",
       " Atom('C', [20.44539, 7.09512, 31.08399], charge=0.0, index=101),\n",
       " Atom('H', [19.63806, 7.89786, 32.89092], charge=0.0, index=102),\n",
       " Atom('C', [21.86115, 20.40765, 42.44934], charge=0.0, index=103),\n",
       " Atom('H', [21.58167, 19.57074, 40.51746], charge=0.0, index=104),\n",
       " Atom('C', [19.91601, 20.44539, 43.90488], charge=0.0, index=105),\n",
       " Atom('H', [18.10908, 19.63806, 43.10214], charge=0.0, index=106),\n",
       " Atom('C', [20.67795, 7.30983, 29.7177], charge=0.0, index=107),\n",
       " Atom('H', [20.59023, 8.72763, 28.0857], charge=0.0, index=108),\n",
       " Atom('H', [20.68662, 6.1455, 31.54707], charge=0.0, index=109),\n",
       " Atom('C', [21.2823, 20.67795, 43.69017], charge=0.0, index=110),\n",
       " Atom('H', [22.9143, 20.59023, 42.27237], charge=0.0, index=111),\n",
       " Atom('H', [19.45293, 20.68662, 44.8545], charge=0.0, index=112),\n",
       " Atom('C', [21.13593, 6.21639, 28.88079], charge=0.0, index=113),\n",
       " Atom('C', [22.11921, 21.13593, 44.78361], charge=0.0, index=114),\n",
       " Atom('C', [22.21254, 6.40509, 28.00869], charge=0.0, index=115),\n",
       " Atom('C', [20.50608, 4.97046, 28.9731], charge=0.0, index=116),\n",
       " Atom('C', [22.99131, 22.21254, 44.59491], charge=0.0, index=117),\n",
       " Atom('C', [22.0269, 20.50608, 46.02954], charge=0.0, index=118),\n",
       " Atom('C', [22.72458, 5.3244, 27.3105], charge=0.0, index=119),\n",
       " Atom('H', [22.70163, 7.36848, 27.9276], charge=0.0, index=120),\n",
       " Atom('C', [21.012, 3.8913, 28.27032], charge=0.0, index=121),\n",
       " Atom('H', [19.65132, 4.82511, 29.62284], charge=0.0, index=122),\n",
       " Atom('C', [23.6895, 22.72458, 45.6756], charge=0.0, index=123),\n",
       " Atom('H', [23.0724, 22.70163, 43.63152], charge=0.0, index=124),\n",
       " Atom('C', [22.72968, 21.012, 47.1087], charge=0.0, index=125),\n",
       " Atom('H', [21.37716, 19.65132, 46.17489], charge=0.0, index=126),\n",
       " Atom('C', [22.1595, 4.05093, 27.48084], charge=0.0, index=127),\n",
       " Atom('H', [23.62116, 5.46924, 26.72196], charge=0.0, index=128),\n",
       " Atom('H', [20.55402, 2.91975, 28.41006], charge=0.0, index=129),\n",
       " Atom('C', [23.51916, 22.1595, 46.94907], charge=0.0, index=130),\n",
       " Atom('H', [24.27804, 23.62116, 45.53076], charge=0.0, index=131),\n",
       " Atom('H', [22.58994, 20.55402, 48.08025], charge=0.0, index=132),\n",
       " Atom('C', [22.91073, 2.87844, 27.06213], charge=0.0, index=133),\n",
       " Atom('C', [23.93787, 22.91073, 48.12156], charge=0.0, index=134),\n",
       " Atom('O', [22.56903, 1.74573, 27.56703], charge=0.0, index=135),\n",
       " Atom('O', [23.90676, 3.05745, 26.22777], charge=0.0, index=136),\n",
       " Atom('O', [23.43297, 22.56903, 49.25427], charge=0.0, index=137),\n",
       " Atom('O', [24.77223, 23.90676, 47.94255], charge=0.0, index=138)]"
      ]
     },
     "execution_count": 50,
     "metadata": {},
     "output_type": "execute_result"
    }
   ],
   "source": [
    "list(poly)"
   ]
  },
  {
   "cell_type": "code",
   "execution_count": 43,
   "metadata": {},
   "outputs": [],
   "source": [
    "from ase import Atom"
   ]
  },
  {
   "cell_type": "code",
   "execution_count": 44,
   "metadata": {},
   "outputs": [],
   "source": [
    "Atom"
   ]
  },
  {
   "cell_type": "code",
   "execution_count": 18,
   "metadata": {},
   "outputs": [],
   "source": [
    "dict_all = dict(zip(poly.get_chemical_symbols(),poly.get_positions()))"
   ]
  },
  {
   "cell_type": "code",
   "execution_count": 19,
   "metadata": {
    "collapsed": true
   },
   "outputs": [
    {
     "data": {
      "text/plain": [
       "{'C': array([23.93787, 22.91073, 48.12156]),\n",
       " 'H': array([22.58994, 20.55402, 48.08025]),\n",
       " 'N': array([19.63347, 18.26106, 39.59334]),\n",
       " 'O': array([24.77223, 23.90676, 47.94255]),\n",
       " 'Ru': array([15.49482, 15.49482, 35.50518])}"
      ]
     },
     "execution_count": 19,
     "metadata": {},
     "output_type": "execute_result"
    }
   ],
   "source": [
    "dict_all"
   ]
  },
  {
   "cell_type": "code",
   "execution_count": 21,
   "metadata": {},
   "outputs": [
    {
     "data": {
      "text/plain": [
       "Atoms(symbols='C78H42N12O6Ru', pbc=False)"
      ]
     },
     "execution_count": 21,
     "metadata": {},
     "output_type": "execute_result"
    }
   ],
   "source": [
    "poly"
   ]
  },
  {
   "cell_type": "code",
   "execution_count": 24,
   "metadata": {},
   "outputs": [
    {
     "data": {
      "text/plain": [
       "['S']"
      ]
     },
     "execution_count": 24,
     "metadata": {},
     "output_type": "execute_result"
    }
   ],
   "source": [
    "lattices.get_chemical_symbols()"
   ]
  },
  {
   "cell_type": "code",
   "execution_count": 26,
   "metadata": {
    "collapsed": true
   },
   "outputs": [
    {
     "ename": "PropertyNotImplementedError",
     "evalue": "The property \"charges\" is not available.",
     "output_type": "error",
     "traceback": [
      "\u001b[0;31m---------------------------------------------------------------------------\u001b[0m",
      "\u001b[0;31mPropertyNotImplementedError\u001b[0m               Traceback (most recent call last)",
      "\u001b[0;32m<ipython-input-26-e80fbe7ef5fa>\u001b[0m in \u001b[0;36m<module>\u001b[0;34m\u001b[0m\n\u001b[0;32m----> 1\u001b[0;31m \u001b[0mlattices\u001b[0m\u001b[0;34m.\u001b[0m\u001b[0mget_charges\u001b[0m\u001b[0;34m(\u001b[0m\u001b[0;34m)\u001b[0m\u001b[0;34m\u001b[0m\u001b[0;34m\u001b[0m\u001b[0m\n\u001b[0m",
      "\u001b[0;32m~/.conda/envs/tf2_GPU/lib/python3.6/site-packages/ase/atoms.py\u001b[0m in \u001b[0;36mget_charges\u001b[0;34m(self)\u001b[0m\n\u001b[1;32m    678\u001b[0m             \u001b[0;32mraise\u001b[0m \u001b[0mRuntimeError\u001b[0m\u001b[0;34m(\u001b[0m\u001b[0;34m'Atoms object has no calculator.'\u001b[0m\u001b[0;34m)\u001b[0m\u001b[0;34m\u001b[0m\u001b[0;34m\u001b[0m\u001b[0m\n\u001b[1;32m    679\u001b[0m         \u001b[0;32mtry\u001b[0m\u001b[0;34m:\u001b[0m\u001b[0;34m\u001b[0m\u001b[0;34m\u001b[0m\u001b[0m\n\u001b[0;32m--> 680\u001b[0;31m             \u001b[0;32mreturn\u001b[0m \u001b[0mself\u001b[0m\u001b[0;34m.\u001b[0m\u001b[0m_calc\u001b[0m\u001b[0;34m.\u001b[0m\u001b[0mget_charges\u001b[0m\u001b[0;34m(\u001b[0m\u001b[0mself\u001b[0m\u001b[0;34m)\u001b[0m\u001b[0;34m\u001b[0m\u001b[0;34m\u001b[0m\u001b[0m\n\u001b[0m\u001b[1;32m    681\u001b[0m         \u001b[0;32mexcept\u001b[0m \u001b[0mAttributeError\u001b[0m\u001b[0;34m:\u001b[0m\u001b[0;34m\u001b[0m\u001b[0;34m\u001b[0m\u001b[0m\n\u001b[1;32m    682\u001b[0m             \u001b[0;32mfrom\u001b[0m \u001b[0mase\u001b[0m\u001b[0;34m.\u001b[0m\u001b[0mcalculators\u001b[0m\u001b[0;34m.\u001b[0m\u001b[0mcalculator\u001b[0m \u001b[0;32mimport\u001b[0m \u001b[0mPropertyNotImplementedError\u001b[0m\u001b[0;34m\u001b[0m\u001b[0;34m\u001b[0m\u001b[0m\n",
      "\u001b[0;32m~/.conda/envs/tf2_GPU/lib/python3.6/site-packages/ase/calculators/abc.py\u001b[0m in \u001b[0;36mget_charges\u001b[0;34m(self, atoms)\u001b[0m\n\u001b[1;32m     36\u001b[0m \u001b[0;34m\u001b[0m\u001b[0m\n\u001b[1;32m     37\u001b[0m     \u001b[0;32mdef\u001b[0m \u001b[0mget_charges\u001b[0m\u001b[0;34m(\u001b[0m\u001b[0mself\u001b[0m\u001b[0;34m,\u001b[0m \u001b[0matoms\u001b[0m\u001b[0;34m=\u001b[0m\u001b[0;32mNone\u001b[0m\u001b[0;34m)\u001b[0m\u001b[0;34m:\u001b[0m\u001b[0;34m\u001b[0m\u001b[0;34m\u001b[0m\u001b[0m\n\u001b[0;32m---> 38\u001b[0;31m         \u001b[0;32mreturn\u001b[0m \u001b[0mself\u001b[0m\u001b[0;34m.\u001b[0m\u001b[0mget_property\u001b[0m\u001b[0;34m(\u001b[0m\u001b[0;34m'charges'\u001b[0m\u001b[0;34m,\u001b[0m \u001b[0matoms\u001b[0m\u001b[0;34m)\u001b[0m\u001b[0;34m\u001b[0m\u001b[0;34m\u001b[0m\u001b[0m\n\u001b[0m\u001b[1;32m     39\u001b[0m \u001b[0;34m\u001b[0m\u001b[0m\n\u001b[1;32m     40\u001b[0m     \u001b[0;32mdef\u001b[0m \u001b[0mget_magnetic_moment\u001b[0m\u001b[0;34m(\u001b[0m\u001b[0mself\u001b[0m\u001b[0;34m,\u001b[0m \u001b[0matoms\u001b[0m\u001b[0;34m=\u001b[0m\u001b[0;32mNone\u001b[0m\u001b[0;34m)\u001b[0m\u001b[0;34m:\u001b[0m\u001b[0;34m\u001b[0m\u001b[0;34m\u001b[0m\u001b[0m\n",
      "\u001b[0;32m~/.conda/envs/tf2_GPU/lib/python3.6/site-packages/ase/calculators/singlepoint.py\u001b[0m in \u001b[0;36mget_property\u001b[0;34m(self, name, atoms, allow_calculation)\u001b[0m\n\u001b[1;32m     45\u001b[0m             \u001b[0;32mif\u001b[0m \u001b[0mallow_calculation\u001b[0m\u001b[0;34m:\u001b[0m\u001b[0;34m\u001b[0m\u001b[0;34m\u001b[0m\u001b[0m\n\u001b[1;32m     46\u001b[0m                 raise PropertyNotImplementedError(\n\u001b[0;32m---> 47\u001b[0;31m                     'The property \"{0}\" is not available.'.format(name))\n\u001b[0m\u001b[1;32m     48\u001b[0m             \u001b[0;32mreturn\u001b[0m \u001b[0;32mNone\u001b[0m\u001b[0;34m\u001b[0m\u001b[0;34m\u001b[0m\u001b[0m\n\u001b[1;32m     49\u001b[0m \u001b[0;34m\u001b[0m\u001b[0m\n",
      "\u001b[0;31mPropertyNotImplementedError\u001b[0m: The property \"charges\" is not available."
     ]
    }
   ],
   "source": [
    "lattices.get_charges()"
   ]
  },
  {
   "cell_type": "code",
   "execution_count": 28,
   "metadata": {
    "collapsed": true
   },
   "outputs": [
    {
     "ename": "IndexError",
     "evalue": "Index out of range.",
     "output_type": "error",
     "traceback": [
      "\u001b[0;31m---------------------------------------------------------------------------\u001b[0m",
      "\u001b[0;31mIndexError\u001b[0m                                Traceback (most recent call last)",
      "\u001b[0;32m<ipython-input-28-8a07f996f1a9>\u001b[0m in \u001b[0;36m<module>\u001b[0;34m\u001b[0m\n\u001b[0;32m----> 1\u001b[0;31m \u001b[0mlattices\u001b[0m\u001b[0;34m[\u001b[0m\u001b[0;36m2\u001b[0m\u001b[0;34m]\u001b[0m\u001b[0;34m.\u001b[0m\u001b[0mget_cell\u001b[0m\u001b[0;34m(\u001b[0m\u001b[0;34m)\u001b[0m\u001b[0;34m\u001b[0m\u001b[0;34m\u001b[0m\u001b[0m\n\u001b[0m",
      "\u001b[0;32m~/.conda/envs/tf2_GPU/lib/python3.6/site-packages/ase/atoms.py\u001b[0m in \u001b[0;36m__getitem__\u001b[0;34m(self, i)\u001b[0m\n\u001b[1;32m   1090\u001b[0m             \u001b[0mnatoms\u001b[0m \u001b[0;34m=\u001b[0m \u001b[0mlen\u001b[0m\u001b[0;34m(\u001b[0m\u001b[0mself\u001b[0m\u001b[0;34m)\u001b[0m\u001b[0;34m\u001b[0m\u001b[0;34m\u001b[0m\u001b[0m\n\u001b[1;32m   1091\u001b[0m             \u001b[0;32mif\u001b[0m \u001b[0mi\u001b[0m \u001b[0;34m<\u001b[0m \u001b[0;34m-\u001b[0m\u001b[0mnatoms\u001b[0m \u001b[0;32mor\u001b[0m \u001b[0mi\u001b[0m \u001b[0;34m>=\u001b[0m \u001b[0mnatoms\u001b[0m\u001b[0;34m:\u001b[0m\u001b[0;34m\u001b[0m\u001b[0;34m\u001b[0m\u001b[0m\n\u001b[0;32m-> 1092\u001b[0;31m                 \u001b[0;32mraise\u001b[0m \u001b[0mIndexError\u001b[0m\u001b[0;34m(\u001b[0m\u001b[0;34m'Index out of range.'\u001b[0m\u001b[0;34m)\u001b[0m\u001b[0;34m\u001b[0m\u001b[0;34m\u001b[0m\u001b[0m\n\u001b[0m\u001b[1;32m   1093\u001b[0m \u001b[0;34m\u001b[0m\u001b[0m\n\u001b[1;32m   1094\u001b[0m             \u001b[0;32mreturn\u001b[0m \u001b[0mAtom\u001b[0m\u001b[0;34m(\u001b[0m\u001b[0matoms\u001b[0m\u001b[0;34m=\u001b[0m\u001b[0mself\u001b[0m\u001b[0;34m,\u001b[0m \u001b[0mindex\u001b[0m\u001b[0;34m=\u001b[0m\u001b[0mi\u001b[0m\u001b[0;34m)\u001b[0m\u001b[0;34m\u001b[0m\u001b[0;34m\u001b[0m\u001b[0m\n",
      "\u001b[0;31mIndexError\u001b[0m: Index out of range."
     ]
    }
   ],
   "source": [
    "lattices.get_cell()"
   ]
  },
  {
   "cell_type": "code",
   "execution_count": 29,
   "metadata": {},
   "outputs": [
    {
     "data": {
      "text/plain": [
       "Atoms(symbols='S', pbc=False, cell=[100.0, 100.0, 100.0], calculator=SinglePointCalculator(...))"
      ]
     },
     "execution_count": 29,
     "metadata": {},
     "output_type": "execute_result"
    }
   ],
   "source": [
    "lattices"
   ]
  },
  {
   "cell_type": "code",
   "execution_count": 32,
   "metadata": {},
   "outputs": [],
   "source": [
    "from ase.visualize import view"
   ]
  },
  {
   "cell_type": "code",
   "execution_count": 35,
   "metadata": {
    "collapsed": true
   },
   "outputs": [
    {
     "ename": "ModuleNotFoundError",
     "evalue": "No module named 'nglview'",
     "output_type": "error",
     "traceback": [
      "\u001b[0;31m---------------------------------------------------------------------------\u001b[0m",
      "\u001b[0;31mModuleNotFoundError\u001b[0m                       Traceback (most recent call last)",
      "\u001b[0;32m<ipython-input-35-abc7374e0835>\u001b[0m in \u001b[0;36m<module>\u001b[0;34m\u001b[0m\n\u001b[0;32m----> 1\u001b[0;31m \u001b[0mview\u001b[0m\u001b[0;34m(\u001b[0m\u001b[0mpoly\u001b[0m\u001b[0;34m,\u001b[0m \u001b[0mviewer\u001b[0m\u001b[0;34m=\u001b[0m\u001b[0;34m\"ngl\"\u001b[0m\u001b[0;34m)\u001b[0m\u001b[0;34m\u001b[0m\u001b[0;34m\u001b[0m\u001b[0m\n\u001b[0m",
      "\u001b[0;32m~/.conda/envs/tf2_GPU/lib/python3.6/site-packages/ase/visualize/__init__.py\u001b[0m in \u001b[0;36mview\u001b[0;34m(atoms, data, viewer, repeat, block)\u001b[0m\n\u001b[1;32m      8\u001b[0m \u001b[0;34m\u001b[0m\u001b[0m\n\u001b[1;32m      9\u001b[0m     \u001b[0mvwr\u001b[0m \u001b[0;34m=\u001b[0m \u001b[0mviewers\u001b[0m\u001b[0;34m[\u001b[0m\u001b[0mviewer\u001b[0m\u001b[0;34m.\u001b[0m\u001b[0mlower\u001b[0m\u001b[0;34m(\u001b[0m\u001b[0;34m)\u001b[0m\u001b[0;34m]\u001b[0m\u001b[0;34m\u001b[0m\u001b[0;34m\u001b[0m\u001b[0m\n\u001b[0;32m---> 10\u001b[0;31m     \u001b[0mhandle\u001b[0m \u001b[0;34m=\u001b[0m \u001b[0mvwr\u001b[0m\u001b[0;34m.\u001b[0m\u001b[0mview\u001b[0m\u001b[0;34m(\u001b[0m\u001b[0matoms\u001b[0m\u001b[0;34m,\u001b[0m \u001b[0mdata\u001b[0m\u001b[0;34m=\u001b[0m\u001b[0mdata\u001b[0m\u001b[0;34m,\u001b[0m \u001b[0mrepeat\u001b[0m\u001b[0;34m=\u001b[0m\u001b[0mrepeat\u001b[0m\u001b[0;34m)\u001b[0m\u001b[0;34m\u001b[0m\u001b[0;34m\u001b[0m\u001b[0m\n\u001b[0m\u001b[1;32m     11\u001b[0m \u001b[0;34m\u001b[0m\u001b[0m\n\u001b[1;32m     12\u001b[0m     \u001b[0;32mif\u001b[0m \u001b[0mblock\u001b[0m \u001b[0;32mand\u001b[0m \u001b[0mhasattr\u001b[0m\u001b[0;34m(\u001b[0m\u001b[0mhandle\u001b[0m\u001b[0;34m,\u001b[0m \u001b[0;34m'wait'\u001b[0m\u001b[0;34m)\u001b[0m\u001b[0;34m:\u001b[0m\u001b[0;34m\u001b[0m\u001b[0;34m\u001b[0m\u001b[0m\n",
      "\u001b[0;32m~/.conda/envs/tf2_GPU/lib/python3.6/site-packages/ase/visualize/external.py\u001b[0m in \u001b[0;36mview\u001b[0;34m(self, atoms, data, repeat)\u001b[0m\n\u001b[1;32m    103\u001b[0m             \u001b[0;32mif\u001b[0m \u001b[0mrepeat\u001b[0m \u001b[0;32mis\u001b[0m \u001b[0;32mnot\u001b[0m \u001b[0;32mNone\u001b[0m\u001b[0;34m:\u001b[0m\u001b[0;34m\u001b[0m\u001b[0;34m\u001b[0m\u001b[0m\n\u001b[1;32m    104\u001b[0m                 \u001b[0matoms\u001b[0m \u001b[0;34m=\u001b[0m \u001b[0matoms\u001b[0m\u001b[0;34m.\u001b[0m\u001b[0mrepeat\u001b[0m\u001b[0;34m(\u001b[0m\u001b[0mrepeat\u001b[0m\u001b[0;34m)\u001b[0m\u001b[0;34m\u001b[0m\u001b[0;34m\u001b[0m\u001b[0m\n\u001b[0;32m--> 105\u001b[0;31m             \u001b[0;32mreturn\u001b[0m \u001b[0mfunc\u001b[0m\u001b[0;34m(\u001b[0m\u001b[0matoms\u001b[0m\u001b[0;34m)\u001b[0m\u001b[0;34m\u001b[0m\u001b[0;34m\u001b[0m\u001b[0m\n\u001b[0m\u001b[1;32m    106\u001b[0m \u001b[0;34m\u001b[0m\u001b[0m\n\u001b[1;32m    107\u001b[0m     \u001b[0;32mdef\u001b[0m \u001b[0msage\u001b[0m\u001b[0;34m(\u001b[0m\u001b[0mself\u001b[0m\u001b[0;34m,\u001b[0m \u001b[0matoms\u001b[0m\u001b[0;34m)\u001b[0m\u001b[0;34m:\u001b[0m\u001b[0;34m\u001b[0m\u001b[0;34m\u001b[0m\u001b[0m\n",
      "\u001b[0;32m~/.conda/envs/tf2_GPU/lib/python3.6/site-packages/ase/visualize/external.py\u001b[0m in \u001b[0;36mngl\u001b[0;34m(self, atoms)\u001b[0m\n\u001b[1;32m    111\u001b[0m     \u001b[0;32mdef\u001b[0m \u001b[0mngl\u001b[0m\u001b[0;34m(\u001b[0m\u001b[0mself\u001b[0m\u001b[0;34m,\u001b[0m \u001b[0matoms\u001b[0m\u001b[0;34m)\u001b[0m\u001b[0;34m:\u001b[0m\u001b[0;34m\u001b[0m\u001b[0;34m\u001b[0m\u001b[0m\n\u001b[1;32m    112\u001b[0m         \u001b[0;32mfrom\u001b[0m \u001b[0mase\u001b[0m\u001b[0;34m.\u001b[0m\u001b[0mvisualize\u001b[0m\u001b[0;34m.\u001b[0m\u001b[0mngl\u001b[0m \u001b[0;32mimport\u001b[0m \u001b[0mview_ngl\u001b[0m\u001b[0;34m\u001b[0m\u001b[0;34m\u001b[0m\u001b[0m\n\u001b[0;32m--> 113\u001b[0;31m         \u001b[0;32mreturn\u001b[0m \u001b[0mview_ngl\u001b[0m\u001b[0;34m(\u001b[0m\u001b[0matoms\u001b[0m\u001b[0;34m)\u001b[0m\u001b[0;34m\u001b[0m\u001b[0;34m\u001b[0m\u001b[0m\n\u001b[0m\u001b[1;32m    114\u001b[0m \u001b[0;34m\u001b[0m\u001b[0m\n\u001b[1;32m    115\u001b[0m     \u001b[0;32mdef\u001b[0m \u001b[0mx3d\u001b[0m\u001b[0;34m(\u001b[0m\u001b[0mself\u001b[0m\u001b[0;34m,\u001b[0m \u001b[0matoms\u001b[0m\u001b[0;34m)\u001b[0m\u001b[0;34m:\u001b[0m\u001b[0;34m\u001b[0m\u001b[0;34m\u001b[0m\u001b[0m\n",
      "\u001b[0;32m~/.conda/envs/tf2_GPU/lib/python3.6/site-packages/ase/visualize/ngl.py\u001b[0m in \u001b[0;36mview_ngl\u001b[0;34m(atoms, w, h)\u001b[0m\n\u001b[1;32m    114\u001b[0m         \u001b[0mVBox\u001b[0m \u001b[0mipywidget\u001b[0m \u001b[0mcontaining\u001b[0m \u001b[0mview\u001b[0m \u001b[0mcontrol\u001b[0m \u001b[0mwidgets\u001b[0m\u001b[0;34m\u001b[0m\u001b[0;34m\u001b[0m\u001b[0m\n\u001b[1;32m    115\u001b[0m     \"\"\"\n\u001b[0;32m--> 116\u001b[0;31m     \u001b[0;32mreturn\u001b[0m \u001b[0mNGLDisplay\u001b[0m\u001b[0;34m(\u001b[0m\u001b[0matoms\u001b[0m\u001b[0;34m,\u001b[0m \u001b[0mw\u001b[0m\u001b[0;34m,\u001b[0m \u001b[0mh\u001b[0m\u001b[0;34m)\u001b[0m\u001b[0;34m.\u001b[0m\u001b[0mgui\u001b[0m\u001b[0;34m\u001b[0m\u001b[0;34m\u001b[0m\u001b[0m\n\u001b[0m",
      "\u001b[0;32m~/.conda/envs/tf2_GPU/lib/python3.6/site-packages/ase/visualize/ngl.py\u001b[0m in \u001b[0;36m__init__\u001b[0;34m(self, atoms, xsize, ysize)\u001b[0m\n\u001b[1;32m     12\u001b[0m     \"\"\"\n\u001b[1;32m     13\u001b[0m     \u001b[0;32mdef\u001b[0m \u001b[0m__init__\u001b[0m\u001b[0;34m(\u001b[0m\u001b[0mself\u001b[0m\u001b[0;34m,\u001b[0m \u001b[0matoms\u001b[0m\u001b[0;34m,\u001b[0m \u001b[0mxsize\u001b[0m\u001b[0;34m=\u001b[0m\u001b[0;36m500\u001b[0m\u001b[0;34m,\u001b[0m \u001b[0mysize\u001b[0m\u001b[0;34m=\u001b[0m\u001b[0;36m500\u001b[0m\u001b[0;34m)\u001b[0m\u001b[0;34m:\u001b[0m\u001b[0;34m\u001b[0m\u001b[0;34m\u001b[0m\u001b[0m\n\u001b[0;32m---> 14\u001b[0;31m         \u001b[0;32mimport\u001b[0m \u001b[0mnglview\u001b[0m\u001b[0;34m\u001b[0m\u001b[0;34m\u001b[0m\u001b[0m\n\u001b[0m\u001b[1;32m     15\u001b[0m         \u001b[0;32mimport\u001b[0m \u001b[0mnglview\u001b[0m\u001b[0;34m.\u001b[0m\u001b[0mcolor\u001b[0m\u001b[0;34m\u001b[0m\u001b[0;34m\u001b[0m\u001b[0m\n\u001b[1;32m     16\u001b[0m \u001b[0;34m\u001b[0m\u001b[0m\n",
      "\u001b[0;31mModuleNotFoundError\u001b[0m: No module named 'nglview'"
     ]
    }
   ],
   "source": [
    "view(poly, viewer=\"ngl\")"
   ]
  },
  {
   "cell_type": "code",
   "execution_count": 135,
   "metadata": {},
   "outputs": [],
   "source": [
    "from ase.io import read, write\n",
    "filename = \"/home/jyb/decryst/cp_one/ligand_two_phen-1.xyz\"\n",
    "poly = read(\"/home/jyb/decryst/cp_one/ligand_two_phen-1.xyz\")"
   ]
  },
  {
   "cell_type": "code",
   "execution_count": 136,
   "metadata": {
    "collapsed": true
   },
   "outputs": [
    {
     "data": {
      "text/plain": [
       "['C',\n",
       " 'C',\n",
       " 'C',\n",
       " 'C',\n",
       " 'C',\n",
       " 'H',\n",
       " 'C',\n",
       " 'H',\n",
       " 'C',\n",
       " 'C',\n",
       " 'C',\n",
       " 'H',\n",
       " 'H',\n",
       " 'C',\n",
       " 'H',\n",
       " 'C',\n",
       " 'H',\n",
       " 'C',\n",
       " 'C',\n",
       " 'H',\n",
       " 'H',\n",
       " 'N',\n",
       " 'N',\n",
       " 'C',\n",
       " 'C',\n",
       " 'C',\n",
       " 'O',\n",
       " 'O',\n",
       " 'C',\n",
       " 'C',\n",
       " 'C',\n",
       " 'C',\n",
       " 'C',\n",
       " 'C',\n",
       " 'N',\n",
       " 'C',\n",
       " 'H',\n",
       " 'N',\n",
       " 'C',\n",
       " 'H',\n",
       " 'C',\n",
       " 'Ru',\n",
       " 'H',\n",
       " 'C',\n",
       " 'H',\n",
       " 'H',\n",
       " 'N',\n",
       " 'N',\n",
       " 'N',\n",
       " 'N',\n",
       " 'H',\n",
       " 'C',\n",
       " 'C',\n",
       " 'C',\n",
       " 'C',\n",
       " 'C',\n",
       " 'C',\n",
       " 'C',\n",
       " 'C',\n",
       " 'C',\n",
       " 'C',\n",
       " 'H',\n",
       " 'C',\n",
       " 'C',\n",
       " 'H',\n",
       " 'C',\n",
       " 'C',\n",
       " 'H',\n",
       " 'C',\n",
       " 'C',\n",
       " 'H',\n",
       " 'C',\n",
       " 'C',\n",
       " 'H',\n",
       " 'C',\n",
       " 'C',\n",
       " 'H',\n",
       " 'C',\n",
       " 'C',\n",
       " 'H',\n",
       " 'C',\n",
       " 'C',\n",
       " 'H',\n",
       " 'N',\n",
       " 'H',\n",
       " 'N',\n",
       " 'H',\n",
       " 'N',\n",
       " 'H',\n",
       " 'N',\n",
       " 'H',\n",
       " 'C',\n",
       " 'C',\n",
       " 'C',\n",
       " 'C',\n",
       " 'C',\n",
       " 'C',\n",
       " 'C',\n",
       " 'C',\n",
       " 'C',\n",
       " 'H',\n",
       " 'C',\n",
       " 'H',\n",
       " 'C',\n",
       " 'H',\n",
       " 'C',\n",
       " 'H',\n",
       " 'C',\n",
       " 'H',\n",
       " 'H',\n",
       " 'C',\n",
       " 'H',\n",
       " 'H',\n",
       " 'C',\n",
       " 'C',\n",
       " 'C',\n",
       " 'C',\n",
       " 'C',\n",
       " 'C',\n",
       " 'C',\n",
       " 'H',\n",
       " 'C',\n",
       " 'H',\n",
       " 'C',\n",
       " 'H',\n",
       " 'C',\n",
       " 'H',\n",
       " 'C',\n",
       " 'H',\n",
       " 'H',\n",
       " 'C',\n",
       " 'H',\n",
       " 'H',\n",
       " 'C',\n",
       " 'C',\n",
       " 'O',\n",
       " 'O',\n",
       " 'O',\n",
       " 'O']"
      ]
     },
     "execution_count": 136,
     "metadata": {},
     "output_type": "execute_result"
    }
   ],
   "source": [
    "poly.get_chemical_symbols()"
   ]
  },
  {
   "cell_type": "code",
   "execution_count": 137,
   "metadata": {
    "collapsed": true
   },
   "outputs": [
    {
     "data": {
      "text/plain": [
       "array([[ 7.30983, 21.2823 , 30.32205],\n",
       "       [ 8.55066, 21.86115, 30.59235],\n",
       "       [ 7.09512, 19.91601, 30.55461],\n",
       "       [ 6.21639, 22.11921, 29.86407],\n",
       "       [ 9.54567, 21.10023, 31.17834],\n",
       "       [ 8.72763, 22.9143 , 30.40977],\n",
       "       [ 8.09217, 19.15203, 31.14315],\n",
       "       [ 6.1455 , 19.45293, 30.31338],\n",
       "       [ 6.40509, 22.99131, 28.78746],\n",
       "       [ 4.97046, 22.0269 , 30.49392],\n",
       "       [ 9.30291, 19.75587, 31.50015],\n",
       "       [10.48254, 21.58167, 31.42926],\n",
       "       [ 7.89786, 18.10908, 31.36194],\n",
       "       [ 5.3244 , 23.6895 , 28.27542],\n",
       "       [ 7.36848, 23.0724 , 28.29837],\n",
       "       [ 3.8913 , 22.72968, 29.988  ],\n",
       "       [ 4.82511, 21.37716, 31.34868],\n",
       "       [10.27854, 19.0332 , 32.29524],\n",
       "       [ 4.05093, 23.51916, 28.8405 ],\n",
       "       [ 5.46924, 24.27804, 27.37884],\n",
       "       [ 2.91975, 22.58994, 30.44598],\n",
       "       [10.1133 , 17.74443, 32.69304],\n",
       "       [11.40666, 19.63347, 32.73894],\n",
       "       [ 2.87844, 23.93787, 28.08927],\n",
       "       [11.21031, 17.53584, 33.42795],\n",
       "       [11.97837, 18.67161, 33.4509 ],\n",
       "       [ 1.74573, 23.43297, 28.43097],\n",
       "       [ 3.05745, 24.77223, 27.09324],\n",
       "       [11.63769, 16.34142, 34.01394],\n",
       "       [13.2243 , 18.72057, 34.05066],\n",
       "       [12.91269, 16.35468, 34.60605],\n",
       "       [10.92624, 15.13425, 33.966  ],\n",
       "       [13.69146, 17.54043, 34.61472],\n",
       "       [14.12037, 19.8951 , 34.02669],\n",
       "       [13.46145, 15.20718, 35.07168],\n",
       "       [11.51019, 13.96788, 34.48722],\n",
       "       [ 9.94602, 15.0858 , 33.50853],\n",
       "       [15.03174, 17.48025, 35.07423],\n",
       "       [15.42189, 19.77219, 34.52751],\n",
       "       [13.78683, 20.83605, 33.60798],\n",
       "       [12.80457, 14.01786, 35.02527],\n",
       "       [15.49482, 15.49482, 35.50518],\n",
       "       [10.97979, 13.02591, 34.43673],\n",
       "       [15.87426, 18.54564, 35.03343],\n",
       "       [16.09254, 20.62083, 34.49487],\n",
       "       [13.28652, 13.11312, 35.36799],\n",
       "       [15.92832, 13.46145, 35.79282],\n",
       "       [15.20718, 15.92832, 37.53855],\n",
       "       [15.92577, 15.03174, 33.51975],\n",
       "       [17.48025, 15.92577, 35.96826],\n",
       "       [16.89783, 18.44772, 35.3634 ],\n",
       "       [16.39395, 12.91269, 34.64532],\n",
       "       [15.97473, 12.80457, 36.98214],\n",
       "       [16.35468, 16.39395, 38.08731],\n",
       "       [14.01786, 15.97473, 38.19543],\n",
       "       [16.38528, 13.69146, 33.45957],\n",
       "       [15.96657, 15.87426, 32.45436],\n",
       "       [17.54043, 16.38528, 37.30854],\n",
       "       [18.54564, 15.96657, 35.12574],\n",
       "       [16.98606, 11.63769, 34.65858],\n",
       "       [16.51278, 11.51019, 37.03212],\n",
       "       [15.63201, 13.28652, 37.88688],\n",
       "       [16.34142, 16.98606, 39.36231],\n",
       "       [13.96788, 16.51278, 39.48981],\n",
       "       [13.11312, 15.63201, 37.71348],\n",
       "       [16.94934, 13.2243 , 32.27943],\n",
       "       [16.47249, 15.42189, 31.22781],\n",
       "       [15.6366 , 16.89783, 32.55228],\n",
       "       [18.72057, 16.94934, 37.7757 ],\n",
       "       [19.77219, 16.47249, 35.57811],\n",
       "       [18.44772, 15.6366 , 34.10217],\n",
       "       [17.57205, 11.21031, 33.46416],\n",
       "       [17.034  , 10.92624, 35.86575],\n",
       "       [16.56327, 10.97979, 37.97409],\n",
       "       [17.53584, 17.57205, 39.78969],\n",
       "       [15.13425, 17.034  , 40.07376],\n",
       "       [13.02591, 16.56327, 40.02021],\n",
       "       [17.5491 , 11.97837, 32.32839],\n",
       "       [16.97331, 14.12037, 31.1049 ],\n",
       "       [16.50513, 16.09254, 30.37917],\n",
       "       [18.67161, 17.5491 , 39.02163],\n",
       "       [19.8951 , 16.97331, 36.87963],\n",
       "       [20.62083, 16.50513, 34.90746],\n",
       "       [18.30696, 10.1133 , 33.25557],\n",
       "       [17.49147,  9.94602, 35.9142 ],\n",
       "       [17.74443, 18.30696, 40.8867 ],\n",
       "       [15.0858 , 17.49147, 41.05398],\n",
       "       [18.26106, 11.40666, 31.36653],\n",
       "       [17.39202, 13.78683, 30.16395],\n",
       "       [19.63347, 18.26106, 39.59334],\n",
       "       [20.83605, 17.39202, 37.21317],\n",
       "       [18.70476, 10.27854, 31.9668 ],\n",
       "       [19.0332 , 18.70476, 40.72146],\n",
       "       [19.49985,  9.30291, 31.24413],\n",
       "       [19.75587, 19.49985, 41.69709],\n",
       "       [19.82166,  9.54567, 29.89977],\n",
       "       [19.85685,  8.09217, 31.84797],\n",
       "       [21.10023, 19.82166, 41.45433],\n",
       "       [19.15203, 19.85685, 42.90783],\n",
       "       [20.40765,  8.55066, 29.13885],\n",
       "       [19.57074, 10.48254, 29.41833],\n",
       "       [20.44539,  7.09512, 31.08399],\n",
       "       [19.63806,  7.89786, 32.89092],\n",
       "       [21.86115, 20.40765, 42.44934],\n",
       "       [21.58167, 19.57074, 40.51746],\n",
       "       [19.91601, 20.44539, 43.90488],\n",
       "       [18.10908, 19.63806, 43.10214],\n",
       "       [20.67795,  7.30983, 29.7177 ],\n",
       "       [20.59023,  8.72763, 28.0857 ],\n",
       "       [20.68662,  6.1455 , 31.54707],\n",
       "       [21.2823 , 20.67795, 43.69017],\n",
       "       [22.9143 , 20.59023, 42.27237],\n",
       "       [19.45293, 20.68662, 44.8545 ],\n",
       "       [21.13593,  6.21639, 28.88079],\n",
       "       [22.11921, 21.13593, 44.78361],\n",
       "       [22.21254,  6.40509, 28.00869],\n",
       "       [20.50608,  4.97046, 28.9731 ],\n",
       "       [22.99131, 22.21254, 44.59491],\n",
       "       [22.0269 , 20.50608, 46.02954],\n",
       "       [22.72458,  5.3244 , 27.3105 ],\n",
       "       [22.70163,  7.36848, 27.9276 ],\n",
       "       [21.012  ,  3.8913 , 28.27032],\n",
       "       [19.65132,  4.82511, 29.62284],\n",
       "       [23.6895 , 22.72458, 45.6756 ],\n",
       "       [23.0724 , 22.70163, 43.63152],\n",
       "       [22.72968, 21.012  , 47.1087 ],\n",
       "       [21.37716, 19.65132, 46.17489],\n",
       "       [22.1595 ,  4.05093, 27.48084],\n",
       "       [23.62116,  5.46924, 26.72196],\n",
       "       [20.55402,  2.91975, 28.41006],\n",
       "       [23.51916, 22.1595 , 46.94907],\n",
       "       [24.27804, 23.62116, 45.53076],\n",
       "       [22.58994, 20.55402, 48.08025],\n",
       "       [22.91073,  2.87844, 27.06213],\n",
       "       [23.93787, 22.91073, 48.12156],\n",
       "       [22.56903,  1.74573, 27.56703],\n",
       "       [23.90676,  3.05745, 26.22777],\n",
       "       [23.43297, 22.56903, 49.25427],\n",
       "       [24.77223, 23.90676, 47.94255]])"
      ]
     },
     "execution_count": 137,
     "metadata": {},
     "output_type": "execute_result"
    }
   ],
   "source": [
    "poly.get_positions()"
   ]
  },
  {
   "cell_type": "code",
   "execution_count": 19,
   "metadata": {},
   "outputs": [],
   "source": [
    "sym_new_ls = [i.replace(\"'\",'\"') for i in sym_ls]"
   ]
  },
  {
   "cell_type": "code",
   "execution_count": 18,
   "metadata": {},
   "outputs": [
    {
     "data": {
      "text/plain": [
       "'asd'"
      ]
     },
     "execution_count": 18,
     "metadata": {},
     "output_type": "execute_result"
    }
   ],
   "source": [
    "a = 'asd'\n",
    "a.replace(\"'\",'\"')"
   ]
  },
  {
   "cell_type": "code",
   "execution_count": 21,
   "metadata": {},
   "outputs": [
    {
     "data": {
      "text/plain": [
       "['C',\n",
       " 'C',\n",
       " 'C',\n",
       " 'C',\n",
       " 'C',\n",
       " 'C',\n",
       " 'C',\n",
       " 'C',\n",
       " 'C',\n",
       " 'C',\n",
       " 'C',\n",
       " 'C',\n",
       " 'C',\n",
       " 'N',\n",
       " 'N',\n",
       " 'C',\n",
       " 'C',\n",
       " 'C',\n",
       " 'O',\n",
       " 'O',\n",
       " 'C',\n",
       " 'C',\n",
       " 'C',\n",
       " 'C',\n",
       " 'C',\n",
       " 'C',\n",
       " 'N',\n",
       " 'C',\n",
       " 'N',\n",
       " 'C',\n",
       " 'C',\n",
       " 'C',\n",
       " 'N',\n",
       " 'N',\n",
       " 'N',\n",
       " 'N',\n",
       " 'C',\n",
       " 'C',\n",
       " 'C',\n",
       " 'C',\n",
       " 'C',\n",
       " 'C',\n",
       " 'C',\n",
       " 'C',\n",
       " 'C',\n",
       " 'C',\n",
       " 'C',\n",
       " 'C',\n",
       " 'C',\n",
       " 'C',\n",
       " 'C',\n",
       " 'C',\n",
       " 'C',\n",
       " 'C',\n",
       " 'C',\n",
       " 'C',\n",
       " 'C',\n",
       " 'C',\n",
       " 'C',\n",
       " 'C',\n",
       " 'N',\n",
       " 'N',\n",
       " 'N',\n",
       " 'N',\n",
       " 'C',\n",
       " 'C',\n",
       " 'C',\n",
       " 'C',\n",
       " 'C',\n",
       " 'C',\n",
       " 'C',\n",
       " 'C',\n",
       " 'C',\n",
       " 'C',\n",
       " 'C',\n",
       " 'C',\n",
       " 'C',\n",
       " 'C',\n",
       " 'C',\n",
       " 'C',\n",
       " 'C',\n",
       " 'C',\n",
       " 'C',\n",
       " 'C',\n",
       " 'C',\n",
       " 'C',\n",
       " 'C',\n",
       " 'C',\n",
       " 'C',\n",
       " 'C',\n",
       " 'C',\n",
       " 'C',\n",
       " 'O',\n",
       " 'O',\n",
       " 'O',\n",
       " 'O']"
      ]
     },
     "execution_count": 21,
     "metadata": {},
     "output_type": "execute_result"
    }
   ],
   "source": [
    "sym_new_ls"
   ]
  },
  {
   "cell_type": "code",
   "execution_count": 215,
   "metadata": {},
   "outputs": [
    {
     "data": {
      "text/plain": [
       "{0: [-8.44305, -7.41591, -12.61638],\n",
       " 1: [-4.138649999999998, -2.76624, -4.088159999999995],\n",
       " 2: [-9.27741, -8.411939999999998, -12.437369999999994]}"
      ]
     },
     "execution_count": 215,
     "metadata": {},
     "output_type": "execute_result"
    }
   ],
   "source": [
    "dict((symbol_ls,coor_ls))"
   ]
  },
  {
   "cell_type": "code",
   "execution_count": 214,
   "metadata": {
    "collapsed": true
   },
   "outputs": [
    {
     "data": {
      "text/plain": [
       "[0,\n",
       " 0,\n",
       " 0,\n",
       " 0,\n",
       " 0,\n",
       " 0,\n",
       " 0,\n",
       " 0,\n",
       " 0,\n",
       " 0,\n",
       " 0,\n",
       " 0,\n",
       " 0,\n",
       " 1,\n",
       " 1,\n",
       " 0,\n",
       " 0,\n",
       " 0,\n",
       " 2,\n",
       " 2,\n",
       " 0,\n",
       " 0,\n",
       " 0,\n",
       " 0,\n",
       " 0,\n",
       " 0,\n",
       " 1,\n",
       " 0,\n",
       " 1,\n",
       " 0,\n",
       " 0,\n",
       " 0,\n",
       " 1,\n",
       " 1,\n",
       " 1,\n",
       " 1,\n",
       " 0,\n",
       " 0,\n",
       " 0,\n",
       " 0,\n",
       " 0,\n",
       " 0,\n",
       " 0,\n",
       " 0,\n",
       " 0,\n",
       " 0,\n",
       " 0,\n",
       " 0,\n",
       " 0,\n",
       " 0,\n",
       " 0,\n",
       " 0,\n",
       " 0,\n",
       " 0,\n",
       " 0,\n",
       " 0,\n",
       " 0,\n",
       " 0,\n",
       " 0,\n",
       " 0,\n",
       " 1,\n",
       " 1,\n",
       " 1,\n",
       " 1,\n",
       " 0,\n",
       " 0,\n",
       " 0,\n",
       " 0,\n",
       " 0,\n",
       " 0,\n",
       " 0,\n",
       " 0,\n",
       " 0,\n",
       " 0,\n",
       " 0,\n",
       " 0,\n",
       " 0,\n",
       " 0,\n",
       " 0,\n",
       " 0,\n",
       " 0,\n",
       " 0,\n",
       " 0,\n",
       " 0,\n",
       " 0,\n",
       " 0,\n",
       " 0,\n",
       " 0,\n",
       " 0,\n",
       " 0,\n",
       " 0,\n",
       " 0,\n",
       " 2,\n",
       " 2,\n",
       " 2,\n",
       " 2]"
      ]
     },
     "execution_count": 214,
     "metadata": {},
     "output_type": "execute_result"
    }
   ],
   "source": [
    "symbol_ls"
   ]
  },
  {
   "cell_type": "code",
   "execution_count": 201,
   "metadata": {},
   "outputs": [
    {
     "data": {
      "text/plain": [
       "[0, 0, 0]"
      ]
     },
     "execution_count": 201,
     "metadata": {},
     "output_type": "execute_result"
    }
   ],
   "source": [
    "a=b = [1,2,30]\n",
    "[x-y for x,y in zip(a,b)]"
   ]
  },
  {
   "cell_type": "code",
   "execution_count": 210,
   "metadata": {
    "collapsed": true
   },
   "outputs": [
    {
     "data": {
      "text/plain": [
       "[[8.18499, -5.787479999999999, 5.183130000000002],\n",
       " [6.94416, -6.366329999999998, 4.912830000000003],\n",
       " [8.399700000000001, -4.421189999999999, 4.950570000000003],\n",
       " [9.27843, -6.624389999999998, 5.641110000000001],\n",
       " [5.949150000000001, -5.605409999999999, 4.326840000000004],\n",
       " [7.402650000000001, -3.657209999999999, 4.362030000000004],\n",
       " [9.08973, -7.496489999999998, 6.7177200000000035],\n",
       " [10.524360000000001, -6.5320800000000006, 5.011260000000004],\n",
       " [6.19191, -4.261050000000001, 4.005030000000001],\n",
       " [10.17042, -8.194679999999998, 7.229760000000002],\n",
       " [11.60352, -7.234859999999998, 5.517180000000003],\n",
       " [5.216280000000001, -3.53838, 3.209940000000003],\n",
       " [11.44389, -8.024339999999999, 6.664680000000004],\n",
       " [5.38152, -2.2496100000000006, 2.8121399999999994],\n",
       " [4.08816, -4.138649999999998, 2.7662400000000034],\n",
       " [12.616380000000001, -8.44305, 7.415910000000004],\n",
       " [4.284510000000001, -2.0410199999999996, 2.07723],\n",
       " [3.5164500000000007, -3.1767900000000004, 2.0542800000000057],\n",
       " [13.74909, -7.93815, 7.074210000000004],\n",
       " [12.437370000000001, -9.27741, 8.411940000000001],\n",
       " [3.8571300000000015, -0.8465999999999987, 1.4912400000000048],\n",
       " [2.270520000000001, -3.225749999999998, 1.4545200000000023],\n",
       " [2.582130000000001, -0.8598599999999976, 0.8991299999999995],\n",
       " [4.568580000000001, 0.36057000000000095, 1.5391800000000018],\n",
       " [1.8033600000000014, -2.04561, 0.8904600000000045],\n",
       " [1.3744500000000013, -4.400279999999999, 1.4784900000000007],\n",
       " [2.0333700000000015, 0.28764000000000145, 0.4335000000000022],\n",
       " [3.984630000000001, 1.5269400000000015, 1.0179600000000022],\n",
       " [0.4630800000000015, -1.985430000000001, 0.43095000000000283],\n",
       " [0.07293000000000127, -4.277369999999998, 0.9776700000000034],\n",
       " [2.6902500000000007, 1.47696, 0.47991000000000383],\n",
       " [-0.3794399999999989, -3.050819999999998, 0.4717500000000001],\n",
       " [-0.43349999999999866, 2.0333700000000015, -0.2876399999999961],\n",
       " [0.28764000000000145, -0.43349999999999866, -2.033369999999998],\n",
       " [-0.4309499999999993, 0.4630800000000015, 1.985430000000001],\n",
       " [-1.985430000000001, -0.4309499999999993, -0.46307999999999794],\n",
       " [-0.8991299999999995, 2.582130000000001, 0.8598600000000047],\n",
       " [-0.4799099999999985, 2.6902500000000007, -1.4769599999999983],\n",
       " [-0.8598599999999976, -0.8991299999999995, -2.5821299999999994],\n",
       " [1.47696, -0.4799099999999985, -2.690249999999999],\n",
       " [-0.8904600000000009, 1.8033600000000014, 2.0456100000000035],\n",
       " [-0.4717500000000001, -0.3794399999999989, 3.0508200000000016],\n",
       " [-2.04561, -0.8904600000000009, -1.8033599999999979],\n",
       " [-3.050819999999998, -0.4717500000000001, 0.37944000000000244],\n",
       " [-1.4912399999999977, 3.8571300000000015, 0.8466000000000022],\n",
       " [-1.0179599999999986, 3.984630000000001, -1.5269399999999962],\n",
       " [-0.8465999999999987, -1.4912399999999977, -3.857129999999998],\n",
       " [1.5269400000000015, -1.0179599999999986, -3.9846299999999957],\n",
       " [-1.4545199999999987, 2.270520000000001, 3.225750000000005],\n",
       " [-0.9776699999999998, 0.07293000000000127, 4.277370000000001],\n",
       " [-3.225749999999998, -1.4545199999999987, -2.2705199999999977],\n",
       " [-4.277369999999998, -0.9776699999999998, -0.0729299999999995],\n",
       " [-2.07723, 4.284510000000001, 2.041020000000003],\n",
       " [-1.5391799999999982, 4.568580000000001, -0.3605699999999956],\n",
       " [-2.0410199999999996, -2.07723, -4.284509999999997],\n",
       " [0.36057000000000095, -1.5391799999999982, -4.568579999999997],\n",
       " [-2.0542799999999986, 3.5164500000000007, 3.176790000000004],\n",
       " [-1.4784900000000007, 1.3744500000000013, 4.400280000000002],\n",
       " [-3.1767900000000004, -2.0542799999999986, -3.516449999999999],\n",
       " [-4.400279999999999, -1.4784900000000007, -1.374449999999996],\n",
       " [-2.8121399999999994, 5.38152, 2.249610000000004],\n",
       " [-2.2496100000000006, -2.8121399999999994, -5.381519999999995],\n",
       " [-2.76624, 4.08816, 4.138650000000002],\n",
       " [-4.138649999999998, -2.76624, -4.088159999999995],\n",
       " [-3.2099399999999996, 5.216280000000001, 3.5383800000000036],\n",
       " [-3.53838, -3.2099399999999996, -5.216279999999998],\n",
       " [-4.005029999999998, 6.19191, 4.2610500000000044],\n",
       " [-4.261050000000001, -4.005029999999998, -6.19191],\n",
       " [-4.326840000000001, 5.949150000000001, 5.605410000000003],\n",
       " [-4.362030000000001, 7.402650000000001, 3.6572100000000027],\n",
       " [-5.605409999999999, -4.326840000000001, -5.949149999999996],\n",
       " [-3.657209999999999, -4.362030000000001, -7.402649999999994],\n",
       " [-4.91283, 6.94416, 6.366330000000001],\n",
       " [-4.950569999999999, 8.399700000000001, 4.421190000000003],\n",
       " [-6.366329999999998, -4.91283, -6.944159999999997],\n",
       " [-4.421189999999999, -4.950569999999999, -8.399699999999996],\n",
       " [-5.1831299999999985, 8.18499, 5.787480000000002],\n",
       " [-5.787479999999999, -5.1831299999999985, -8.184989999999999],\n",
       " [-5.641109999999998, 9.27843, 6.624390000000002],\n",
       " [-6.624389999999998, -5.641109999999998, -9.27843],\n",
       " [-6.71772, 9.08973, 7.496490000000001],\n",
       " [-5.01126, 10.524360000000001, 6.532080000000004],\n",
       " [-7.496489999999998, -6.71772, -9.089729999999996],\n",
       " [-6.5320800000000006, -5.01126, -10.524359999999994],\n",
       " [-7.229759999999999, 10.17042, 8.194680000000002],\n",
       " [-5.51718, 11.60352, 7.234860000000001],\n",
       " [-8.194679999999998, -7.229759999999999, -10.17042],\n",
       " [-7.234859999999998, -5.51718, -11.603519999999996],\n",
       " [-6.664680000000001, 11.44389, 8.024340000000002],\n",
       " [-8.024339999999999, -6.664680000000001, -11.443889999999996],\n",
       " [-7.41591, 12.616380000000001, 8.443050000000003],\n",
       " [-8.44305, -7.41591, -12.61638],\n",
       " [-7.074210000000001, 13.74909, 7.938150000000004],\n",
       " [-8.411939999999998, 12.437370000000001, 9.277410000000003],\n",
       " [-7.93815, -7.074210000000001, -13.749089999999995],\n",
       " [-9.27741, -8.411939999999998, -12.437369999999994]]"
      ]
     },
     "execution_count": 210,
     "metadata": {},
     "output_type": "execute_result"
    }
   ],
   "source": [
    "[[x-y for x,y in zip(ref_coor,ls)] for ls in pos_ls]"
   ]
  },
  {
   "cell_type": "code",
   "execution_count": 208,
   "metadata": {
    "collapsed": true
   },
   "outputs": [
    {
     "data": {
      "text/plain": [
       "['C',\n",
       " 'C',\n",
       " 'C',\n",
       " 'C',\n",
       " 'C',\n",
       " 'C',\n",
       " 'C',\n",
       " 'C',\n",
       " 'C',\n",
       " 'N',\n",
       " 'C',\n",
       " 'C',\n",
       " 'O',\n",
       " 'C',\n",
       " 'C',\n",
       " 'C',\n",
       " 'C',\n",
       " 'C',\n",
       " 'N',\n",
       " 'C',\n",
       " 'N',\n",
       " 'C',\n",
       " 'C',\n",
       " 'C',\n",
       " 'N',\n",
       " 'N',\n",
       " 'N',\n",
       " 'N',\n",
       " 'C',\n",
       " 'C',\n",
       " 'C',\n",
       " 'C',\n",
       " 'C',\n",
       " 'C',\n",
       " 'C',\n",
       " 'C',\n",
       " 'C',\n",
       " 'C',\n",
       " 'C',\n",
       " 'C',\n",
       " 'C',\n",
       " 'C',\n",
       " 'C',\n",
       " 'C',\n",
       " 'C',\n",
       " 'C',\n",
       " 'N',\n",
       " 'N',\n",
       " 'C',\n",
       " 'C',\n",
       " 'C',\n",
       " 'C',\n",
       " 'C',\n",
       " 'C',\n",
       " 'C',\n",
       " 'C',\n",
       " 'C',\n",
       " 'C',\n",
       " 'C',\n",
       " 'C',\n",
       " 'C',\n",
       " 'C',\n",
       " 'C',\n",
       " 'C',\n",
       " 'C',\n",
       " 'C',\n",
       " 'O',\n",
       " 'O',\n",
       " 'O',\n",
       " 'O']"
      ]
     },
     "execution_count": 208,
     "metadata": {},
     "output_type": "execute_result"
    }
   ],
   "source": [
    "pos_ls"
   ]
  },
  {
   "cell_type": "code",
   "execution_count": 207,
   "metadata": {
    "scrolled": true
   },
   "outputs": [
    {
     "data": {
      "text/plain": [
       "['C']"
      ]
     },
     "execution_count": 207,
     "metadata": {},
     "output_type": "execute_result"
    }
   ],
   "source": [
    "[y for x,y in zip(ref_coor,pos_ls[0])]"
   ]
  },
  {
   "cell_type": "code",
   "execution_count": 191,
   "metadata": {},
   "outputs": [
    {
     "data": {
      "text/plain": [
       "{'C': 0, 'N': 1, 'O': 2}"
      ]
     },
     "execution_count": 191,
     "metadata": {},
     "output_type": "execute_result"
    }
   ],
   "source": [
    "elem_dic"
   ]
  },
  {
   "cell_type": "code",
   "execution_count": 182,
   "metadata": {
    "collapsed": true
   },
   "outputs": [
    {
     "data": {
      "text/plain": [
       "['C',\n",
       " 'C',\n",
       " 'C',\n",
       " 'C',\n",
       " 'C',\n",
       " 'C',\n",
       " 'C',\n",
       " 'C',\n",
       " 'C',\n",
       " 'C',\n",
       " 'C',\n",
       " 'C',\n",
       " 'C',\n",
       " 'N',\n",
       " 'N',\n",
       " 'C',\n",
       " 'C',\n",
       " 'C',\n",
       " 'O',\n",
       " 'O',\n",
       " 'C',\n",
       " 'C',\n",
       " 'C',\n",
       " 'C',\n",
       " 'C',\n",
       " 'C',\n",
       " 'N',\n",
       " 'C',\n",
       " 'N',\n",
       " 'C',\n",
       " 'C',\n",
       " 'C',\n",
       " 'N',\n",
       " 'N',\n",
       " 'N',\n",
       " 'N',\n",
       " 'C',\n",
       " 'C',\n",
       " 'C',\n",
       " 'C',\n",
       " 'C',\n",
       " 'C',\n",
       " 'C',\n",
       " 'C',\n",
       " 'C',\n",
       " 'C',\n",
       " 'C',\n",
       " 'C',\n",
       " 'C',\n",
       " 'C',\n",
       " 'C',\n",
       " 'C',\n",
       " 'C',\n",
       " 'C',\n",
       " 'C',\n",
       " 'C',\n",
       " 'C',\n",
       " 'C',\n",
       " 'C',\n",
       " 'C',\n",
       " 'N',\n",
       " 'N',\n",
       " 'N',\n",
       " 'N',\n",
       " 'C',\n",
       " 'C',\n",
       " 'C',\n",
       " 'C',\n",
       " 'C',\n",
       " 'C',\n",
       " 'C',\n",
       " 'C',\n",
       " 'C',\n",
       " 'C',\n",
       " 'C',\n",
       " 'C',\n",
       " 'C',\n",
       " 'C',\n",
       " 'C',\n",
       " 'C',\n",
       " 'C',\n",
       " 'C',\n",
       " 'C',\n",
       " 'C',\n",
       " 'C',\n",
       " 'C',\n",
       " 'C',\n",
       " 'C',\n",
       " 'C',\n",
       " 'C',\n",
       " 'C',\n",
       " 'C',\n",
       " 'O',\n",
       " 'O',\n",
       " 'O',\n",
       " 'O']"
      ]
     },
     "execution_count": 182,
     "metadata": {},
     "output_type": "execute_result"
    }
   ],
   "source": [
    "sym_ls"
   ]
  },
  {
   "cell_type": "code",
   "execution_count": 181,
   "metadata": {
    "collapsed": true
   },
   "outputs": [
    {
     "ename": "TypeError",
     "evalue": "unsupported operand type(s) for -: 'list' and 'list'",
     "output_type": "error",
     "traceback": [
      "\u001b[0;31m---------------------------------------------------------------------------\u001b[0m",
      "\u001b[0;31mTypeError\u001b[0m                                 Traceback (most recent call last)",
      "\u001b[0;32m<ipython-input-181-312da78096f3>\u001b[0m in \u001b[0;36m<module>\u001b[0;34m\u001b[0m\n\u001b[0;32m----> 1\u001b[0;31m \u001b[0;34m[\u001b[0m\u001b[0;36m1\u001b[0m\u001b[0;34m,\u001b[0m\u001b[0;36m2\u001b[0m\u001b[0;34m,\u001b[0m\u001b[0;36m3\u001b[0m\u001b[0;34m]\u001b[0m \u001b[0;34m-\u001b[0m \u001b[0;34m[\u001b[0m\u001b[0;36m3\u001b[0m\u001b[0;34m,\u001b[0m\u001b[0;36m4\u001b[0m\u001b[0;34m,\u001b[0m\u001b[0;36m5\u001b[0m\u001b[0;34m]\u001b[0m\u001b[0;34m\u001b[0m\u001b[0;34m\u001b[0m\u001b[0m\n\u001b[0m",
      "\u001b[0;31mTypeError\u001b[0m: unsupported operand type(s) for -: 'list' and 'list'"
     ]
    }
   ],
   "source": [
    "[1,2,3] - [3,4,5]"
   ]
  },
  {
   "cell_type": "code",
   "execution_count": 176,
   "metadata": {},
   "outputs": [],
   "source": [
    "sym_ls.remove('H')"
   ]
  },
  {
   "cell_type": "code",
   "execution_count": 180,
   "metadata": {},
   "outputs": [
    {
     "data": {
      "text/plain": [
       "96"
      ]
     },
     "execution_count": 180,
     "metadata": {},
     "output_type": "execute_result"
    }
   ],
   "source": [
    "len(sym_ls)"
   ]
  },
  {
   "cell_type": "code",
   "execution_count": 160,
   "metadata": {},
   "outputs": [
    {
     "data": {
      "text/plain": [
       "True"
      ]
     },
     "execution_count": 160,
     "metadata": {},
     "output_type": "execute_result"
    }
   ],
   "source": [
    "sym_ls[0] == 'C'"
   ]
  },
  {
   "cell_type": "code",
   "execution_count": 162,
   "metadata": {},
   "outputs": [
    {
     "data": {
      "text/plain": [
       "True"
      ]
     },
     "execution_count": 162,
     "metadata": {},
     "output_type": "execute_result"
    }
   ],
   "source": [
    "'Ru' in sym_ls"
   ]
  },
  {
   "cell_type": "code",
   "execution_count": 164,
   "metadata": {},
   "outputs": [
    {
     "data": {
      "text/plain": [
       "41"
      ]
     },
     "execution_count": 164,
     "metadata": {},
     "output_type": "execute_result"
    }
   ],
   "source": [
    "sym_ls.index('Ru')"
   ]
  },
  {
   "cell_type": "code",
   "execution_count": 150,
   "metadata": {},
   "outputs": [],
   "source": [
    "pos_ls = [list(i) for i in pos_ls]"
   ]
  },
  {
   "cell_type": "code",
   "execution_count": 151,
   "metadata": {},
   "outputs": [
    {
     "data": {
      "text/plain": [
       "[7.30983, 21.2823, 30.32205]"
      ]
     },
     "execution_count": 151,
     "metadata": {},
     "output_type": "execute_result"
    }
   ],
   "source": [
    "pos_ls.pop(0)"
   ]
  },
  {
   "cell_type": "code",
   "execution_count": 152,
   "metadata": {},
   "outputs": [
    {
     "data": {
      "text/plain": [
       "[[8.55066, 21.86115, 30.59235],\n",
       " [7.09512, 19.91601, 30.55461],\n",
       " [6.21639, 22.11921, 29.86407],\n",
       " [9.54567, 21.10023, 31.17834],\n",
       " [8.72763, 22.9143, 30.40977],\n",
       " [8.09217, 19.15203, 31.14315],\n",
       " [6.1455, 19.45293, 30.31338],\n",
       " [6.40509, 22.99131, 28.78746],\n",
       " [4.97046, 22.0269, 30.49392],\n",
       " [9.30291, 19.75587, 31.50015],\n",
       " [10.48254, 21.58167, 31.42926],\n",
       " [7.89786, 18.10908, 31.36194],\n",
       " [5.3244, 23.6895, 28.27542],\n",
       " [7.36848, 23.0724, 28.29837],\n",
       " [3.8913, 22.72968, 29.988],\n",
       " [4.82511, 21.37716, 31.34868],\n",
       " [10.27854, 19.0332, 32.29524],\n",
       " [4.05093, 23.51916, 28.8405],\n",
       " [5.46924, 24.27804, 27.37884],\n",
       " [2.91975, 22.58994, 30.44598],\n",
       " [10.1133, 17.74443, 32.69304],\n",
       " [11.40666, 19.63347, 32.73894],\n",
       " [2.87844, 23.93787, 28.08927],\n",
       " [11.21031, 17.53584, 33.42795],\n",
       " [11.97837, 18.67161, 33.4509],\n",
       " [1.74573, 23.43297, 28.43097],\n",
       " [3.05745, 24.77223, 27.09324],\n",
       " [11.63769, 16.34142, 34.01394],\n",
       " [13.2243, 18.72057, 34.05066],\n",
       " [12.91269, 16.35468, 34.60605],\n",
       " [10.92624, 15.13425, 33.966],\n",
       " [13.69146, 17.54043, 34.61472],\n",
       " [14.12037, 19.8951, 34.02669],\n",
       " [13.46145, 15.20718, 35.07168],\n",
       " [11.51019, 13.96788, 34.48722],\n",
       " [9.94602, 15.0858, 33.50853],\n",
       " [15.03174, 17.48025, 35.07423],\n",
       " [15.42189, 19.77219, 34.52751],\n",
       " [13.78683, 20.83605, 33.60798],\n",
       " [12.80457, 14.01786, 35.02527],\n",
       " [15.49482, 15.49482, 35.50518],\n",
       " [10.97979, 13.02591, 34.43673],\n",
       " [15.87426, 18.54564, 35.03343],\n",
       " [16.09254, 20.62083, 34.49487],\n",
       " [13.28652, 13.11312, 35.36799],\n",
       " [15.92832, 13.46145, 35.79282],\n",
       " [15.20718, 15.92832, 37.53855],\n",
       " [15.92577, 15.03174, 33.51975],\n",
       " [17.48025, 15.92577, 35.96826],\n",
       " [16.89783, 18.44772, 35.3634],\n",
       " [16.39395, 12.91269, 34.64532],\n",
       " [15.97473, 12.80457, 36.98214],\n",
       " [16.35468, 16.39395, 38.08731],\n",
       " [14.01786, 15.97473, 38.19543],\n",
       " [16.38528, 13.69146, 33.45957],\n",
       " [15.96657, 15.87426, 32.45436],\n",
       " [17.54043, 16.38528, 37.30854],\n",
       " [18.54564, 15.96657, 35.12574],\n",
       " [16.98606, 11.63769, 34.65858],\n",
       " [16.51278, 11.51019, 37.03212],\n",
       " [15.63201, 13.28652, 37.88688],\n",
       " [16.34142, 16.98606, 39.36231],\n",
       " [13.96788, 16.51278, 39.48981],\n",
       " [13.11312, 15.63201, 37.71348],\n",
       " [16.94934, 13.2243, 32.27943],\n",
       " [16.47249, 15.42189, 31.22781],\n",
       " [15.6366, 16.89783, 32.55228],\n",
       " [18.72057, 16.94934, 37.7757],\n",
       " [19.77219, 16.47249, 35.57811],\n",
       " [18.44772, 15.6366, 34.10217],\n",
       " [17.57205, 11.21031, 33.46416],\n",
       " [17.034, 10.92624, 35.86575],\n",
       " [16.56327, 10.97979, 37.97409],\n",
       " [17.53584, 17.57205, 39.78969],\n",
       " [15.13425, 17.034, 40.07376],\n",
       " [13.02591, 16.56327, 40.02021],\n",
       " [17.5491, 11.97837, 32.32839],\n",
       " [16.97331, 14.12037, 31.1049],\n",
       " [16.50513, 16.09254, 30.37917],\n",
       " [18.67161, 17.5491, 39.02163],\n",
       " [19.8951, 16.97331, 36.87963],\n",
       " [20.62083, 16.50513, 34.90746],\n",
       " [18.30696, 10.1133, 33.25557],\n",
       " [17.49147, 9.94602, 35.9142],\n",
       " [17.74443, 18.30696, 40.8867],\n",
       " [15.0858, 17.49147, 41.05398],\n",
       " [18.26106, 11.40666, 31.36653],\n",
       " [17.39202, 13.78683, 30.16395],\n",
       " [19.63347, 18.26106, 39.59334],\n",
       " [20.83605, 17.39202, 37.21317],\n",
       " [18.70476, 10.27854, 31.9668],\n",
       " [19.0332, 18.70476, 40.72146],\n",
       " [19.49985, 9.30291, 31.24413],\n",
       " [19.75587, 19.49985, 41.69709],\n",
       " [19.82166, 9.54567, 29.89977],\n",
       " [19.85685, 8.09217, 31.84797],\n",
       " [21.10023, 19.82166, 41.45433],\n",
       " [19.15203, 19.85685, 42.90783],\n",
       " [20.40765, 8.55066, 29.13885],\n",
       " [19.57074, 10.48254, 29.41833],\n",
       " [20.44539, 7.09512, 31.08399],\n",
       " [19.63806, 7.89786, 32.89092],\n",
       " [21.86115, 20.40765, 42.44934],\n",
       " [21.58167, 19.57074, 40.51746],\n",
       " [19.91601, 20.44539, 43.90488],\n",
       " [18.10908, 19.63806, 43.10214],\n",
       " [20.67795, 7.30983, 29.7177],\n",
       " [20.59023, 8.72763, 28.0857],\n",
       " [20.68662, 6.1455, 31.54707],\n",
       " [21.2823, 20.67795, 43.69017],\n",
       " [22.9143, 20.59023, 42.27237],\n",
       " [19.45293, 20.68662, 44.8545],\n",
       " [21.13593, 6.21639, 28.88079],\n",
       " [22.11921, 21.13593, 44.78361],\n",
       " [22.21254, 6.40509, 28.00869],\n",
       " [20.50608, 4.97046, 28.9731],\n",
       " [22.99131, 22.21254, 44.59491],\n",
       " [22.0269, 20.50608, 46.02954],\n",
       " [22.72458, 5.3244, 27.3105],\n",
       " [22.70163, 7.36848, 27.9276],\n",
       " [21.012, 3.8913, 28.27032],\n",
       " [19.65132, 4.82511, 29.62284],\n",
       " [23.6895, 22.72458, 45.6756],\n",
       " [23.0724, 22.70163, 43.63152],\n",
       " [22.72968, 21.012, 47.1087],\n",
       " [21.37716, 19.65132, 46.17489],\n",
       " [22.1595, 4.05093, 27.48084],\n",
       " [23.62116, 5.46924, 26.72196],\n",
       " [20.55402, 2.91975, 28.41006],\n",
       " [23.51916, 22.1595, 46.94907],\n",
       " [24.27804, 23.62116, 45.53076],\n",
       " [22.58994, 20.55402, 48.08025],\n",
       " [22.91073, 2.87844, 27.06213],\n",
       " [23.93787, 22.91073, 48.12156],\n",
       " [22.56903, 1.74573, 27.56703],\n",
       " [23.90676, 3.05745, 26.22777],\n",
       " [23.43297, 22.56903, 49.25427],\n",
       " [24.77223, 23.90676, 47.94255]]"
      ]
     },
     "execution_count": 152,
     "metadata": {},
     "output_type": "execute_result"
    }
   ],
   "source": [
    "pos_ls"
   ]
  },
  {
   "cell_type": "code",
   "execution_count": null,
   "metadata": {},
   "outputs": [],
   "source": []
  }
 ],
 "metadata": {
  "kernelspec": {
   "display_name": "tf2_GPU",
   "language": "python",
   "name": "tf2_gpu"
  },
  "language_info": {
   "codemirror_mode": {
    "name": "ipython",
    "version": 3
   },
   "file_extension": ".py",
   "mimetype": "text/x-python",
   "name": "python",
   "nbconvert_exporter": "python",
   "pygments_lexer": "ipython3",
   "version": "3.6.12"
  },
  "varInspector": {
   "cols": {
    "lenName": 16,
    "lenType": 16,
    "lenVar": 40
   },
   "kernels_config": {
    "python": {
     "delete_cmd_postfix": "",
     "delete_cmd_prefix": "del ",
     "library": "var_list.py",
     "varRefreshCmd": "print(var_dic_list())"
    },
    "r": {
     "delete_cmd_postfix": ") ",
     "delete_cmd_prefix": "rm(",
     "library": "var_list.r",
     "varRefreshCmd": "cat(var_dic_list()) "
    }
   },
   "types_to_exclude": [
    "module",
    "function",
    "builtin_function_or_method",
    "instance",
    "_Feature"
   ],
   "window_display": false
  }
 },
 "nbformat": 4,
 "nbformat_minor": 4
}
